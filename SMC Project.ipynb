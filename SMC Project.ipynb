{
  "cells": [
    {
      "cell_type": "markdown",
      "metadata": {
        "id": "s_kIDA-7h5nJ"
      },
      "source": [
        "# Sentiment Analysis of Drug Reviews Using Natural Language Processing Techniques"
      ]
    },
    {
      "cell_type": "markdown",
      "metadata": {
        "id": "h66niThrihzA"
      },
      "source": [
        "## Problem Statement:\n",
        "\n",
        "This study applies sentiment analysis and textual pattern extraction on drug reviews to identify not only user sentiment but also key factors such as side effects, ineffectiveness, or condition mismatch that contribute to negative medication experiences."
      ]
    },
    {
      "cell_type": "code",
      "execution_count": 50,
      "metadata": {
        "colab": {
          "base_uri": "https://localhost:8080/"
        },
        "id": "z7XHuNugeo6U",
        "outputId": "3bbdf7f9-ff56-49c0-a315-bbeece78ef69"
      },
      "outputs": [
        {
          "name": "stderr",
          "output_type": "stream",
          "text": [
            "[nltk_data] Downloading package stopwords to\n",
            "[nltk_data]     /Users/afreenjunaidah/nltk_data...\n",
            "[nltk_data]   Package stopwords is already up-to-date!\n",
            "[nltk_data] Downloading package wordnet to\n",
            "[nltk_data]     /Users/afreenjunaidah/nltk_data...\n",
            "[nltk_data]   Package wordnet is already up-to-date!\n",
            "[nltk_data] Downloading package omw-1.4 to\n",
            "[nltk_data]     /Users/afreenjunaidah/nltk_data...\n",
            "[nltk_data]   Package omw-1.4 is already up-to-date!\n",
            "[nltk_data] Downloading package punkt to\n",
            "[nltk_data]     /Users/afreenjunaidah/nltk_data...\n",
            "[nltk_data]   Package punkt is already up-to-date!\n",
            "[nltk_data] Downloading package punkt_tab to\n",
            "[nltk_data]     /Users/afreenjunaidah/nltk_data...\n",
            "[nltk_data]   Package punkt_tab is already up-to-date!\n",
            "[nltk_data] Downloading package averaged_perceptron_tagger_eng to\n",
            "[nltk_data]     /Users/afreenjunaidah/nltk_data...\n",
            "[nltk_data]   Package averaged_perceptron_tagger_eng is already up-to-\n",
            "[nltk_data]       date!\n"
          ]
        },
        {
          "data": {
            "text/plain": [
              "True"
            ]
          },
          "execution_count": 50,
          "metadata": {},
          "output_type": "execute_result"
        }
      ],
      "source": [
        "import pandas as pd\n",
        "import re\n",
        "import nltk\n",
        "import string\n",
        "import html\n",
        "from nltk.corpus import stopwords\n",
        "from nltk.tokenize import word_tokenize\n",
        "from nltk.stem import PorterStemmer\n",
        "from nltk.stem import WordNetLemmatizer\n",
        "from sklearn.model_selection import train_test_split\n",
        "\n",
        "# download NLTK resources (do only once)\n",
        "nltk.download('stopwords')\n",
        "nltk.download('wordnet')\n",
        "nltk.download('omw-1.4')\n",
        "nltk.download('punkt')\n",
        "nltk.download('punkt_tab') \n",
        "nltk.download('averaged_perceptron_tagger_eng')"
      ]
    },
    {
      "cell_type": "markdown",
      "metadata": {
        "id": "awBRxxixi_0n"
      },
      "source": [
        "## Basic Data Cleaning"
      ]
    },
    {
      "cell_type": "markdown",
      "metadata": {
        "id": "CF_u8WLilyBc"
      },
      "source": [
        "1. Have basic understanding and cleaning of the data."
      ]
    },
    {
      "cell_type": "code",
      "execution_count": 51,
      "metadata": {
        "colab": {
          "base_uri": "https://localhost:8080/",
          "height": 206
        },
        "id": "WAnoeedNesqe",
        "outputId": "51098749-c19a-4d28-9f7c-9efdf35da3e0"
      },
      "outputs": [
        {
          "data": {
            "text/html": [
              "<div>\n",
              "<style scoped>\n",
              "    .dataframe tbody tr th:only-of-type {\n",
              "        vertical-align: middle;\n",
              "    }\n",
              "\n",
              "    .dataframe tbody tr th {\n",
              "        vertical-align: top;\n",
              "    }\n",
              "\n",
              "    .dataframe thead th {\n",
              "        text-align: right;\n",
              "    }\n",
              "</style>\n",
              "<table border=\"1\" class=\"dataframe\">\n",
              "  <thead>\n",
              "    <tr style=\"text-align: right;\">\n",
              "      <th></th>\n",
              "      <th>Unnamed: 0</th>\n",
              "      <th>drugName</th>\n",
              "      <th>condition</th>\n",
              "      <th>review</th>\n",
              "      <th>rating</th>\n",
              "      <th>date</th>\n",
              "      <th>usefulCount</th>\n",
              "    </tr>\n",
              "  </thead>\n",
              "  <tbody>\n",
              "    <tr>\n",
              "      <th>0</th>\n",
              "      <td>206461</td>\n",
              "      <td>Valsartan</td>\n",
              "      <td>Left Ventricular Dysfunction</td>\n",
              "      <td>\"It has no side effect, I take it in combination of Bystolic 5 Mg and Fish Oil\"</td>\n",
              "      <td>9.0</td>\n",
              "      <td>May 20, 2012</td>\n",
              "      <td>27</td>\n",
              "    </tr>\n",
              "    <tr>\n",
              "      <th>1</th>\n",
              "      <td>95260</td>\n",
              "      <td>Guanfacine</td>\n",
              "      <td>ADHD</td>\n",
              "      <td>\"My son is halfway through his fourth week of Intuniv. We became concerned when he began this last week, when he started taking the highest dose he will be on. For two days, he could hardly get out of bed, was very cranky, and slept for nearly 8 hours on a drive home from school vacation (very unusual for him.) I called his doctor on Monday morning and she said to stick it out a few days. See how he did at school, and with getting up in the morning. The last two days have been problem free. He is MUCH more agreeable than ever. He is less emotional (a good thing), less cranky. He is remembering all the things he should. Overall his behavior is better. \\r\\nWe have tried many different medications and so far this is the most effective.\"</td>\n",
              "      <td>8.0</td>\n",
              "      <td>April 27, 2010</td>\n",
              "      <td>192</td>\n",
              "    </tr>\n",
              "    <tr>\n",
              "      <th>2</th>\n",
              "      <td>92703</td>\n",
              "      <td>Lybrel</td>\n",
              "      <td>Birth Control</td>\n",
              "      <td>\"I used to take another oral contraceptive, which had 21 pill cycle, and was very happy- very light periods, max 5 days, no other side effects. But it contained hormone gestodene, which is not available in US, so I switched to Lybrel, because the ingredients are similar. When my other pills ended, I started Lybrel immediately, on my first day of period, as the instructions said. And the period lasted for two weeks. When taking the second pack- same two weeks. And now, with third pack things got even worse- my third period lasted for two weeks and now it&amp;#039;s the end of the third week- I still have daily brown discharge.\\r\\nThe positive side is that I didn&amp;#039;t have any other side effects. The idea of being period free was so tempting... Alas.\"</td>\n",
              "      <td>5.0</td>\n",
              "      <td>December 14, 2009</td>\n",
              "      <td>17</td>\n",
              "    </tr>\n",
              "    <tr>\n",
              "      <th>3</th>\n",
              "      <td>138000</td>\n",
              "      <td>Ortho Evra</td>\n",
              "      <td>Birth Control</td>\n",
              "      <td>\"This is my first time using any form of birth control. I&amp;#039;m glad I went with the patch, I have been on it for 8 months. At first It decreased my libido but that subsided. The only downside is that it made my periods longer (5-6 days to be exact) I used to only have periods for 3-4 days max also made my cramps intense for the first two days of my period, I never had cramps before using birth control. Other than that in happy with the patch\"</td>\n",
              "      <td>8.0</td>\n",
              "      <td>November 3, 2015</td>\n",
              "      <td>10</td>\n",
              "    </tr>\n",
              "    <tr>\n",
              "      <th>4</th>\n",
              "      <td>35696</td>\n",
              "      <td>Buprenorphine / naloxone</td>\n",
              "      <td>Opiate Dependence</td>\n",
              "      <td>\"Suboxone has completely turned my life around.  I feel healthier, I&amp;#039;m excelling at my job and I always have money in my pocket and my savings account.  I had none of those before Suboxone and spent years abusing oxycontin.  My paycheck was already spent by the time I got it and I started resorting to scheming and stealing to fund my addiction.  All that is history.  If you&amp;#039;re ready to stop, there&amp;#039;s a good chance that suboxone will put you on the path of great life again.  I have found the side-effects to be minimal compared to oxycontin.  I&amp;#039;m actually sleeping better.   Slight constipation is about it for me.  It truly is amazing. The cost pales in comparison to what I spent on oxycontin.\"</td>\n",
              "      <td>9.0</td>\n",
              "      <td>November 27, 2016</td>\n",
              "      <td>37</td>\n",
              "    </tr>\n",
              "  </tbody>\n",
              "</table>\n",
              "</div>"
            ],
            "text/plain": [
              "   Unnamed: 0                  drugName                     condition  \\\n",
              "0      206461                 Valsartan  Left Ventricular Dysfunction   \n",
              "1       95260                Guanfacine                          ADHD   \n",
              "2       92703                    Lybrel                 Birth Control   \n",
              "3      138000                Ortho Evra                 Birth Control   \n",
              "4       35696  Buprenorphine / naloxone             Opiate Dependence   \n",
              "\n",
              "                                                                                                                                                                                                                                                                                                                                                                                                                                                                                                                                                                                                                                                                                                                                                                                  review  \\\n",
              "0                                                                                                                                                                                                                                                                                                                                                                                                                                                                                                                                                                                                                                                                                                        \"It has no side effect, I take it in combination of Bystolic 5 Mg and Fish Oil\"   \n",
              "1                \"My son is halfway through his fourth week of Intuniv. We became concerned when he began this last week, when he started taking the highest dose he will be on. For two days, he could hardly get out of bed, was very cranky, and slept for nearly 8 hours on a drive home from school vacation (very unusual for him.) I called his doctor on Monday morning and she said to stick it out a few days. See how he did at school, and with getting up in the morning. The last two days have been problem free. He is MUCH more agreeable than ever. He is less emotional (a good thing), less cranky. He is remembering all the things he should. Overall his behavior is better. \\r\\nWe have tried many different medications and so far this is the most effective.\"   \n",
              "2  \"I used to take another oral contraceptive, which had 21 pill cycle, and was very happy- very light periods, max 5 days, no other side effects. But it contained hormone gestodene, which is not available in US, so I switched to Lybrel, because the ingredients are similar. When my other pills ended, I started Lybrel immediately, on my first day of period, as the instructions said. And the period lasted for two weeks. When taking the second pack- same two weeks. And now, with third pack things got even worse- my third period lasted for two weeks and now it&#039;s the end of the third week- I still have daily brown discharge.\\r\\nThe positive side is that I didn&#039;t have any other side effects. The idea of being period free was so tempting... Alas.\"   \n",
              "3                                                                                                                                                                                                                                                                                                                       \"This is my first time using any form of birth control. I&#039;m glad I went with the patch, I have been on it for 8 months. At first It decreased my libido but that subsided. The only downside is that it made my periods longer (5-6 days to be exact) I used to only have periods for 3-4 days max also made my cramps intense for the first two days of my period, I never had cramps before using birth control. Other than that in happy with the patch\"   \n",
              "4                                        \"Suboxone has completely turned my life around.  I feel healthier, I&#039;m excelling at my job and I always have money in my pocket and my savings account.  I had none of those before Suboxone and spent years abusing oxycontin.  My paycheck was already spent by the time I got it and I started resorting to scheming and stealing to fund my addiction.  All that is history.  If you&#039;re ready to stop, there&#039;s a good chance that suboxone will put you on the path of great life again.  I have found the side-effects to be minimal compared to oxycontin.  I&#039;m actually sleeping better.   Slight constipation is about it for me.  It truly is amazing. The cost pales in comparison to what I spent on oxycontin.\"   \n",
              "\n",
              "   rating               date  usefulCount  \n",
              "0     9.0       May 20, 2012           27  \n",
              "1     8.0     April 27, 2010          192  \n",
              "2     5.0  December 14, 2009           17  \n",
              "3     8.0   November 3, 2015           10  \n",
              "4     9.0  November 27, 2016           37  "
            ]
          },
          "execution_count": 51,
          "metadata": {},
          "output_type": "execute_result"
        }
      ],
      "source": [
        "#df = pd.read_csv('drugsComTrain_raw.tsv' , sep='\\t')\n",
        "df = pd.read_csv('drugsComTrain_raw.tsv', sep='\\t', on_bad_lines='skip')\n",
        "\n",
        "df.head()"
      ]
    },
    {
      "cell_type": "code",
      "execution_count": 52,
      "metadata": {
        "colab": {
          "base_uri": "https://localhost:8080/",
          "height": 206
        },
        "id": "X0uiqnNFjc1J",
        "outputId": "976400e4-aae8-4131-c2f8-01a3b16b1fc5"
      },
      "outputs": [
        {
          "data": {
            "text/html": [
              "<div>\n",
              "<style scoped>\n",
              "    .dataframe tbody tr th:only-of-type {\n",
              "        vertical-align: middle;\n",
              "    }\n",
              "\n",
              "    .dataframe tbody tr th {\n",
              "        vertical-align: top;\n",
              "    }\n",
              "\n",
              "    .dataframe thead th {\n",
              "        text-align: right;\n",
              "    }\n",
              "</style>\n",
              "<table border=\"1\" class=\"dataframe\">\n",
              "  <thead>\n",
              "    <tr style=\"text-align: right;\">\n",
              "      <th></th>\n",
              "      <th>Unnamed: 0</th>\n",
              "      <th>drugName</th>\n",
              "      <th>condition</th>\n",
              "      <th>review</th>\n",
              "      <th>rating</th>\n",
              "      <th>date</th>\n",
              "      <th>usefulCount</th>\n",
              "    </tr>\n",
              "  </thead>\n",
              "  <tbody>\n",
              "    <tr>\n",
              "      <th>161292</th>\n",
              "      <td>191035</td>\n",
              "      <td>Campral</td>\n",
              "      <td>Alcohol Dependence</td>\n",
              "      <td>\"I wrote my first report in Mid-October of 2014.  I have not had any alcohol at all since that post, have reduced my dosage to 1 pill first thing in the morning.  I am a very social person, and entertained a great deal.  I was very very worried that I would relapse if faced with the availability of alcohol.  I have sailed through all my seasonal parties, early spring get togethers and weekly &amp;quot;wings and beer&amp;quot; with friends with not one slip.  My husband and daughter are huge supporters.  As I write this, I have various wines and liquors in my cabinet - serve to guests - and have no interest at all in consuming booze in any form.  Again, I state that Campral saved my life.\"</td>\n",
              "      <td>10.0</td>\n",
              "      <td>May 31, 2015</td>\n",
              "      <td>125</td>\n",
              "    </tr>\n",
              "    <tr>\n",
              "      <th>161293</th>\n",
              "      <td>127085</td>\n",
              "      <td>Metoclopramide</td>\n",
              "      <td>Nausea/Vomiting</td>\n",
              "      <td>\"I was given this in IV before surgey. I immediately became anxious and could not sit still . The PA said &amp;quot;oh yes this happens sometimes&amp;quot;. They had to give me Benadryl to calm me down. It was the worst experience I have had -out of control and jumpy. \"</td>\n",
              "      <td>1.0</td>\n",
              "      <td>November 1, 2011</td>\n",
              "      <td>34</td>\n",
              "    </tr>\n",
              "    <tr>\n",
              "      <th>161294</th>\n",
              "      <td>187382</td>\n",
              "      <td>Orencia</td>\n",
              "      <td>Rheumatoid Arthritis</td>\n",
              "      <td>\"Limited improvement after 4 months, developed bad rash and MD refused to continue medication.\"</td>\n",
              "      <td>2.0</td>\n",
              "      <td>March 15, 2014</td>\n",
              "      <td>35</td>\n",
              "    </tr>\n",
              "    <tr>\n",
              "      <th>161295</th>\n",
              "      <td>47128</td>\n",
              "      <td>Thyroid desiccated</td>\n",
              "      <td>Underactive Thyroid</td>\n",
              "      <td>\"I&amp;#039;ve been on thyroid medication 49 years, I spent my first 38 on Synthroid and various t4 formulas, I could not stand the up and down of Synthroid, it never was steady. Every time I went to the Dr. It was adjusted, it could not regulate me and most Dr&amp;#039;s. Just played with raising and lowering the mg levels. \\r\\nFinally a person I new told me I should see her Dr. I did, and that was the beginning of a beautiful relationship with Armour Thyroid. I&amp;#039;ve never felt better,  my bad symptoms went away, and I feel almost human. It holds me steady for longer periods. sometimes the patient knows best, regardless of what the blood tests say. Armour contains unknown ingredients that can&amp;#039;t be isolated into a synthetic pill form, Armour is natural, and best.\"</td>\n",
              "      <td>10.0</td>\n",
              "      <td>September 19, 2015</td>\n",
              "      <td>79</td>\n",
              "    </tr>\n",
              "    <tr>\n",
              "      <th>161296</th>\n",
              "      <td>215220</td>\n",
              "      <td>Lubiprostone</td>\n",
              "      <td>Constipation, Chronic</td>\n",
              "      <td>\"I&amp;#039;ve had chronic constipation all my adult life. Tried Linzess, it worked for a month then stopped. Doctor started me on Amitiza (24 mg) and it is a miracle. I&amp;#039;ve been on for four months now. After a life of 7-10 days between bowel motions, I now go comfortably 3-4 times per week. No pain, very little gas. It&amp;#039;s a miracle for me.\"</td>\n",
              "      <td>9.0</td>\n",
              "      <td>December 13, 2014</td>\n",
              "      <td>116</td>\n",
              "    </tr>\n",
              "  </tbody>\n",
              "</table>\n",
              "</div>"
            ],
            "text/plain": [
              "        Unnamed: 0            drugName              condition  \\\n",
              "161292      191035             Campral     Alcohol Dependence   \n",
              "161293      127085      Metoclopramide        Nausea/Vomiting   \n",
              "161294      187382             Orencia   Rheumatoid Arthritis   \n",
              "161295       47128  Thyroid desiccated    Underactive Thyroid   \n",
              "161296      215220        Lubiprostone  Constipation, Chronic   \n",
              "\n",
              "                                                                                                                                                                                                                                                                                                                                                                                                                                                                                                                                                                                                                                                                                                                                                                                                        review  \\\n",
              "161292                                                                                       \"I wrote my first report in Mid-October of 2014.  I have not had any alcohol at all since that post, have reduced my dosage to 1 pill first thing in the morning.  I am a very social person, and entertained a great deal.  I was very very worried that I would relapse if faced with the availability of alcohol.  I have sailed through all my seasonal parties, early spring get togethers and weekly &quot;wings and beer&quot; with friends with not one slip.  My husband and daughter are huge supporters.  As I write this, I have various wines and liquors in my cabinet - serve to guests - and have no interest at all in consuming booze in any form.  Again, I state that Campral saved my life.\"   \n",
              "161293                                                                                                                                                                                                                                                                                                                                                                                                                                                                                                                                  \"I was given this in IV before surgey. I immediately became anxious and could not sit still . The PA said &quot;oh yes this happens sometimes&quot;. They had to give me Benadryl to calm me down. It was the worst experience I have had -out of control and jumpy. \"   \n",
              "161294                                                                                                                                                                                                                                                                                                                                                                                                                                                                                                                                                                                                                                                                                                         \"Limited improvement after 4 months, developed bad rash and MD refused to continue medication.\"   \n",
              "161295  \"I&#039;ve been on thyroid medication 49 years, I spent my first 38 on Synthroid and various t4 formulas, I could not stand the up and down of Synthroid, it never was steady. Every time I went to the Dr. It was adjusted, it could not regulate me and most Dr&#039;s. Just played with raising and lowering the mg levels. \\r\\nFinally a person I new told me I should see her Dr. I did, and that was the beginning of a beautiful relationship with Armour Thyroid. I&#039;ve never felt better,  my bad symptoms went away, and I feel almost human. It holds me steady for longer periods. sometimes the patient knows best, regardless of what the blood tests say. Armour contains unknown ingredients that can&#039;t be isolated into a synthetic pill form, Armour is natural, and best.\"   \n",
              "161296                                                                                                                                                                                                                                                                                                                                                                                                                                             \"I&#039;ve had chronic constipation all my adult life. Tried Linzess, it worked for a month then stopped. Doctor started me on Amitiza (24 mg) and it is a miracle. I&#039;ve been on for four months now. After a life of 7-10 days between bowel motions, I now go comfortably 3-4 times per week. No pain, very little gas. It&#039;s a miracle for me.\"   \n",
              "\n",
              "        rating                date  usefulCount  \n",
              "161292    10.0        May 31, 2015          125  \n",
              "161293     1.0    November 1, 2011           34  \n",
              "161294     2.0      March 15, 2014           35  \n",
              "161295    10.0  September 19, 2015           79  \n",
              "161296     9.0   December 13, 2014          116  "
            ]
          },
          "execution_count": 52,
          "metadata": {},
          "output_type": "execute_result"
        }
      ],
      "source": [
        "df.tail()"
      ]
    },
    {
      "cell_type": "code",
      "execution_count": 53,
      "metadata": {
        "colab": {
          "base_uri": "https://localhost:8080/"
        },
        "id": "6SZq8p68e9Bl",
        "outputId": "dcca224d-cbbe-4329-bf84-64011a4541cb"
      },
      "outputs": [
        {
          "name": "stdout",
          "output_type": "stream",
          "text": [
            "<class 'pandas.core.frame.DataFrame'>\n",
            "RangeIndex: 161297 entries, 0 to 161296\n",
            "Data columns (total 7 columns):\n",
            " #   Column       Non-Null Count   Dtype  \n",
            "---  ------       --------------   -----  \n",
            " 0   Unnamed: 0   161297 non-null  int64  \n",
            " 1   drugName     161297 non-null  object \n",
            " 2   condition    160398 non-null  object \n",
            " 3   review       161297 non-null  object \n",
            " 4   rating       161297 non-null  float64\n",
            " 5   date         161297 non-null  object \n",
            " 6   usefulCount  161297 non-null  int64  \n",
            "dtypes: float64(1), int64(2), object(4)\n",
            "memory usage: 8.6+ MB\n"
          ]
        }
      ],
      "source": [
        "#Basic checks\n",
        "df.info()"
      ]
    },
    {
      "cell_type": "code",
      "execution_count": 54,
      "metadata": {
        "colab": {
          "base_uri": "https://localhost:8080/",
          "height": 303
        },
        "id": "HjvMYKhulyBd",
        "outputId": "4cf1e0c4-536e-4be4-b6db-96df22e1ec1e"
      },
      "outputs": [
        {
          "data": {
            "text/plain": [
              "Unnamed: 0       0\n",
              "drugName         0\n",
              "condition      899\n",
              "review           0\n",
              "rating           0\n",
              "date             0\n",
              "usefulCount      0\n",
              "dtype: int64"
            ]
          },
          "execution_count": 54,
          "metadata": {},
          "output_type": "execute_result"
        }
      ],
      "source": [
        "#Check for missing values\n",
        "df.isna().sum()\n"
      ]
    },
    {
      "cell_type": "code",
      "execution_count": 55,
      "metadata": {
        "colab": {
          "base_uri": "https://localhost:8080/",
          "height": 303
        },
        "id": "636JafyvlyBd",
        "outputId": "a97fd526-0c5f-4b68-a2a1-4bded8535d91"
      },
      "outputs": [
        {
          "data": {
            "text/plain": [
              "Unnamed: 0     0\n",
              "drugName       0\n",
              "condition      0\n",
              "review         0\n",
              "rating         0\n",
              "date           0\n",
              "usefulCount    0\n",
              "dtype: int64"
            ]
          },
          "execution_count": 55,
          "metadata": {},
          "output_type": "execute_result"
        }
      ],
      "source": [
        "#Remove missing values as it only contributes to ~0.9% of the data\n",
        "df.dropna(subset=['condition'], inplace=True)\n",
        "#Double check for missing values\n",
        "df.isna().sum()"
      ]
    },
    {
      "cell_type": "code",
      "execution_count": 56,
      "metadata": {
        "id": "xUmczIwwlyBe"
      },
      "outputs": [],
      "source": [
        "#Rename columns\n",
        "df.rename(columns={'Unnamed: 0': 'patient_id'}, inplace=True)"
      ]
    },
    {
      "cell_type": "code",
      "execution_count": 57,
      "metadata": {
        "colab": {
          "base_uri": "https://localhost:8080/"
        },
        "id": "bjO70-GdlyBe",
        "outputId": "6a8f9e7c-bca9-4412-8c79-21ab38f3189d"
      },
      "outputs": [
        {
          "data": {
            "text/plain": [
              "0"
            ]
          },
          "execution_count": 57,
          "metadata": {},
          "output_type": "execute_result"
        }
      ],
      "source": [
        "#Check for duplicates\n",
        "df.duplicated().sum()"
      ]
    },
    {
      "cell_type": "code",
      "execution_count": 58,
      "metadata": {
        "id": "IR0REIfDlyBe"
      },
      "outputs": [],
      "source": [
        "#Change date to proper format\n",
        "df['date'] = pd.to_datetime(df['date'], format='%B %d, %Y')\n"
      ]
    },
    {
      "cell_type": "code",
      "execution_count": 59,
      "metadata": {
        "colab": {
          "base_uri": "https://localhost:8080/"
        },
        "id": "em5TnTHQlyBe",
        "outputId": "f581300a-d829-42f8-bfc4-e21b1ecc2da5"
      },
      "outputs": [
        {
          "name": "stdout",
          "output_type": "stream",
          "text": [
            "<class 'pandas.core.frame.DataFrame'>\n",
            "Index: 160398 entries, 0 to 161296\n",
            "Data columns (total 7 columns):\n",
            " #   Column       Non-Null Count   Dtype         \n",
            "---  ------       --------------   -----         \n",
            " 0   patient_id   160398 non-null  int64         \n",
            " 1   drugName     160398 non-null  object        \n",
            " 2   condition    160398 non-null  object        \n",
            " 3   review       160398 non-null  object        \n",
            " 4   rating       160398 non-null  float64       \n",
            " 5   date         160398 non-null  datetime64[ns]\n",
            " 6   usefulCount  160398 non-null  int64         \n",
            "dtypes: datetime64[ns](1), float64(1), int64(2), object(3)\n",
            "memory usage: 9.8+ MB\n"
          ]
        }
      ],
      "source": [
        "#Final check\n",
        "df.info()"
      ]
    },
    {
      "cell_type": "code",
      "execution_count": 60,
      "metadata": {
        "id": "mNeHZJNBlyBe"
      },
      "outputs": [],
      "source": [
        "#Create copy of cleaned data\n",
        "df2=df.copy()"
      ]
    },
    {
      "cell_type": "code",
      "execution_count": 61,
      "metadata": {
        "colab": {
          "base_uri": "https://localhost:8080/",
          "height": 206
        },
        "id": "C85oj81alyBe",
        "outputId": "62802091-fb43-48ef-fbef-91227d9e1fe2"
      },
      "outputs": [
        {
          "data": {
            "text/html": [
              "<div>\n",
              "<style scoped>\n",
              "    .dataframe tbody tr th:only-of-type {\n",
              "        vertical-align: middle;\n",
              "    }\n",
              "\n",
              "    .dataframe tbody tr th {\n",
              "        vertical-align: top;\n",
              "    }\n",
              "\n",
              "    .dataframe thead th {\n",
              "        text-align: right;\n",
              "    }\n",
              "</style>\n",
              "<table border=\"1\" class=\"dataframe\">\n",
              "  <thead>\n",
              "    <tr style=\"text-align: right;\">\n",
              "      <th></th>\n",
              "      <th>patient_id</th>\n",
              "      <th>drugName</th>\n",
              "      <th>condition</th>\n",
              "      <th>review</th>\n",
              "      <th>rating</th>\n",
              "      <th>date</th>\n",
              "      <th>usefulCount</th>\n",
              "    </tr>\n",
              "  </thead>\n",
              "  <tbody>\n",
              "    <tr>\n",
              "      <th>0</th>\n",
              "      <td>206461</td>\n",
              "      <td>Valsartan</td>\n",
              "      <td>Left Ventricular Dysfunction</td>\n",
              "      <td>\"It has no side effect, I take it in combination of Bystolic 5 Mg and Fish Oil\"</td>\n",
              "      <td>9.0</td>\n",
              "      <td>2012-05-20</td>\n",
              "      <td>27</td>\n",
              "    </tr>\n",
              "    <tr>\n",
              "      <th>1</th>\n",
              "      <td>95260</td>\n",
              "      <td>Guanfacine</td>\n",
              "      <td>ADHD</td>\n",
              "      <td>\"My son is halfway through his fourth week of Intuniv. We became concerned when he began this last week, when he started taking the highest dose he will be on. For two days, he could hardly get out of bed, was very cranky, and slept for nearly 8 hours on a drive home from school vacation (very unusual for him.) I called his doctor on Monday morning and she said to stick it out a few days. See how he did at school, and with getting up in the morning. The last two days have been problem free. He is MUCH more agreeable than ever. He is less emotional (a good thing), less cranky. He is remembering all the things he should. Overall his behavior is better. \\r\\nWe have tried many different medications and so far this is the most effective.\"</td>\n",
              "      <td>8.0</td>\n",
              "      <td>2010-04-27</td>\n",
              "      <td>192</td>\n",
              "    </tr>\n",
              "    <tr>\n",
              "      <th>2</th>\n",
              "      <td>92703</td>\n",
              "      <td>Lybrel</td>\n",
              "      <td>Birth Control</td>\n",
              "      <td>\"I used to take another oral contraceptive, which had 21 pill cycle, and was very happy- very light periods, max 5 days, no other side effects. But it contained hormone gestodene, which is not available in US, so I switched to Lybrel, because the ingredients are similar. When my other pills ended, I started Lybrel immediately, on my first day of period, as the instructions said. And the period lasted for two weeks. When taking the second pack- same two weeks. And now, with third pack things got even worse- my third period lasted for two weeks and now it&amp;#039;s the end of the third week- I still have daily brown discharge.\\r\\nThe positive side is that I didn&amp;#039;t have any other side effects. The idea of being period free was so tempting... Alas.\"</td>\n",
              "      <td>5.0</td>\n",
              "      <td>2009-12-14</td>\n",
              "      <td>17</td>\n",
              "    </tr>\n",
              "    <tr>\n",
              "      <th>3</th>\n",
              "      <td>138000</td>\n",
              "      <td>Ortho Evra</td>\n",
              "      <td>Birth Control</td>\n",
              "      <td>\"This is my first time using any form of birth control. I&amp;#039;m glad I went with the patch, I have been on it for 8 months. At first It decreased my libido but that subsided. The only downside is that it made my periods longer (5-6 days to be exact) I used to only have periods for 3-4 days max also made my cramps intense for the first two days of my period, I never had cramps before using birth control. Other than that in happy with the patch\"</td>\n",
              "      <td>8.0</td>\n",
              "      <td>2015-11-03</td>\n",
              "      <td>10</td>\n",
              "    </tr>\n",
              "    <tr>\n",
              "      <th>4</th>\n",
              "      <td>35696</td>\n",
              "      <td>Buprenorphine / naloxone</td>\n",
              "      <td>Opiate Dependence</td>\n",
              "      <td>\"Suboxone has completely turned my life around.  I feel healthier, I&amp;#039;m excelling at my job and I always have money in my pocket and my savings account.  I had none of those before Suboxone and spent years abusing oxycontin.  My paycheck was already spent by the time I got it and I started resorting to scheming and stealing to fund my addiction.  All that is history.  If you&amp;#039;re ready to stop, there&amp;#039;s a good chance that suboxone will put you on the path of great life again.  I have found the side-effects to be minimal compared to oxycontin.  I&amp;#039;m actually sleeping better.   Slight constipation is about it for me.  It truly is amazing. The cost pales in comparison to what I spent on oxycontin.\"</td>\n",
              "      <td>9.0</td>\n",
              "      <td>2016-11-27</td>\n",
              "      <td>37</td>\n",
              "    </tr>\n",
              "  </tbody>\n",
              "</table>\n",
              "</div>"
            ],
            "text/plain": [
              "   patient_id                  drugName                     condition  \\\n",
              "0      206461                 Valsartan  Left Ventricular Dysfunction   \n",
              "1       95260                Guanfacine                          ADHD   \n",
              "2       92703                    Lybrel                 Birth Control   \n",
              "3      138000                Ortho Evra                 Birth Control   \n",
              "4       35696  Buprenorphine / naloxone             Opiate Dependence   \n",
              "\n",
              "                                                                                                                                                                                                                                                                                                                                                                                                                                                                                                                                                                                                                                                                                                                                                                                  review  \\\n",
              "0                                                                                                                                                                                                                                                                                                                                                                                                                                                                                                                                                                                                                                                                                                        \"It has no side effect, I take it in combination of Bystolic 5 Mg and Fish Oil\"   \n",
              "1                \"My son is halfway through his fourth week of Intuniv. We became concerned when he began this last week, when he started taking the highest dose he will be on. For two days, he could hardly get out of bed, was very cranky, and slept for nearly 8 hours on a drive home from school vacation (very unusual for him.) I called his doctor on Monday morning and she said to stick it out a few days. See how he did at school, and with getting up in the morning. The last two days have been problem free. He is MUCH more agreeable than ever. He is less emotional (a good thing), less cranky. He is remembering all the things he should. Overall his behavior is better. \\r\\nWe have tried many different medications and so far this is the most effective.\"   \n",
              "2  \"I used to take another oral contraceptive, which had 21 pill cycle, and was very happy- very light periods, max 5 days, no other side effects. But it contained hormone gestodene, which is not available in US, so I switched to Lybrel, because the ingredients are similar. When my other pills ended, I started Lybrel immediately, on my first day of period, as the instructions said. And the period lasted for two weeks. When taking the second pack- same two weeks. And now, with third pack things got even worse- my third period lasted for two weeks and now it&#039;s the end of the third week- I still have daily brown discharge.\\r\\nThe positive side is that I didn&#039;t have any other side effects. The idea of being period free was so tempting... Alas.\"   \n",
              "3                                                                                                                                                                                                                                                                                                                       \"This is my first time using any form of birth control. I&#039;m glad I went with the patch, I have been on it for 8 months. At first It decreased my libido but that subsided. The only downside is that it made my periods longer (5-6 days to be exact) I used to only have periods for 3-4 days max also made my cramps intense for the first two days of my period, I never had cramps before using birth control. Other than that in happy with the patch\"   \n",
              "4                                        \"Suboxone has completely turned my life around.  I feel healthier, I&#039;m excelling at my job and I always have money in my pocket and my savings account.  I had none of those before Suboxone and spent years abusing oxycontin.  My paycheck was already spent by the time I got it and I started resorting to scheming and stealing to fund my addiction.  All that is history.  If you&#039;re ready to stop, there&#039;s a good chance that suboxone will put you on the path of great life again.  I have found the side-effects to be minimal compared to oxycontin.  I&#039;m actually sleeping better.   Slight constipation is about it for me.  It truly is amazing. The cost pales in comparison to what I spent on oxycontin.\"   \n",
              "\n",
              "   rating       date  usefulCount  \n",
              "0     9.0 2012-05-20           27  \n",
              "1     8.0 2010-04-27          192  \n",
              "2     5.0 2009-12-14           17  \n",
              "3     8.0 2015-11-03           10  \n",
              "4     9.0 2016-11-27           37  "
            ]
          },
          "execution_count": 61,
          "metadata": {},
          "output_type": "execute_result"
        }
      ],
      "source": [
        "df2.head()"
      ]
    },
    {
      "cell_type": "markdown",
      "metadata": {
        "id": "kHQFq3bDlyBe"
      },
      "source": [
        "## Text Preprocessing "
      ]
    },
    {
      "cell_type": "markdown",
      "metadata": {
        "id": "lLy1WqY9lyBe"
      },
      "source": [
        "1. Sentence Segmentation"
      ]
    },
    {
      "cell_type": "code",
      "execution_count": 62,
      "metadata": {
        "colab": {
          "base_uri": "https://localhost:8080/",
          "height": 327
        },
        "id": "RJxU4hKclyBe",
        "outputId": "74340f51-84ac-4338-e2b9-679c38f7a59c"
      },
      "outputs": [
        {
          "data": {
            "text/html": [
              "<div>\n",
              "<style scoped>\n",
              "    .dataframe tbody tr th:only-of-type {\n",
              "        vertical-align: middle;\n",
              "    }\n",
              "\n",
              "    .dataframe tbody tr th {\n",
              "        vertical-align: top;\n",
              "    }\n",
              "\n",
              "    .dataframe thead th {\n",
              "        text-align: right;\n",
              "    }\n",
              "</style>\n",
              "<table border=\"1\" class=\"dataframe\">\n",
              "  <thead>\n",
              "    <tr style=\"text-align: right;\">\n",
              "      <th></th>\n",
              "      <th>sentences</th>\n",
              "    </tr>\n",
              "  </thead>\n",
              "  <tbody>\n",
              "    <tr>\n",
              "      <th>0</th>\n",
              "      <td>[\"It has no side effect, I take it in combination of Bystolic 5 Mg and Fish Oil\"]</td>\n",
              "    </tr>\n",
              "    <tr>\n",
              "      <th>1</th>\n",
              "      <td>[\"My son is halfway through his fourth week of Intuniv., We became concerned when he began this last week, when he started taking the highest dose he will be on., For two days, he could hardly get out of bed, was very cranky, and slept for nearly 8 hours on a drive home from school vacation (very unusual for him.), I called his doctor on Monday morning and she said to stick it out a few days., See how he did at school, and with getting up in the morning., The last two days have been problem free., He is MUCH more agreeable than ever., He is less emotional (a good thing), less cranky., He is remembering all the things he should., Overall his behavior is better., We have tried many different medications and so far this is the most effective.\"]</td>\n",
              "    </tr>\n",
              "    <tr>\n",
              "      <th>2</th>\n",
              "      <td>[\"I used to take another oral contraceptive, which had 21 pill cycle, and was very happy- very light periods, max 5 days, no other side effects., But it contained hormone gestodene, which is not available in US, so I switched to Lybrel, because the ingredients are similar., When my other pills ended, I started Lybrel immediately, on my first day of period, as the instructions said., And the period lasted for two weeks., When taking the second pack- same two weeks., And now, with third pack things got even worse- my third period lasted for two weeks and now it&amp;#039;s the end of the third week- I still have daily brown discharge., The positive side is that I didn&amp;#039;t have any other side effects., The idea of being period free was so tempting..., Alas.\"]</td>\n",
              "    </tr>\n",
              "    <tr>\n",
              "      <th>3</th>\n",
              "      <td>[\"This is my first time using any form of birth control., I&amp;#039;m glad I went with the patch, I have been on it for 8 months., At first It decreased my libido but that subsided., The only downside is that it made my periods longer (5-6 days to be exact) I used to only have periods for 3-4 days max also made my cramps intense for the first two days of my period, I never had cramps before using birth control., Other than that in happy with the patch\"]</td>\n",
              "    </tr>\n",
              "    <tr>\n",
              "      <th>4</th>\n",
              "      <td>[\"Suboxone has completely turned my life around., I feel healthier, I&amp;#039;m excelling at my job and I always have money in my pocket and my savings account., I had none of those before Suboxone and spent years abusing oxycontin., My paycheck was already spent by the time I got it and I started resorting to scheming and stealing to fund my addiction., All that is history., If you&amp;#039;re ready to stop, there&amp;#039;s a good chance that suboxone will put you on the path of great life again., I have found the side-effects to be minimal compared to oxycontin., I&amp;#039;m actually sleeping better., Slight constipation is about it for me., It truly is amazing., The cost pales in comparison to what I spent on oxycontin.\"]</td>\n",
              "    </tr>\n",
              "  </tbody>\n",
              "</table>\n",
              "</div>"
            ],
            "text/plain": [
              "                                                                                                                                                                                                                                                                                                                                                                                                                                                                                                                                                                                                                                                                                                                                                                                      sentences\n",
              "0                                                                                                                                                                                                                                                                                                                                                                                                                                                                                                                                                                                                                                                                                                             [\"It has no side effect, I take it in combination of Bystolic 5 Mg and Fish Oil\"]\n",
              "1               [\"My son is halfway through his fourth week of Intuniv., We became concerned when he began this last week, when he started taking the highest dose he will be on., For two days, he could hardly get out of bed, was very cranky, and slept for nearly 8 hours on a drive home from school vacation (very unusual for him.), I called his doctor on Monday morning and she said to stick it out a few days., See how he did at school, and with getting up in the morning., The last two days have been problem free., He is MUCH more agreeable than ever., He is less emotional (a good thing), less cranky., He is remembering all the things he should., Overall his behavior is better., We have tried many different medications and so far this is the most effective.\"]\n",
              "2  [\"I used to take another oral contraceptive, which had 21 pill cycle, and was very happy- very light periods, max 5 days, no other side effects., But it contained hormone gestodene, which is not available in US, so I switched to Lybrel, because the ingredients are similar., When my other pills ended, I started Lybrel immediately, on my first day of period, as the instructions said., And the period lasted for two weeks., When taking the second pack- same two weeks., And now, with third pack things got even worse- my third period lasted for two weeks and now it&#039;s the end of the third week- I still have daily brown discharge., The positive side is that I didn&#039;t have any other side effects., The idea of being period free was so tempting..., Alas.\"]\n",
              "3                                                                                                                                                                                                                                                                                                                        [\"This is my first time using any form of birth control., I&#039;m glad I went with the patch, I have been on it for 8 months., At first It decreased my libido but that subsided., The only downside is that it made my periods longer (5-6 days to be exact) I used to only have periods for 3-4 days max also made my cramps intense for the first two days of my period, I never had cramps before using birth control., Other than that in happy with the patch\"]\n",
              "4                                             [\"Suboxone has completely turned my life around., I feel healthier, I&#039;m excelling at my job and I always have money in my pocket and my savings account., I had none of those before Suboxone and spent years abusing oxycontin., My paycheck was already spent by the time I got it and I started resorting to scheming and stealing to fund my addiction., All that is history., If you&#039;re ready to stop, there&#039;s a good chance that suboxone will put you on the path of great life again., I have found the side-effects to be minimal compared to oxycontin., I&#039;m actually sleeping better., Slight constipation is about it for me., It truly is amazing., The cost pales in comparison to what I spent on oxycontin.\"]"
            ]
          },
          "execution_count": 62,
          "metadata": {},
          "output_type": "execute_result"
        }
      ],
      "source": [
        "from nltk.tokenize import sent_tokenize\n",
        "\n",
        "pd.set_option('display.max_colwidth', None)\n",
        "\n",
        "df2['sentences'] = df2['review'].apply(sent_tokenize)\n",
        "df2[['sentences']].head()"
      ]
    },
    {
      "cell_type": "markdown",
      "metadata": {
        "id": "ak8lMhgFlyBf"
      },
      "source": [
        "2. Tokenization"
      ]
    },
    {
      "cell_type": "code",
      "execution_count": 63,
      "metadata": {
        "colab": {
          "base_uri": "https://localhost:8080/",
          "height": 310
        },
        "id": "C9JnDVXElyBf",
        "outputId": "a694af5c-d986-4ed0-990c-158f00190f5f"
      },
      "outputs": [
        {
          "data": {
            "text/html": [
              "<div>\n",
              "<style scoped>\n",
              "    .dataframe tbody tr th:only-of-type {\n",
              "        vertical-align: middle;\n",
              "    }\n",
              "\n",
              "    .dataframe tbody tr th {\n",
              "        vertical-align: top;\n",
              "    }\n",
              "\n",
              "    .dataframe thead th {\n",
              "        text-align: right;\n",
              "    }\n",
              "</style>\n",
              "<table border=\"1\" class=\"dataframe\">\n",
              "  <thead>\n",
              "    <tr style=\"text-align: right;\">\n",
              "      <th></th>\n",
              "      <th>tokens</th>\n",
              "    </tr>\n",
              "  </thead>\n",
              "  <tbody>\n",
              "    <tr>\n",
              "      <th>0</th>\n",
              "      <td>[``, It, has, no, side, effect, ,, I, take, it, in, combination, of, Bystolic, 5, Mg, and, Fish, Oil, '']</td>\n",
              "    </tr>\n",
              "    <tr>\n",
              "      <th>1</th>\n",
              "      <td>[``, My, son, is, halfway, through, his, fourth, week, of, Intuniv, ., We, became, concerned, when, he, began, this, last, week, ,, when, he, started, taking, the, highest, dose, he, will, be, on, ., For, two, days, ,, he, could, hardly, get, out, of, bed, ,, was, very, cranky, ,, and, slept, for, nearly, 8, hours, on, a, drive, home, from, school, vacation, (, very, unusual, for, him, ., ), I, called, his, doctor, on, Monday, morning, and, she, said, to, stick, it, out, a, few, days, ., See, how, he, did, at, school, ,, and, with, getting, up, in, ...]</td>\n",
              "    </tr>\n",
              "    <tr>\n",
              "      <th>2</th>\n",
              "      <td>[``, I, used, to, take, another, oral, contraceptive, ,, which, had, 21, pill, cycle, ,, and, was, very, happy-, very, light, periods, ,, max, 5, days, ,, no, other, side, effects, ., But, it, contained, hormone, gestodene, ,, which, is, not, available, in, US, ,, so, I, switched, to, Lybrel, ,, because, the, ingredients, are, similar, ., When, my, other, pills, ended, ,, I, started, Lybrel, immediately, ,, on, my, first, day, of, period, ,, as, the, instructions, said, ., And, the, period, lasted, for, two, weeks, ., When, taking, the, second, pack-, same, two, weeks, ., And, now, ,, ...]</td>\n",
              "    </tr>\n",
              "    <tr>\n",
              "      <th>3</th>\n",
              "      <td>[``, This, is, my, first, time, using, any, form, of, birth, control, ., I, &amp;, #, 039, ;, m, glad, I, went, with, the, patch, ,, I, have, been, on, it, for, 8, months, ., At, first, It, decreased, my, libido, but, that, subsided, ., The, only, downside, is, that, it, made, my, periods, longer, (, 5-6, days, to, be, exact, ), I, used, to, only, have, periods, for, 3-4, days, max, also, made, my, cramps, intense, for, the, first, two, days, of, my, period, ,, I, never, had, cramps, before, using, birth, control, ., Other, than, that, in, happy, ...]</td>\n",
              "    </tr>\n",
              "    <tr>\n",
              "      <th>4</th>\n",
              "      <td>[``, Suboxone, has, completely, turned, my, life, around, ., I, feel, healthier, ,, I, &amp;, #, 039, ;, m, excelling, at, my, job, and, I, always, have, money, in, my, pocket, and, my, savings, account, ., I, had, none, of, those, before, Suboxone, and, spent, years, abusing, oxycontin, ., My, paycheck, was, already, spent, by, the, time, I, got, it, and, I, started, resorting, to, scheming, and, stealing, to, fund, my, addiction, ., All, that, is, history, ., If, you, &amp;, #, 039, ;, re, ready, to, stop, ,, there, &amp;, #, 039, ;, s, a, good, chance, that, suboxone, ...]</td>\n",
              "    </tr>\n",
              "  </tbody>\n",
              "</table>\n",
              "</div>"
            ],
            "text/plain": [
              "                                                                                                                                                                                                                                                                                                                                                                                                                                                                                                                                                                                                                 tokens\n",
              "0                                                                                                                                                                                                                                                                                                                                                                                                                                                                                                             [``, It, has, no, side, effect, ,, I, take, it, in, combination, of, Bystolic, 5, Mg, and, Fish, Oil, '']\n",
              "1                                       [``, My, son, is, halfway, through, his, fourth, week, of, Intuniv, ., We, became, concerned, when, he, began, this, last, week, ,, when, he, started, taking, the, highest, dose, he, will, be, on, ., For, two, days, ,, he, could, hardly, get, out, of, bed, ,, was, very, cranky, ,, and, slept, for, nearly, 8, hours, on, a, drive, home, from, school, vacation, (, very, unusual, for, him, ., ), I, called, his, doctor, on, Monday, morning, and, she, said, to, stick, it, out, a, few, days, ., See, how, he, did, at, school, ,, and, with, getting, up, in, ...]\n",
              "2  [``, I, used, to, take, another, oral, contraceptive, ,, which, had, 21, pill, cycle, ,, and, was, very, happy-, very, light, periods, ,, max, 5, days, ,, no, other, side, effects, ., But, it, contained, hormone, gestodene, ,, which, is, not, available, in, US, ,, so, I, switched, to, Lybrel, ,, because, the, ingredients, are, similar, ., When, my, other, pills, ended, ,, I, started, Lybrel, immediately, ,, on, my, first, day, of, period, ,, as, the, instructions, said, ., And, the, period, lasted, for, two, weeks, ., When, taking, the, second, pack-, same, two, weeks, ., And, now, ,, ...]\n",
              "3                                             [``, This, is, my, first, time, using, any, form, of, birth, control, ., I, &, #, 039, ;, m, glad, I, went, with, the, patch, ,, I, have, been, on, it, for, 8, months, ., At, first, It, decreased, my, libido, but, that, subsided, ., The, only, downside, is, that, it, made, my, periods, longer, (, 5-6, days, to, be, exact, ), I, used, to, only, have, periods, for, 3-4, days, max, also, made, my, cramps, intense, for, the, first, two, days, of, my, period, ,, I, never, had, cramps, before, using, birth, control, ., Other, than, that, in, happy, ...]\n",
              "4                            [``, Suboxone, has, completely, turned, my, life, around, ., I, feel, healthier, ,, I, &, #, 039, ;, m, excelling, at, my, job, and, I, always, have, money, in, my, pocket, and, my, savings, account, ., I, had, none, of, those, before, Suboxone, and, spent, years, abusing, oxycontin, ., My, paycheck, was, already, spent, by, the, time, I, got, it, and, I, started, resorting, to, scheming, and, stealing, to, fund, my, addiction, ., All, that, is, history, ., If, you, &, #, 039, ;, re, ready, to, stop, ,, there, &, #, 039, ;, s, a, good, chance, that, suboxone, ...]"
            ]
          },
          "execution_count": 63,
          "metadata": {},
          "output_type": "execute_result"
        }
      ],
      "source": [
        "df2['tokens'] = df2['review'].apply(word_tokenize)\n",
        "df2[['tokens']].head()"
      ]
    },
    {
      "cell_type": "markdown",
      "metadata": {
        "id": "k_9BvEAclyBf"
      },
      "source": [
        "3. Case folding"
      ]
    },
    {
      "cell_type": "code",
      "execution_count": 64,
      "metadata": {
        "colab": {
          "base_uri": "https://localhost:8080/"
        },
        "id": "GG4h0WeklyBf",
        "outputId": "53ed534c-03e5-4e0e-c67a-94f4cee94b47"
      },
      "outputs": [
        {
          "name": "stdout",
          "output_type": "stream",
          "text": [
            "                                                                                                                                                                                                                                                                                                                                                                                                                                                                                                                                                                                                           tokens_lower\n",
            "0                                                                                                                                                                                                                                                                                                                                                                                                                                                                                                             [``, it, has, no, side, effect, ,, i, take, it, in, combination, of, bystolic, 5, mg, and, fish, oil, '']\n",
            "1                                       [``, my, son, is, halfway, through, his, fourth, week, of, intuniv, ., we, became, concerned, when, he, began, this, last, week, ,, when, he, started, taking, the, highest, dose, he, will, be, on, ., for, two, days, ,, he, could, hardly, get, out, of, bed, ,, was, very, cranky, ,, and, slept, for, nearly, 8, hours, on, a, drive, home, from, school, vacation, (, very, unusual, for, him, ., ), i, called, his, doctor, on, monday, morning, and, she, said, to, stick, it, out, a, few, days, ., see, how, he, did, at, school, ,, and, with, getting, up, in, ...]\n",
            "2  [``, i, used, to, take, another, oral, contraceptive, ,, which, had, 21, pill, cycle, ,, and, was, very, happy-, very, light, periods, ,, max, 5, days, ,, no, other, side, effects, ., but, it, contained, hormone, gestodene, ,, which, is, not, available, in, us, ,, so, i, switched, to, lybrel, ,, because, the, ingredients, are, similar, ., when, my, other, pills, ended, ,, i, started, lybrel, immediately, ,, on, my, first, day, of, period, ,, as, the, instructions, said, ., and, the, period, lasted, for, two, weeks, ., when, taking, the, second, pack-, same, two, weeks, ., and, now, ,, ...]\n",
            "3                                             [``, this, is, my, first, time, using, any, form, of, birth, control, ., i, &, #, 039, ;, m, glad, i, went, with, the, patch, ,, i, have, been, on, it, for, 8, months, ., at, first, it, decreased, my, libido, but, that, subsided, ., the, only, downside, is, that, it, made, my, periods, longer, (, 5-6, days, to, be, exact, ), i, used, to, only, have, periods, for, 3-4, days, max, also, made, my, cramps, intense, for, the, first, two, days, of, my, period, ,, i, never, had, cramps, before, using, birth, control, ., other, than, that, in, happy, ...]\n",
            "4                            [``, suboxone, has, completely, turned, my, life, around, ., i, feel, healthier, ,, i, &, #, 039, ;, m, excelling, at, my, job, and, i, always, have, money, in, my, pocket, and, my, savings, account, ., i, had, none, of, those, before, suboxone, and, spent, years, abusing, oxycontin, ., my, paycheck, was, already, spent, by, the, time, i, got, it, and, i, started, resorting, to, scheming, and, stealing, to, fund, my, addiction, ., all, that, is, history, ., if, you, &, #, 039, ;, re, ready, to, stop, ,, there, &, #, 039, ;, s, a, good, chance, that, suboxone, ...]\n",
            "                                                                                                                                                                                                                                                                                                                                                                                                                                                                                                                                                                                                           tokens_upper\n",
            "0                                                                                                                                                                                                                                                                                                                                                                                                                                                                                                             [``, IT, HAS, NO, SIDE, EFFECT, ,, I, TAKE, IT, IN, COMBINATION, OF, BYSTOLIC, 5, MG, AND, FISH, OIL, '']\n",
            "1                                       [``, MY, SON, IS, HALFWAY, THROUGH, HIS, FOURTH, WEEK, OF, INTUNIV, ., WE, BECAME, CONCERNED, WHEN, HE, BEGAN, THIS, LAST, WEEK, ,, WHEN, HE, STARTED, TAKING, THE, HIGHEST, DOSE, HE, WILL, BE, ON, ., FOR, TWO, DAYS, ,, HE, COULD, HARDLY, GET, OUT, OF, BED, ,, WAS, VERY, CRANKY, ,, AND, SLEPT, FOR, NEARLY, 8, HOURS, ON, A, DRIVE, HOME, FROM, SCHOOL, VACATION, (, VERY, UNUSUAL, FOR, HIM, ., ), I, CALLED, HIS, DOCTOR, ON, MONDAY, MORNING, AND, SHE, SAID, TO, STICK, IT, OUT, A, FEW, DAYS, ., SEE, HOW, HE, DID, AT, SCHOOL, ,, AND, WITH, GETTING, UP, IN, ...]\n",
            "2  [``, I, USED, TO, TAKE, ANOTHER, ORAL, CONTRACEPTIVE, ,, WHICH, HAD, 21, PILL, CYCLE, ,, AND, WAS, VERY, HAPPY-, VERY, LIGHT, PERIODS, ,, MAX, 5, DAYS, ,, NO, OTHER, SIDE, EFFECTS, ., BUT, IT, CONTAINED, HORMONE, GESTODENE, ,, WHICH, IS, NOT, AVAILABLE, IN, US, ,, SO, I, SWITCHED, TO, LYBREL, ,, BECAUSE, THE, INGREDIENTS, ARE, SIMILAR, ., WHEN, MY, OTHER, PILLS, ENDED, ,, I, STARTED, LYBREL, IMMEDIATELY, ,, ON, MY, FIRST, DAY, OF, PERIOD, ,, AS, THE, INSTRUCTIONS, SAID, ., AND, THE, PERIOD, LASTED, FOR, TWO, WEEKS, ., WHEN, TAKING, THE, SECOND, PACK-, SAME, TWO, WEEKS, ., AND, NOW, ,, ...]\n",
            "3                                             [``, THIS, IS, MY, FIRST, TIME, USING, ANY, FORM, OF, BIRTH, CONTROL, ., I, &, #, 039, ;, M, GLAD, I, WENT, WITH, THE, PATCH, ,, I, HAVE, BEEN, ON, IT, FOR, 8, MONTHS, ., AT, FIRST, IT, DECREASED, MY, LIBIDO, BUT, THAT, SUBSIDED, ., THE, ONLY, DOWNSIDE, IS, THAT, IT, MADE, MY, PERIODS, LONGER, (, 5-6, DAYS, TO, BE, EXACT, ), I, USED, TO, ONLY, HAVE, PERIODS, FOR, 3-4, DAYS, MAX, ALSO, MADE, MY, CRAMPS, INTENSE, FOR, THE, FIRST, TWO, DAYS, OF, MY, PERIOD, ,, I, NEVER, HAD, CRAMPS, BEFORE, USING, BIRTH, CONTROL, ., OTHER, THAN, THAT, IN, HAPPY, ...]\n",
            "4                            [``, SUBOXONE, HAS, COMPLETELY, TURNED, MY, LIFE, AROUND, ., I, FEEL, HEALTHIER, ,, I, &, #, 039, ;, M, EXCELLING, AT, MY, JOB, AND, I, ALWAYS, HAVE, MONEY, IN, MY, POCKET, AND, MY, SAVINGS, ACCOUNT, ., I, HAD, NONE, OF, THOSE, BEFORE, SUBOXONE, AND, SPENT, YEARS, ABUSING, OXYCONTIN, ., MY, PAYCHECK, WAS, ALREADY, SPENT, BY, THE, TIME, I, GOT, IT, AND, I, STARTED, RESORTING, TO, SCHEMING, AND, STEALING, TO, FUND, MY, ADDICTION, ., ALL, THAT, IS, HISTORY, ., IF, YOU, &, #, 039, ;, RE, READY, TO, STOP, ,, THERE, &, #, 039, ;, S, A, GOOD, CHANCE, THAT, SUBOXONE, ...]\n"
          ]
        }
      ],
      "source": [
        "#lowercasing\n",
        "df2['tokens_lower'] = df2['tokens'].apply(lambda x: [word.lower() for word in x])\n",
        "print(df2[['tokens_lower']].head())\n",
        "\n",
        "#uppercasing\n",
        "df2['tokens_upper'] = df2['tokens'].apply(lambda x: [word.upper() for word in x])\n",
        "print(df2[['tokens_upper']].head())\n",
        "\n"
      ]
    },
    {
      "cell_type": "markdown",
      "metadata": {
        "id": "l1CTtEGUlyBf"
      },
      "source": [
        "4. Punctuation Removal"
      ]
    },
    {
      "cell_type": "code",
      "execution_count": 65,
      "metadata": {
        "colab": {
          "base_uri": "https://localhost:8080/",
          "height": 327
        },
        "id": "FJxjnrrelyBf",
        "outputId": "7478a2d9-f664-47ff-e295-7d610e6d105d"
      },
      "outputs": [
        {
          "data": {
            "text/html": [
              "<div>\n",
              "<style scoped>\n",
              "    .dataframe tbody tr th:only-of-type {\n",
              "        vertical-align: middle;\n",
              "    }\n",
              "\n",
              "    .dataframe tbody tr th {\n",
              "        vertical-align: top;\n",
              "    }\n",
              "\n",
              "    .dataframe thead th {\n",
              "        text-align: right;\n",
              "    }\n",
              "</style>\n",
              "<table border=\"1\" class=\"dataframe\">\n",
              "  <thead>\n",
              "    <tr style=\"text-align: right;\">\n",
              "      <th></th>\n",
              "      <th>tokens_no_punct</th>\n",
              "    </tr>\n",
              "  </thead>\n",
              "  <tbody>\n",
              "    <tr>\n",
              "      <th>0</th>\n",
              "      <td>[``, it, has, no, side, effect, i, take, it, in, combination, of, bystolic, 5, mg, and, fish, oil, '']</td>\n",
              "    </tr>\n",
              "    <tr>\n",
              "      <th>1</th>\n",
              "      <td>[``, my, son, is, halfway, through, his, fourth, week, of, intuniv, we, became, concerned, when, he, began, this, last, week, when, he, started, taking, the, highest, dose, he, will, be, on, for, two, days, he, could, hardly, get, out, of, bed, was, very, cranky, and, slept, for, nearly, 8, hours, on, a, drive, home, from, school, vacation, very, unusual, for, him, i, called, his, doctor, on, monday, morning, and, she, said, to, stick, it, out, a, few, days, see, how, he, did, at, school, and, with, getting, up, in, the, morning, the, last, two, days, have, been, problem, free, he, ...]</td>\n",
              "    </tr>\n",
              "    <tr>\n",
              "      <th>2</th>\n",
              "      <td>[``, i, used, to, take, another, oral, contraceptive, which, had, 21, pill, cycle, and, was, very, happy-, very, light, periods, max, 5, days, no, other, side, effects, but, it, contained, hormone, gestodene, which, is, not, available, in, us, so, i, switched, to, lybrel, because, the, ingredients, are, similar, when, my, other, pills, ended, i, started, lybrel, immediately, on, my, first, day, of, period, as, the, instructions, said, and, the, period, lasted, for, two, weeks, when, taking, the, second, pack-, same, two, weeks, and, now, with, third, pack, things, got, even, worse-, my, third, period, lasted, for, two, weeks, and, now, ...]</td>\n",
              "    </tr>\n",
              "    <tr>\n",
              "      <th>3</th>\n",
              "      <td>[``, this, is, my, first, time, using, any, form, of, birth, control, i, 039, m, glad, i, went, with, the, patch, i, have, been, on, it, for, 8, months, at, first, it, decreased, my, libido, but, that, subsided, the, only, downside, is, that, it, made, my, periods, longer, 5-6, days, to, be, exact, i, used, to, only, have, periods, for, 3-4, days, max, also, made, my, cramps, intense, for, the, first, two, days, of, my, period, i, never, had, cramps, before, using, birth, control, other, than, that, in, happy, with, the, patch, '']</td>\n",
              "    </tr>\n",
              "    <tr>\n",
              "      <th>4</th>\n",
              "      <td>[``, suboxone, has, completely, turned, my, life, around, i, feel, healthier, i, 039, m, excelling, at, my, job, and, i, always, have, money, in, my, pocket, and, my, savings, account, i, had, none, of, those, before, suboxone, and, spent, years, abusing, oxycontin, my, paycheck, was, already, spent, by, the, time, i, got, it, and, i, started, resorting, to, scheming, and, stealing, to, fund, my, addiction, all, that, is, history, if, you, 039, re, ready, to, stop, there, 039, s, a, good, chance, that, suboxone, will, put, you, on, the, path, of, great, life, again, i, have, found, the, side-effects, to, ...]</td>\n",
              "    </tr>\n",
              "  </tbody>\n",
              "</table>\n",
              "</div>"
            ],
            "text/plain": [
              "                                                                                                                                                                                                                                                                                                                                                                                                                                                                                                                                                                                                                                                            tokens_no_punct\n",
              "0                                                                                                                                                                                                                                                                                                                                                                                                                                                                                                                                                                    [``, it, has, no, side, effect, i, take, it, in, combination, of, bystolic, 5, mg, and, fish, oil, '']\n",
              "1                                                         [``, my, son, is, halfway, through, his, fourth, week, of, intuniv, we, became, concerned, when, he, began, this, last, week, when, he, started, taking, the, highest, dose, he, will, be, on, for, two, days, he, could, hardly, get, out, of, bed, was, very, cranky, and, slept, for, nearly, 8, hours, on, a, drive, home, from, school, vacation, very, unusual, for, him, i, called, his, doctor, on, monday, morning, and, she, said, to, stick, it, out, a, few, days, see, how, he, did, at, school, and, with, getting, up, in, the, morning, the, last, two, days, have, been, problem, free, he, ...]\n",
              "2  [``, i, used, to, take, another, oral, contraceptive, which, had, 21, pill, cycle, and, was, very, happy-, very, light, periods, max, 5, days, no, other, side, effects, but, it, contained, hormone, gestodene, which, is, not, available, in, us, so, i, switched, to, lybrel, because, the, ingredients, are, similar, when, my, other, pills, ended, i, started, lybrel, immediately, on, my, first, day, of, period, as, the, instructions, said, and, the, period, lasted, for, two, weeks, when, taking, the, second, pack-, same, two, weeks, and, now, with, third, pack, things, got, even, worse-, my, third, period, lasted, for, two, weeks, and, now, ...]\n",
              "3                                                                                                                 [``, this, is, my, first, time, using, any, form, of, birth, control, i, 039, m, glad, i, went, with, the, patch, i, have, been, on, it, for, 8, months, at, first, it, decreased, my, libido, but, that, subsided, the, only, downside, is, that, it, made, my, periods, longer, 5-6, days, to, be, exact, i, used, to, only, have, periods, for, 3-4, days, max, also, made, my, cramps, intense, for, the, first, two, days, of, my, period, i, never, had, cramps, before, using, birth, control, other, than, that, in, happy, with, the, patch, '']\n",
              "4                                  [``, suboxone, has, completely, turned, my, life, around, i, feel, healthier, i, 039, m, excelling, at, my, job, and, i, always, have, money, in, my, pocket, and, my, savings, account, i, had, none, of, those, before, suboxone, and, spent, years, abusing, oxycontin, my, paycheck, was, already, spent, by, the, time, i, got, it, and, i, started, resorting, to, scheming, and, stealing, to, fund, my, addiction, all, that, is, history, if, you, 039, re, ready, to, stop, there, 039, s, a, good, chance, that, suboxone, will, put, you, on, the, path, of, great, life, again, i, have, found, the, side-effects, to, ...]"
            ]
          },
          "execution_count": 65,
          "metadata": {},
          "output_type": "execute_result"
        }
      ],
      "source": [
        "df2['tokens_no_punct'] = df2['tokens_lower'].apply(lambda x: [word for word in x if word not in string.punctuation])\n",
        "df2 [['tokens_no_punct']].head()"
      ]
    },
    {
      "cell_type": "markdown",
      "metadata": {
        "id": "AV4C6YL6lyBf"
      },
      "source": [
        "5. Stopword Removal"
      ]
    },
    {
      "cell_type": "code",
      "execution_count": 66,
      "metadata": {
        "colab": {
          "base_uri": "https://localhost:8080/",
          "height": 327
        },
        "id": "-8wF9txBlyBf",
        "outputId": "7368307c-c3aa-494e-b92d-1cd40578ca06"
      },
      "outputs": [
        {
          "data": {
            "text/html": [
              "<div>\n",
              "<style scoped>\n",
              "    .dataframe tbody tr th:only-of-type {\n",
              "        vertical-align: middle;\n",
              "    }\n",
              "\n",
              "    .dataframe tbody tr th {\n",
              "        vertical-align: top;\n",
              "    }\n",
              "\n",
              "    .dataframe thead th {\n",
              "        text-align: right;\n",
              "    }\n",
              "</style>\n",
              "<table border=\"1\" class=\"dataframe\">\n",
              "  <thead>\n",
              "    <tr style=\"text-align: right;\">\n",
              "      <th></th>\n",
              "      <th>tokens_no_stop</th>\n",
              "    </tr>\n",
              "  </thead>\n",
              "  <tbody>\n",
              "    <tr>\n",
              "      <th>0</th>\n",
              "      <td>[``, It, side, effect, ,, I, take, combination, Bystolic, 5, Mg, Fish, Oil, '']</td>\n",
              "    </tr>\n",
              "    <tr>\n",
              "      <th>1</th>\n",
              "      <td>[``, My, son, halfway, fourth, week, Intuniv, ., We, became, concerned, began, last, week, ,, started, taking, highest, dose, ., For, two, days, ,, could, hardly, get, bed, ,, cranky, ,, slept, nearly, 8, hours, drive, home, school, vacation, (, unusual, ., ), I, called, doctor, Monday, morning, said, stick, days, ., See, school, ,, getting, morning, ., The, last, two, days, problem, free, ., He, MUCH, agreeable, ever, ., He, less, emotional, (, good, thing, ), ,, less, cranky, ., He, remembering, things, ., Overall, behavior, better, ., We, tried, many, different, medications, far, effective, ., '']</td>\n",
              "    </tr>\n",
              "    <tr>\n",
              "      <th>2</th>\n",
              "      <td>[``, I, used, take, another, oral, contraceptive, ,, 21, pill, cycle, ,, happy-, light, periods, ,, max, 5, days, ,, side, effects, ., But, contained, hormone, gestodene, ,, available, US, ,, I, switched, Lybrel, ,, ingredients, similar, ., When, pills, ended, ,, I, started, Lybrel, immediately, ,, first, day, period, ,, instructions, said, ., And, period, lasted, two, weeks, ., When, taking, second, pack-, two, weeks, ., And, ,, third, pack, things, got, even, worse-, third, period, lasted, two, weeks, &amp;, #, 039, ;, end, third, week-, I, still, daily, brown, discharge, ., The, positive, side, I, &amp;, #, 039, ...]</td>\n",
              "    </tr>\n",
              "    <tr>\n",
              "      <th>3</th>\n",
              "      <td>[``, This, first, time, using, form, birth, control, ., I, &amp;, #, 039, ;, glad, I, went, patch, ,, I, 8, months, ., At, first, It, decreased, libido, subsided, ., The, downside, made, periods, longer, (, 5-6, days, exact, ), I, used, periods, 3-4, days, max, also, made, cramps, intense, first, two, days, period, ,, I, never, cramps, using, birth, control, ., Other, happy, patch, '']</td>\n",
              "    </tr>\n",
              "    <tr>\n",
              "      <th>4</th>\n",
              "      <td>[``, Suboxone, completely, turned, life, around, ., I, feel, healthier, ,, I, &amp;, #, 039, ;, excelling, job, I, always, money, pocket, savings, account, ., I, none, Suboxone, spent, years, abusing, oxycontin, ., My, paycheck, already, spent, time, I, got, I, started, resorting, scheming, stealing, fund, addiction, ., All, history, ., If, &amp;, #, 039, ;, ready, stop, ,, &amp;, #, 039, ;, good, chance, suboxone, put, path, great, life, ., I, found, side-effects, minimal, compared, oxycontin, ., I, &amp;, #, 039, ;, actually, sleeping, better, ., Slight, constipation, ., It, truly, amazing, ., The, cost, pales, comparison, I, spent, ...]</td>\n",
              "    </tr>\n",
              "  </tbody>\n",
              "</table>\n",
              "</div>"
            ],
            "text/plain": [
              "                                                                                                                                                                                                                                                                                                                                                                                                                                                                                                                                                                                                                                            tokens_no_stop\n",
              "0                                                                                                                                                                                                                                                                                                                                                                                                                                                                                                                                                                          [``, It, side, effect, ,, I, take, combination, Bystolic, 5, Mg, Fish, Oil, '']\n",
              "1                          [``, My, son, halfway, fourth, week, Intuniv, ., We, became, concerned, began, last, week, ,, started, taking, highest, dose, ., For, two, days, ,, could, hardly, get, bed, ,, cranky, ,, slept, nearly, 8, hours, drive, home, school, vacation, (, unusual, ., ), I, called, doctor, Monday, morning, said, stick, days, ., See, school, ,, getting, morning, ., The, last, two, days, problem, free, ., He, MUCH, agreeable, ever, ., He, less, emotional, (, good, thing, ), ,, less, cranky, ., He, remembering, things, ., Overall, behavior, better, ., We, tried, many, different, medications, far, effective, ., '']\n",
              "2              [``, I, used, take, another, oral, contraceptive, ,, 21, pill, cycle, ,, happy-, light, periods, ,, max, 5, days, ,, side, effects, ., But, contained, hormone, gestodene, ,, available, US, ,, I, switched, Lybrel, ,, ingredients, similar, ., When, pills, ended, ,, I, started, Lybrel, immediately, ,, first, day, period, ,, instructions, said, ., And, period, lasted, two, weeks, ., When, taking, second, pack-, two, weeks, ., And, ,, third, pack, things, got, even, worse-, third, period, lasted, two, weeks, &, #, 039, ;, end, third, week-, I, still, daily, brown, discharge, ., The, positive, side, I, &, #, 039, ...]\n",
              "3                                                                                                                                                                                                                                                         [``, This, first, time, using, form, birth, control, ., I, &, #, 039, ;, glad, I, went, patch, ,, I, 8, months, ., At, first, It, decreased, libido, subsided, ., The, downside, made, periods, longer, (, 5-6, days, exact, ), I, used, periods, 3-4, days, max, also, made, cramps, intense, first, two, days, period, ,, I, never, cramps, using, birth, control, ., Other, happy, patch, '']\n",
              "4  [``, Suboxone, completely, turned, life, around, ., I, feel, healthier, ,, I, &, #, 039, ;, excelling, job, I, always, money, pocket, savings, account, ., I, none, Suboxone, spent, years, abusing, oxycontin, ., My, paycheck, already, spent, time, I, got, I, started, resorting, scheming, stealing, fund, addiction, ., All, history, ., If, &, #, 039, ;, ready, stop, ,, &, #, 039, ;, good, chance, suboxone, put, path, great, life, ., I, found, side-effects, minimal, compared, oxycontin, ., I, &, #, 039, ;, actually, sleeping, better, ., Slight, constipation, ., It, truly, amazing, ., The, cost, pales, comparison, I, spent, ...]"
            ]
          },
          "execution_count": 66,
          "metadata": {},
          "output_type": "execute_result"
        }
      ],
      "source": [
        "stop_words = set(stopwords.words('english'))\n",
        "df2['tokens_no_stop'] = df2['tokens'].apply(lambda x: [word for word in x if word not in stop_words])\n",
        "df2[['tokens_no_stop']].head()"
      ]
    },
    {
      "cell_type": "markdown",
      "metadata": {
        "id": "e0Fb_DgGlyBf"
      },
      "source": [
        "7. Stemming"
      ]
    },
    {
      "cell_type": "code",
      "execution_count": 67,
      "metadata": {
        "colab": {
          "base_uri": "https://localhost:8080/",
          "height": 275
        },
        "id": "3_3ZLJX0lyBf",
        "outputId": "5956306e-462b-4e02-f18e-606814cb70fb"
      },
      "outputs": [
        {
          "data": {
            "text/html": [
              "<div>\n",
              "<style scoped>\n",
              "    .dataframe tbody tr th:only-of-type {\n",
              "        vertical-align: middle;\n",
              "    }\n",
              "\n",
              "    .dataframe tbody tr th {\n",
              "        vertical-align: top;\n",
              "    }\n",
              "\n",
              "    .dataframe thead th {\n",
              "        text-align: right;\n",
              "    }\n",
              "</style>\n",
              "<table border=\"1\" class=\"dataframe\">\n",
              "  <thead>\n",
              "    <tr style=\"text-align: right;\">\n",
              "      <th></th>\n",
              "      <th>stemmed_tokens</th>\n",
              "    </tr>\n",
              "  </thead>\n",
              "  <tbody>\n",
              "    <tr>\n",
              "      <th>0</th>\n",
              "      <td>[``, it, side, effect, ,, i, take, combin, bystol, 5, mg, fish, oil, '']</td>\n",
              "    </tr>\n",
              "    <tr>\n",
              "      <th>1</th>\n",
              "      <td>[``, my, son, halfway, fourth, week, intuniv, ., we, becam, concern, began, last, week, ,, start, take, highest, dose, ., for, two, day, ,, could, hardli, get, bed, ,, cranki, ,, slept, nearli, 8, hour, drive, home, school, vacat, (, unusu, ., ), i, call, doctor, monday, morn, said, stick, day, ., see, school, ,, get, morn, ., the, last, two, day, problem, free, ., he, much, agreeabl, ever, ., he, less, emot, (, good, thing, ), ,, less, cranki, ., he, rememb, thing, ., overal, behavior, better, ., we, tri, mani, differ, medic, far, effect, ., '']</td>\n",
              "    </tr>\n",
              "    <tr>\n",
              "      <th>2</th>\n",
              "      <td>[``, i, use, take, anoth, oral, contracept, ,, 21, pill, cycl, ,, happy-, light, period, ,, max, 5, day, ,, side, effect, ., but, contain, hormon, gestoden, ,, avail, us, ,, i, switch, lybrel, ,, ingredi, similar, ., when, pill, end, ,, i, start, lybrel, immedi, ,, first, day, period, ,, instruct, said, ., and, period, last, two, week, ., when, take, second, pack-, two, week, ., and, ,, third, pack, thing, got, even, worse-, third, period, last, two, week, &amp;, #, 039, ;, end, third, week-, i, still, daili, brown, discharg, ., the, posit, side, i, &amp;, #, 039, ...]</td>\n",
              "    </tr>\n",
              "    <tr>\n",
              "      <th>3</th>\n",
              "      <td>[``, thi, first, time, use, form, birth, control, ., i, &amp;, #, 039, ;, glad, i, went, patch, ,, i, 8, month, ., at, first, it, decreas, libido, subsid, ., the, downsid, made, period, longer, (, 5-6, day, exact, ), i, use, period, 3-4, day, max, also, made, cramp, intens, first, two, day, period, ,, i, never, cramp, use, birth, control, ., other, happi, patch, '']</td>\n",
              "    </tr>\n",
              "    <tr>\n",
              "      <th>4</th>\n",
              "      <td>[``, suboxon, complet, turn, life, around, ., i, feel, healthier, ,, i, &amp;, #, 039, ;, excel, job, i, alway, money, pocket, save, account, ., i, none, suboxon, spent, year, abus, oxycontin, ., my, paycheck, alreadi, spent, time, i, got, i, start, resort, scheme, steal, fund, addict, ., all, histori, ., if, &amp;, #, 039, ;, readi, stop, ,, &amp;, #, 039, ;, good, chanc, suboxon, put, path, great, life, ., i, found, side-effect, minim, compar, oxycontin, ., i, &amp;, #, 039, ;, actual, sleep, better, ., slight, constip, ., it, truli, amaz, ., the, cost, pale, comparison, i, spent, ...]</td>\n",
              "    </tr>\n",
              "  </tbody>\n",
              "</table>\n",
              "</div>"
            ],
            "text/plain": [
              "                                                                                                                                                                                                                                                                                                                                                                                                                                                                                                                                                                                       stemmed_tokens\n",
              "0                                                                                                                                                                                                                                                                                                                                                                                                                                                                                                                            [``, it, side, effect, ,, i, take, combin, bystol, 5, mg, fish, oil, '']\n",
              "1                            [``, my, son, halfway, fourth, week, intuniv, ., we, becam, concern, began, last, week, ,, start, take, highest, dose, ., for, two, day, ,, could, hardli, get, bed, ,, cranki, ,, slept, nearli, 8, hour, drive, home, school, vacat, (, unusu, ., ), i, call, doctor, monday, morn, said, stick, day, ., see, school, ,, get, morn, ., the, last, two, day, problem, free, ., he, much, agreeabl, ever, ., he, less, emot, (, good, thing, ), ,, less, cranki, ., he, rememb, thing, ., overal, behavior, better, ., we, tri, mani, differ, medic, far, effect, ., '']\n",
              "2             [``, i, use, take, anoth, oral, contracept, ,, 21, pill, cycl, ,, happy-, light, period, ,, max, 5, day, ,, side, effect, ., but, contain, hormon, gestoden, ,, avail, us, ,, i, switch, lybrel, ,, ingredi, similar, ., when, pill, end, ,, i, start, lybrel, immedi, ,, first, day, period, ,, instruct, said, ., and, period, last, two, week, ., when, take, second, pack-, two, week, ., and, ,, third, pack, thing, got, even, worse-, third, period, last, two, week, &, #, 039, ;, end, third, week-, i, still, daili, brown, discharg, ., the, posit, side, i, &, #, 039, ...]\n",
              "3                                                                                                                                                                                                                        [``, thi, first, time, use, form, birth, control, ., i, &, #, 039, ;, glad, i, went, patch, ,, i, 8, month, ., at, first, it, decreas, libido, subsid, ., the, downsid, made, period, longer, (, 5-6, day, exact, ), i, use, period, 3-4, day, max, also, made, cramp, intens, first, two, day, period, ,, i, never, cramp, use, birth, control, ., other, happi, patch, '']\n",
              "4  [``, suboxon, complet, turn, life, around, ., i, feel, healthier, ,, i, &, #, 039, ;, excel, job, i, alway, money, pocket, save, account, ., i, none, suboxon, spent, year, abus, oxycontin, ., my, paycheck, alreadi, spent, time, i, got, i, start, resort, scheme, steal, fund, addict, ., all, histori, ., if, &, #, 039, ;, readi, stop, ,, &, #, 039, ;, good, chanc, suboxon, put, path, great, life, ., i, found, side-effect, minim, compar, oxycontin, ., i, &, #, 039, ;, actual, sleep, better, ., slight, constip, ., it, truli, amaz, ., the, cost, pale, comparison, i, spent, ...]"
            ]
          },
          "execution_count": 67,
          "metadata": {},
          "output_type": "execute_result"
        }
      ],
      "source": [
        "stemmer = PorterStemmer()\n",
        "df2['stemmed_tokens'] = df2['tokens_no_stop'].apply(lambda x: [stemmer.stem(word) for word in x])\n",
        "df2[['stemmed_tokens']].head()\n"
      ]
    },
    {
      "cell_type": "markdown",
      "metadata": {
        "id": "7HX7OjSGlyBg"
      },
      "source": [
        "9. Word Sense Disambiguation"
      ]
    },
    {
      "cell_type": "code",
      "execution_count": 68,
      "metadata": {
        "colab": {
          "base_uri": "https://localhost:8080/",
          "height": 206
        },
        "id": "HRsxfATDlyBg",
        "outputId": "80cee43e-e5b5-4fbd-acd0-1df76549960c"
      },
      "outputs": [],
      "source": [
        "# from nltk.wsd import lesk\n",
        "\n",
        "# df2['wsd'] = df2['review'].apply(lambda x: lesk(word_tokenize(x), 'depression', 'n'))\n",
        "# df2['wsd_def'] = df2['wsd'].apply(lambda x: x.definition() if x else \"No definition found\")\n",
        "\n",
        "# df2[['wsd', 'wsd_def']].head()\n"
      ]
    },
    {
      "cell_type": "code",
      "execution_count": 69,
      "metadata": {},
      "outputs": [],
      "source": [
        "#further remove noise in text\n",
        "\n",
        "def clean_review_text(text):\n",
        "\n",
        "    text = html.unescape(text)  #converts &#039; to ', &quot; to \", etc.\n",
        "    \n",
        "    # Remove escaped characters and line breaks\n",
        "    text = re.sub(r'\\\\r\\\\n|\\\\n|\\\\r', ' ', text)  # Remove line breaks\n",
        "    text = re.sub(r'\\\\t', ' ', text)  # Remove tabs\n",
        "    \n",
        "    # Remove URLs\n",
        "    text = re.sub(r'http\\S+|www\\S+', '', text)\n",
        "    \n",
        "    # Remove email addresses\n",
        "    text = re.sub(r'\\S+@\\S+', '', text)\n",
        "    \n",
        "    # Remove excessive punctuation (keep single instances)\n",
        "    text = re.sub(r'[!]{2,}', '!', text)\n",
        "    text = re.sub(r'[?]{2,}', '?', text)\n",
        "    text = re.sub(r'[.]{3,}', '...', text)\n",
        "    \n",
        "    # Remove special characters but keep basic punctuation\n",
        "    text = re.sub(r'[^\\w\\s!?.,;:()\\-\\']', ' ', text)\n",
        "    \n",
        "    # Fix spacing issues\n",
        "    text = re.sub(r'\\s+', ' ', text)  # Multiple spaces to single space\n",
        "    text = text.strip()  # Remove leading/trailing spaces\n",
        "    \n",
        "    # Handle common abbreviations for better VADER understanding\n",
        "    text = re.sub(r'\\bmg\\b', 'milligrams', text, flags=re.IGNORECASE)\n",
        "    text = re.sub(r'\\bdr\\.?\\b', 'doctor', text, flags=re.IGNORECASE)\n",
        "    text = re.sub(r'\\bw/\\b', 'with', text, flags=re.IGNORECASE)\n",
        "    text = re.sub(r'\\bb/c\\b', 'because', text, flags=re.IGNORECASE)\n",
        "    \n",
        "    return text\n",
        "\n",
        "# Apply cleaning to your reviews\n",
        "df2['review_cleaned'] = df2['review'].apply(clean_review_text)\n"
      ]
    },
    {
      "cell_type": "code",
      "execution_count": 70,
      "metadata": {},
      "outputs": [
        {
          "data": {
            "text/plain": [
              "0                                                                                                                                                                                                                                                                                                                                                                                                                                                                                                                                                                                                                                                                                                It has no side effect, I take it in combination of Bystolic 5 milligrams and Fish Oil\n",
              "1                    My son is halfway through his fourth week of Intuniv. We became concerned when he began this last week, when he started taking the highest dose he will be on. For two days, he could hardly get out of bed, was very cranky, and slept for nearly 8 hours on a drive home from school vacation (very unusual for him.) I called his doctor on Monday morning and she said to stick it out a few days. See how he did at school, and with getting up in the morning. The last two days have been problem free. He is MUCH more agreeable than ever. He is less emotional (a good thing), less cranky. He is remembering all the things he should. Overall his behavior is better. We have tried many different medications and so far this is the most effective.\n",
              "2               I used to take another oral contraceptive, which had 21 pill cycle, and was very happy- very light periods, max 5 days, no other side effects. But it contained hormone gestodene, which is not available in US, so I switched to Lybrel, because the ingredients are similar. When my other pills ended, I started Lybrel immediately, on my first day of period, as the instructions said. And the period lasted for two weeks. When taking the second pack- same two weeks. And now, with third pack things got even worse- my third period lasted for two weeks and now it's the end of the third week- I still have daily brown discharge. The positive side is that I didn't have any other side effects. The idea of being period free was so tempting... Alas.\n",
              "3                                                                                                                                                                                                                                                                                                                            This is my first time using any form of birth control. I'm glad I went with the patch, I have been on it for 8 months. At first It decreased my libido but that subsided. The only downside is that it made my periods longer (5-6 days to be exact) I used to only have periods for 3-4 days max also made my cramps intense for the first two days of my period, I never had cramps before using birth control. Other than that in happy with the patch\n",
              "4                                                                      Suboxone has completely turned my life around. I feel healthier, I'm excelling at my job and I always have money in my pocket and my savings account. I had none of those before Suboxone and spent years abusing oxycontin. My paycheck was already spent by the time I got it and I started resorting to scheming and stealing to fund my addiction. All that is history. If you're ready to stop, there's a good chance that suboxone will put you on the path of great life again. I have found the side-effects to be minimal compared to oxycontin. I'm actually sleeping better. Slight constipation is about it for me. It truly is amazing. The cost pales in comparison to what I spent on oxycontin.\n",
              "5                                                                                                                                                                                                                                                                                                                                                                                              2nd day on 5mg started to work with rock hard erections however experianced headache, lower bowel preassure. 3rd day erections would wake me up hurt! Leg ankles aches severe lower bowel preassure like you need to go 2 but can't! Enjoyed the initial rockhard erections but not at these side effects or 230 for months supply! I'm 50 work out 3Xs a week. Not worth side effects!\n",
              "6                                                                                                                                                                                                                                                                                                                                                                                                                                                                                                                                                                                                                                              He pulled out, but he cummed a bit in me. I took the Plan B 26 hours later, and took a pregnancy test two weeks later - - I'm pregnant.\n",
              "7                            Abilify changed my life. There is hope. I was on Zoloft and Clonidine when I first started Abilify at the age of 15.. Zoloft for depression and Clondine to manage my complete rage. My moods were out of control. I was depressed and hopeless one second and then mean, irrational, and full of rage the next. My doctor. prescribed me 2mg of Abilify and from that point on I feel like I have been cured though I know I'm not.. Bi-polar disorder is a constant battle. I know Abilify works for me because I have tried to get off it and lost complete control over my emotions. Went back on it and I was golden again. I am on 5mg 2x daily. I am now 21 and better than I have ever been in the past. Only side effect is I like to eat a lot.\n",
              "8                                                                                                                                                                                                                                                                                                                                                                                                                                                                                                                                                                                                                      I Ve had nothing but problems with the Keppera : constant shaking in my arms legs pins needles feeling in my arms legs severe light headedness no appetite etc.\n",
              "9                                     I had been on the pill for many years. When my doctor changed my RX to chateal, it was as effective. It really did help me by completely clearing my acne, this takes about 6 months though. I did not gain extra weight, or develop any emotional health issues. I stopped taking it bc I started using a more natural method of birth control, but started to take it bc I hate that my acne came back at age 28. I really hope symptoms like depression, or weight gain do not begin to affect me as I am older now. I'm also naturally moody, so this may worsen things. I was in a negative mental rut today. Also I hope this doesn't push me over the edge, as I believe I am depressed. Hopefully it'll be just like when I was younger.\n",
              "10                                  I have been on this medication almost two weeks, started out on 25mg and working my way up to 100mg, currently at 50mg. No headaches at all so far and I was having 2-3 crippling migraines a week. I have lost 5.2lbs so far but note I am really paying close attention to what I am eating, I have a lot of weight to lose and if weight loss is a side effect I want to help it along as much as I can. Now, other side effects, they are there the word recall issues exist, the memory issues, the worst of it seems to be the vision disturbances, there have been times I have just not driven because I'm sure it would not have been safe. The good news is it seems to be wearing off...I have tons of energy and I am in a great mood.\n",
              "11                                                                                                                                                                                                                                                                                                                I have taken anti-depressants for years, with some improvement but mostly moderate to severe side affects, which makes me go off them. I only take Cymbalta now mostly for pain. When I began Deplin, I noticed a major improvement overnight. More energy, better disposition, and no sinking to the low lows of major depression. I have been taking it for about 3 months now and feel like a normal person for the first time ever. Best thing, no side effects.\n",
              "12                                                                                                                                                                                                                                                                                                                                                                                I had Crohn's with a resection 30 years ago and have been mostly in remission since. Have recently had a bad flare and narrowing at the anastomosis and need to be on medication, but haven't found one that I can handle. Asacol gave me such serious body aching and fatigue that I could not function. Pentasa immediately gave me heart palpitations and arrhythmias so I had to discontinue it.\n",
              "13                                                                                                                                                                                                        Have a little bit of a lingering cough from a cold. Not giving me much trouble except keeps me up at night. I heard this was good so I took so I could get some sleep. Helped tremendously with the cough but then I was having bad stomach cramps and diarrhea. I hadn't eaten anything that should have upset my stomach and it didn't really feel like a bug so I looked up side effects for Delsym. Now I wish I had done that first because I probably wouldn't have taken it. So, while it worked for my cough I still didn't get any sleep due to the stomach issues.\n",
              "14        Started Nexplanon 2 months ago because I have a minimal amount of contraception's I can take due to my inability to take the hormone that is used in most birth controls. I'm trying to give it time because it is one of my only options right now. But honestly if I had options I'd get it removed. I've never had acne problems in my life, and immediately broke out after getting it implanted. Sex drive is completely gone, and I used to have sex with my boyfriend a few days a week, now its completely forced and not even fun for me anymore. I mean I'm on birth control because I like having sex but don't want to get pregnant, why take a birth control that takes away sex? Very unhappy and hope that I get it back with time or I'm getting it removed.\n",
              "15                                        I have been taking Saxenda since July 2016. I had severe nausea for about a month once I got up to the 2.6 dosage. It has since subsided and the only side effect I notice now is the dry mouth. I make sure to drink 2.5 litres of water a day (about 10 glasses). This helps with the weight loss as well as the constipation. I have been reducing my dose to find a comfortable spot where I am still losing weight but don't feel like I am over medicating. For me, 1.8 is working very well. I also feel wearing a Fitbit has really helped. I can track my food, water, exercise and steps - it keeps me moving more. When this started I could barely walk the length of myself without getting winded - I have lost 58 lbs so far.\n",
              "16                                                                                             This drug worked very well for me and cleared up my UTI in a matter of 48hrs, although I was on a 7 day course of 2x200mg daily. Unfortunately once the tablets finished the infection returned so needed a 2nd course. I'm currently taking a low dose at evening to keep the infection at bay while the specialists do some tests. I normally get every side effect going and dread taking new medication in any form especially after an horrific experience with Ciorofloxacin but the only side effect I experienced with this was itchy ankles and feet on day two but that didn't last into third day so I would class this as a minor side effect and insignificant. Good luck.\n",
              "17                                                        I've been taking amitriptyline since January 2013 after being diagnosed with fibromyalgia. I tried cymbalta for a week and my doctor decided that since it kept me awake 24 7 that it wasn't a good fit for me even though it relieved my pain. I started with 25 milligrams. After 2 weeks I had some breakthrough pain, so my doctor increased my dosage to 50mg and I'm still on that dosage today. For the first full year I was on this I never had pain and felt 'cured'. As time went on, it seems to help control my pain. I do still have pain, but at a low manageable level. I take this around 7pm each evening to avoid feeling overly drowsy in the mornings. This med allows me to have a fairly normal life.\n",
              "18    I've been on every medicine under the sun (it seems) to manage the hypomania mania of Bipolar2. Within a few days of starting Lamictal (was on Tegretol) it was as if someone had turned a light on in my head. Is this the way normal people think? was one of the first things that struck me. I sleep like a log, have no irritability, almost no anger (other than what would be considered normal). I am able to focus and my creative, impulsive thoughts have decreased enough to be manageable. It's a God send as I would perennially be in a state of hypo mania, which sounds great, but I was physically and emotionally exhausted. My libido is markedly lower but I wonder if that is perhaps an effect of not being hypo manic. I take 20 milligrams for anxiety.\n",
              "19                                                                                                                                                                                                                                                                                             I have been on Tasigna for just over 3 years now (300mg x 2 times a day) Tasigna worked for me within a few weeks I have been in remission for basically the entire 3 years. As for the side effects, I feel sick to my stomach, tired, severe leg and arm pain, I can't walk to long without needing a break, I went from working full time to not working at all because I am so tired all the time... but hey I am in remission and alive so is all the above really a problem? Nope\n",
              "Name: review_cleaned, dtype: object"
            ]
          },
          "execution_count": 70,
          "metadata": {},
          "output_type": "execute_result"
        }
      ],
      "source": [
        "df2['review_cleaned'].head(20)"
      ]
    },
    {
      "cell_type": "markdown",
      "metadata": {
        "id": "8U5NmMYulyBh"
      },
      "source": [
        "## Part 1: Sentiment Classification Pipeline\n",
        "\n",
        "##### For the pipeline, we intend to apply VADER and transformers (DistilBert) and compare the results with each other and also with the drug rating defined in the dataset."
      ]
    },
    {
      "cell_type": "code",
      "execution_count": 71,
      "metadata": {},
      "outputs": [
        {
          "data": {
            "text/html": [
              "<div>\n",
              "<style scoped>\n",
              "    .dataframe tbody tr th:only-of-type {\n",
              "        vertical-align: middle;\n",
              "    }\n",
              "\n",
              "    .dataframe tbody tr th {\n",
              "        vertical-align: top;\n",
              "    }\n",
              "\n",
              "    .dataframe thead th {\n",
              "        text-align: right;\n",
              "    }\n",
              "</style>\n",
              "<table border=\"1\" class=\"dataframe\">\n",
              "  <thead>\n",
              "    <tr style=\"text-align: right;\">\n",
              "      <th></th>\n",
              "      <th>patient_id</th>\n",
              "      <th>drugName</th>\n",
              "      <th>condition</th>\n",
              "      <th>review</th>\n",
              "      <th>rating</th>\n",
              "      <th>date</th>\n",
              "      <th>usefulCount</th>\n",
              "      <th>sentences</th>\n",
              "      <th>tokens</th>\n",
              "      <th>tokens_lower</th>\n",
              "      <th>tokens_upper</th>\n",
              "      <th>tokens_no_punct</th>\n",
              "      <th>tokens_no_stop</th>\n",
              "      <th>stemmed_tokens</th>\n",
              "      <th>review_cleaned</th>\n",
              "      <th>sentiment_label1</th>\n",
              "    </tr>\n",
              "  </thead>\n",
              "  <tbody>\n",
              "    <tr>\n",
              "      <th>0</th>\n",
              "      <td>206461</td>\n",
              "      <td>Valsartan</td>\n",
              "      <td>Left Ventricular Dysfunction</td>\n",
              "      <td>\"It has no side effect, I take it in combination of Bystolic 5 Mg and Fish Oil\"</td>\n",
              "      <td>9.0</td>\n",
              "      <td>2012-05-20</td>\n",
              "      <td>27</td>\n",
              "      <td>[\"It has no side effect, I take it in combination of Bystolic 5 Mg and Fish Oil\"]</td>\n",
              "      <td>[``, It, has, no, side, effect, ,, I, take, it, in, combination, of, Bystolic, 5, Mg, and, Fish, Oil, '']</td>\n",
              "      <td>[``, it, has, no, side, effect, ,, i, take, it, in, combination, of, bystolic, 5, mg, and, fish, oil, '']</td>\n",
              "      <td>[``, IT, HAS, NO, SIDE, EFFECT, ,, I, TAKE, IT, IN, COMBINATION, OF, BYSTOLIC, 5, MG, AND, FISH, OIL, '']</td>\n",
              "      <td>[``, it, has, no, side, effect, i, take, it, in, combination, of, bystolic, 5, mg, and, fish, oil, '']</td>\n",
              "      <td>[``, It, side, effect, ,, I, take, combination, Bystolic, 5, Mg, Fish, Oil, '']</td>\n",
              "      <td>[``, it, side, effect, ,, i, take, combin, bystol, 5, mg, fish, oil, '']</td>\n",
              "      <td>It has no side effect, I take it in combination of Bystolic 5 milligrams and Fish Oil</td>\n",
              "      <td>positive</td>\n",
              "    </tr>\n",
              "    <tr>\n",
              "      <th>1</th>\n",
              "      <td>95260</td>\n",
              "      <td>Guanfacine</td>\n",
              "      <td>ADHD</td>\n",
              "      <td>\"My son is halfway through his fourth week of Intuniv. We became concerned when he began this last week, when he started taking the highest dose he will be on. For two days, he could hardly get out of bed, was very cranky, and slept for nearly 8 hours on a drive home from school vacation (very unusual for him.) I called his doctor on Monday morning and she said to stick it out a few days. See how he did at school, and with getting up in the morning. The last two days have been problem free. He is MUCH more agreeable than ever. He is less emotional (a good thing), less cranky. He is remembering all the things he should. Overall his behavior is better. \\r\\nWe have tried many different medications and so far this is the most effective.\"</td>\n",
              "      <td>8.0</td>\n",
              "      <td>2010-04-27</td>\n",
              "      <td>192</td>\n",
              "      <td>[\"My son is halfway through his fourth week of Intuniv., We became concerned when he began this last week, when he started taking the highest dose he will be on., For two days, he could hardly get out of bed, was very cranky, and slept for nearly 8 hours on a drive home from school vacation (very unusual for him.), I called his doctor on Monday morning and she said to stick it out a few days., See how he did at school, and with getting up in the morning., The last two days have been problem free., He is MUCH more agreeable than ever., He is less emotional (a good thing), less cranky., He is remembering all the things he should., Overall his behavior is better., We have tried many different medications and so far this is the most effective.\"]</td>\n",
              "      <td>[``, My, son, is, halfway, through, his, fourth, week, of, Intuniv, ., We, became, concerned, when, he, began, this, last, week, ,, when, he, started, taking, the, highest, dose, he, will, be, on, ., For, two, days, ,, he, could, hardly, get, out, of, bed, ,, was, very, cranky, ,, and, slept, for, nearly, 8, hours, on, a, drive, home, from, school, vacation, (, very, unusual, for, him, ., ), I, called, his, doctor, on, Monday, morning, and, she, said, to, stick, it, out, a, few, days, ., See, how, he, did, at, school, ,, and, with, getting, up, in, ...]</td>\n",
              "      <td>[``, my, son, is, halfway, through, his, fourth, week, of, intuniv, ., we, became, concerned, when, he, began, this, last, week, ,, when, he, started, taking, the, highest, dose, he, will, be, on, ., for, two, days, ,, he, could, hardly, get, out, of, bed, ,, was, very, cranky, ,, and, slept, for, nearly, 8, hours, on, a, drive, home, from, school, vacation, (, very, unusual, for, him, ., ), i, called, his, doctor, on, monday, morning, and, she, said, to, stick, it, out, a, few, days, ., see, how, he, did, at, school, ,, and, with, getting, up, in, ...]</td>\n",
              "      <td>[``, MY, SON, IS, HALFWAY, THROUGH, HIS, FOURTH, WEEK, OF, INTUNIV, ., WE, BECAME, CONCERNED, WHEN, HE, BEGAN, THIS, LAST, WEEK, ,, WHEN, HE, STARTED, TAKING, THE, HIGHEST, DOSE, HE, WILL, BE, ON, ., FOR, TWO, DAYS, ,, HE, COULD, HARDLY, GET, OUT, OF, BED, ,, WAS, VERY, CRANKY, ,, AND, SLEPT, FOR, NEARLY, 8, HOURS, ON, A, DRIVE, HOME, FROM, SCHOOL, VACATION, (, VERY, UNUSUAL, FOR, HIM, ., ), I, CALLED, HIS, DOCTOR, ON, MONDAY, MORNING, AND, SHE, SAID, TO, STICK, IT, OUT, A, FEW, DAYS, ., SEE, HOW, HE, DID, AT, SCHOOL, ,, AND, WITH, GETTING, UP, IN, ...]</td>\n",
              "      <td>[``, my, son, is, halfway, through, his, fourth, week, of, intuniv, we, became, concerned, when, he, began, this, last, week, when, he, started, taking, the, highest, dose, he, will, be, on, for, two, days, he, could, hardly, get, out, of, bed, was, very, cranky, and, slept, for, nearly, 8, hours, on, a, drive, home, from, school, vacation, very, unusual, for, him, i, called, his, doctor, on, monday, morning, and, she, said, to, stick, it, out, a, few, days, see, how, he, did, at, school, and, with, getting, up, in, the, morning, the, last, two, days, have, been, problem, free, he, ...]</td>\n",
              "      <td>[``, My, son, halfway, fourth, week, Intuniv, ., We, became, concerned, began, last, week, ,, started, taking, highest, dose, ., For, two, days, ,, could, hardly, get, bed, ,, cranky, ,, slept, nearly, 8, hours, drive, home, school, vacation, (, unusual, ., ), I, called, doctor, Monday, morning, said, stick, days, ., See, school, ,, getting, morning, ., The, last, two, days, problem, free, ., He, MUCH, agreeable, ever, ., He, less, emotional, (, good, thing, ), ,, less, cranky, ., He, remembering, things, ., Overall, behavior, better, ., We, tried, many, different, medications, far, effective, ., '']</td>\n",
              "      <td>[``, my, son, halfway, fourth, week, intuniv, ., we, becam, concern, began, last, week, ,, start, take, highest, dose, ., for, two, day, ,, could, hardli, get, bed, ,, cranki, ,, slept, nearli, 8, hour, drive, home, school, vacat, (, unusu, ., ), i, call, doctor, monday, morn, said, stick, day, ., see, school, ,, get, morn, ., the, last, two, day, problem, free, ., he, much, agreeabl, ever, ., he, less, emot, (, good, thing, ), ,, less, cranki, ., he, rememb, thing, ., overal, behavior, better, ., we, tri, mani, differ, medic, far, effect, ., '']</td>\n",
              "      <td>My son is halfway through his fourth week of Intuniv. We became concerned when he began this last week, when he started taking the highest dose he will be on. For two days, he could hardly get out of bed, was very cranky, and slept for nearly 8 hours on a drive home from school vacation (very unusual for him.) I called his doctor on Monday morning and she said to stick it out a few days. See how he did at school, and with getting up in the morning. The last two days have been problem free. He is MUCH more agreeable than ever. He is less emotional (a good thing), less cranky. He is remembering all the things he should. Overall his behavior is better. We have tried many different medications and so far this is the most effective.</td>\n",
              "      <td>positive</td>\n",
              "    </tr>\n",
              "    <tr>\n",
              "      <th>2</th>\n",
              "      <td>92703</td>\n",
              "      <td>Lybrel</td>\n",
              "      <td>Birth Control</td>\n",
              "      <td>\"I used to take another oral contraceptive, which had 21 pill cycle, and was very happy- very light periods, max 5 days, no other side effects. But it contained hormone gestodene, which is not available in US, so I switched to Lybrel, because the ingredients are similar. When my other pills ended, I started Lybrel immediately, on my first day of period, as the instructions said. And the period lasted for two weeks. When taking the second pack- same two weeks. And now, with third pack things got even worse- my third period lasted for two weeks and now it&amp;#039;s the end of the third week- I still have daily brown discharge.\\r\\nThe positive side is that I didn&amp;#039;t have any other side effects. The idea of being period free was so tempting... Alas.\"</td>\n",
              "      <td>5.0</td>\n",
              "      <td>2009-12-14</td>\n",
              "      <td>17</td>\n",
              "      <td>[\"I used to take another oral contraceptive, which had 21 pill cycle, and was very happy- very light periods, max 5 days, no other side effects., But it contained hormone gestodene, which is not available in US, so I switched to Lybrel, because the ingredients are similar., When my other pills ended, I started Lybrel immediately, on my first day of period, as the instructions said., And the period lasted for two weeks., When taking the second pack- same two weeks., And now, with third pack things got even worse- my third period lasted for two weeks and now it&amp;#039;s the end of the third week- I still have daily brown discharge., The positive side is that I didn&amp;#039;t have any other side effects., The idea of being period free was so tempting..., Alas.\"]</td>\n",
              "      <td>[``, I, used, to, take, another, oral, contraceptive, ,, which, had, 21, pill, cycle, ,, and, was, very, happy-, very, light, periods, ,, max, 5, days, ,, no, other, side, effects, ., But, it, contained, hormone, gestodene, ,, which, is, not, available, in, US, ,, so, I, switched, to, Lybrel, ,, because, the, ingredients, are, similar, ., When, my, other, pills, ended, ,, I, started, Lybrel, immediately, ,, on, my, first, day, of, period, ,, as, the, instructions, said, ., And, the, period, lasted, for, two, weeks, ., When, taking, the, second, pack-, same, two, weeks, ., And, now, ,, ...]</td>\n",
              "      <td>[``, i, used, to, take, another, oral, contraceptive, ,, which, had, 21, pill, cycle, ,, and, was, very, happy-, very, light, periods, ,, max, 5, days, ,, no, other, side, effects, ., but, it, contained, hormone, gestodene, ,, which, is, not, available, in, us, ,, so, i, switched, to, lybrel, ,, because, the, ingredients, are, similar, ., when, my, other, pills, ended, ,, i, started, lybrel, immediately, ,, on, my, first, day, of, period, ,, as, the, instructions, said, ., and, the, period, lasted, for, two, weeks, ., when, taking, the, second, pack-, same, two, weeks, ., and, now, ,, ...]</td>\n",
              "      <td>[``, I, USED, TO, TAKE, ANOTHER, ORAL, CONTRACEPTIVE, ,, WHICH, HAD, 21, PILL, CYCLE, ,, AND, WAS, VERY, HAPPY-, VERY, LIGHT, PERIODS, ,, MAX, 5, DAYS, ,, NO, OTHER, SIDE, EFFECTS, ., BUT, IT, CONTAINED, HORMONE, GESTODENE, ,, WHICH, IS, NOT, AVAILABLE, IN, US, ,, SO, I, SWITCHED, TO, LYBREL, ,, BECAUSE, THE, INGREDIENTS, ARE, SIMILAR, ., WHEN, MY, OTHER, PILLS, ENDED, ,, I, STARTED, LYBREL, IMMEDIATELY, ,, ON, MY, FIRST, DAY, OF, PERIOD, ,, AS, THE, INSTRUCTIONS, SAID, ., AND, THE, PERIOD, LASTED, FOR, TWO, WEEKS, ., WHEN, TAKING, THE, SECOND, PACK-, SAME, TWO, WEEKS, ., AND, NOW, ,, ...]</td>\n",
              "      <td>[``, i, used, to, take, another, oral, contraceptive, which, had, 21, pill, cycle, and, was, very, happy-, very, light, periods, max, 5, days, no, other, side, effects, but, it, contained, hormone, gestodene, which, is, not, available, in, us, so, i, switched, to, lybrel, because, the, ingredients, are, similar, when, my, other, pills, ended, i, started, lybrel, immediately, on, my, first, day, of, period, as, the, instructions, said, and, the, period, lasted, for, two, weeks, when, taking, the, second, pack-, same, two, weeks, and, now, with, third, pack, things, got, even, worse-, my, third, period, lasted, for, two, weeks, and, now, ...]</td>\n",
              "      <td>[``, I, used, take, another, oral, contraceptive, ,, 21, pill, cycle, ,, happy-, light, periods, ,, max, 5, days, ,, side, effects, ., But, contained, hormone, gestodene, ,, available, US, ,, I, switched, Lybrel, ,, ingredients, similar, ., When, pills, ended, ,, I, started, Lybrel, immediately, ,, first, day, period, ,, instructions, said, ., And, period, lasted, two, weeks, ., When, taking, second, pack-, two, weeks, ., And, ,, third, pack, things, got, even, worse-, third, period, lasted, two, weeks, &amp;, #, 039, ;, end, third, week-, I, still, daily, brown, discharge, ., The, positive, side, I, &amp;, #, 039, ...]</td>\n",
              "      <td>[``, i, use, take, anoth, oral, contracept, ,, 21, pill, cycl, ,, happy-, light, period, ,, max, 5, day, ,, side, effect, ., but, contain, hormon, gestoden, ,, avail, us, ,, i, switch, lybrel, ,, ingredi, similar, ., when, pill, end, ,, i, start, lybrel, immedi, ,, first, day, period, ,, instruct, said, ., and, period, last, two, week, ., when, take, second, pack-, two, week, ., and, ,, third, pack, thing, got, even, worse-, third, period, last, two, week, &amp;, #, 039, ;, end, third, week-, i, still, daili, brown, discharg, ., the, posit, side, i, &amp;, #, 039, ...]</td>\n",
              "      <td>I used to take another oral contraceptive, which had 21 pill cycle, and was very happy- very light periods, max 5 days, no other side effects. But it contained hormone gestodene, which is not available in US, so I switched to Lybrel, because the ingredients are similar. When my other pills ended, I started Lybrel immediately, on my first day of period, as the instructions said. And the period lasted for two weeks. When taking the second pack- same two weeks. And now, with third pack things got even worse- my third period lasted for two weeks and now it's the end of the third week- I still have daily brown discharge. The positive side is that I didn't have any other side effects. The idea of being period free was so tempting... Alas.</td>\n",
              "      <td>neutral</td>\n",
              "    </tr>\n",
              "    <tr>\n",
              "      <th>3</th>\n",
              "      <td>138000</td>\n",
              "      <td>Ortho Evra</td>\n",
              "      <td>Birth Control</td>\n",
              "      <td>\"This is my first time using any form of birth control. I&amp;#039;m glad I went with the patch, I have been on it for 8 months. At first It decreased my libido but that subsided. The only downside is that it made my periods longer (5-6 days to be exact) I used to only have periods for 3-4 days max also made my cramps intense for the first two days of my period, I never had cramps before using birth control. Other than that in happy with the patch\"</td>\n",
              "      <td>8.0</td>\n",
              "      <td>2015-11-03</td>\n",
              "      <td>10</td>\n",
              "      <td>[\"This is my first time using any form of birth control., I&amp;#039;m glad I went with the patch, I have been on it for 8 months., At first It decreased my libido but that subsided., The only downside is that it made my periods longer (5-6 days to be exact) I used to only have periods for 3-4 days max also made my cramps intense for the first two days of my period, I never had cramps before using birth control., Other than that in happy with the patch\"]</td>\n",
              "      <td>[``, This, is, my, first, time, using, any, form, of, birth, control, ., I, &amp;, #, 039, ;, m, glad, I, went, with, the, patch, ,, I, have, been, on, it, for, 8, months, ., At, first, It, decreased, my, libido, but, that, subsided, ., The, only, downside, is, that, it, made, my, periods, longer, (, 5-6, days, to, be, exact, ), I, used, to, only, have, periods, for, 3-4, days, max, also, made, my, cramps, intense, for, the, first, two, days, of, my, period, ,, I, never, had, cramps, before, using, birth, control, ., Other, than, that, in, happy, ...]</td>\n",
              "      <td>[``, this, is, my, first, time, using, any, form, of, birth, control, ., i, &amp;, #, 039, ;, m, glad, i, went, with, the, patch, ,, i, have, been, on, it, for, 8, months, ., at, first, it, decreased, my, libido, but, that, subsided, ., the, only, downside, is, that, it, made, my, periods, longer, (, 5-6, days, to, be, exact, ), i, used, to, only, have, periods, for, 3-4, days, max, also, made, my, cramps, intense, for, the, first, two, days, of, my, period, ,, i, never, had, cramps, before, using, birth, control, ., other, than, that, in, happy, ...]</td>\n",
              "      <td>[``, THIS, IS, MY, FIRST, TIME, USING, ANY, FORM, OF, BIRTH, CONTROL, ., I, &amp;, #, 039, ;, M, GLAD, I, WENT, WITH, THE, PATCH, ,, I, HAVE, BEEN, ON, IT, FOR, 8, MONTHS, ., AT, FIRST, IT, DECREASED, MY, LIBIDO, BUT, THAT, SUBSIDED, ., THE, ONLY, DOWNSIDE, IS, THAT, IT, MADE, MY, PERIODS, LONGER, (, 5-6, DAYS, TO, BE, EXACT, ), I, USED, TO, ONLY, HAVE, PERIODS, FOR, 3-4, DAYS, MAX, ALSO, MADE, MY, CRAMPS, INTENSE, FOR, THE, FIRST, TWO, DAYS, OF, MY, PERIOD, ,, I, NEVER, HAD, CRAMPS, BEFORE, USING, BIRTH, CONTROL, ., OTHER, THAN, THAT, IN, HAPPY, ...]</td>\n",
              "      <td>[``, this, is, my, first, time, using, any, form, of, birth, control, i, 039, m, glad, i, went, with, the, patch, i, have, been, on, it, for, 8, months, at, first, it, decreased, my, libido, but, that, subsided, the, only, downside, is, that, it, made, my, periods, longer, 5-6, days, to, be, exact, i, used, to, only, have, periods, for, 3-4, days, max, also, made, my, cramps, intense, for, the, first, two, days, of, my, period, i, never, had, cramps, before, using, birth, control, other, than, that, in, happy, with, the, patch, '']</td>\n",
              "      <td>[``, This, first, time, using, form, birth, control, ., I, &amp;, #, 039, ;, glad, I, went, patch, ,, I, 8, months, ., At, first, It, decreased, libido, subsided, ., The, downside, made, periods, longer, (, 5-6, days, exact, ), I, used, periods, 3-4, days, max, also, made, cramps, intense, first, two, days, period, ,, I, never, cramps, using, birth, control, ., Other, happy, patch, '']</td>\n",
              "      <td>[``, thi, first, time, use, form, birth, control, ., i, &amp;, #, 039, ;, glad, i, went, patch, ,, i, 8, month, ., at, first, it, decreas, libido, subsid, ., the, downsid, made, period, longer, (, 5-6, day, exact, ), i, use, period, 3-4, day, max, also, made, cramp, intens, first, two, day, period, ,, i, never, cramp, use, birth, control, ., other, happi, patch, '']</td>\n",
              "      <td>This is my first time using any form of birth control. I'm glad I went with the patch, I have been on it for 8 months. At first It decreased my libido but that subsided. The only downside is that it made my periods longer (5-6 days to be exact) I used to only have periods for 3-4 days max also made my cramps intense for the first two days of my period, I never had cramps before using birth control. Other than that in happy with the patch</td>\n",
              "      <td>positive</td>\n",
              "    </tr>\n",
              "    <tr>\n",
              "      <th>4</th>\n",
              "      <td>35696</td>\n",
              "      <td>Buprenorphine / naloxone</td>\n",
              "      <td>Opiate Dependence</td>\n",
              "      <td>\"Suboxone has completely turned my life around.  I feel healthier, I&amp;#039;m excelling at my job and I always have money in my pocket and my savings account.  I had none of those before Suboxone and spent years abusing oxycontin.  My paycheck was already spent by the time I got it and I started resorting to scheming and stealing to fund my addiction.  All that is history.  If you&amp;#039;re ready to stop, there&amp;#039;s a good chance that suboxone will put you on the path of great life again.  I have found the side-effects to be minimal compared to oxycontin.  I&amp;#039;m actually sleeping better.   Slight constipation is about it for me.  It truly is amazing. The cost pales in comparison to what I spent on oxycontin.\"</td>\n",
              "      <td>9.0</td>\n",
              "      <td>2016-11-27</td>\n",
              "      <td>37</td>\n",
              "      <td>[\"Suboxone has completely turned my life around., I feel healthier, I&amp;#039;m excelling at my job and I always have money in my pocket and my savings account., I had none of those before Suboxone and spent years abusing oxycontin., My paycheck was already spent by the time I got it and I started resorting to scheming and stealing to fund my addiction., All that is history., If you&amp;#039;re ready to stop, there&amp;#039;s a good chance that suboxone will put you on the path of great life again., I have found the side-effects to be minimal compared to oxycontin., I&amp;#039;m actually sleeping better., Slight constipation is about it for me., It truly is amazing., The cost pales in comparison to what I spent on oxycontin.\"]</td>\n",
              "      <td>[``, Suboxone, has, completely, turned, my, life, around, ., I, feel, healthier, ,, I, &amp;, #, 039, ;, m, excelling, at, my, job, and, I, always, have, money, in, my, pocket, and, my, savings, account, ., I, had, none, of, those, before, Suboxone, and, spent, years, abusing, oxycontin, ., My, paycheck, was, already, spent, by, the, time, I, got, it, and, I, started, resorting, to, scheming, and, stealing, to, fund, my, addiction, ., All, that, is, history, ., If, you, &amp;, #, 039, ;, re, ready, to, stop, ,, there, &amp;, #, 039, ;, s, a, good, chance, that, suboxone, ...]</td>\n",
              "      <td>[``, suboxone, has, completely, turned, my, life, around, ., i, feel, healthier, ,, i, &amp;, #, 039, ;, m, excelling, at, my, job, and, i, always, have, money, in, my, pocket, and, my, savings, account, ., i, had, none, of, those, before, suboxone, and, spent, years, abusing, oxycontin, ., my, paycheck, was, already, spent, by, the, time, i, got, it, and, i, started, resorting, to, scheming, and, stealing, to, fund, my, addiction, ., all, that, is, history, ., if, you, &amp;, #, 039, ;, re, ready, to, stop, ,, there, &amp;, #, 039, ;, s, a, good, chance, that, suboxone, ...]</td>\n",
              "      <td>[``, SUBOXONE, HAS, COMPLETELY, TURNED, MY, LIFE, AROUND, ., I, FEEL, HEALTHIER, ,, I, &amp;, #, 039, ;, M, EXCELLING, AT, MY, JOB, AND, I, ALWAYS, HAVE, MONEY, IN, MY, POCKET, AND, MY, SAVINGS, ACCOUNT, ., I, HAD, NONE, OF, THOSE, BEFORE, SUBOXONE, AND, SPENT, YEARS, ABUSING, OXYCONTIN, ., MY, PAYCHECK, WAS, ALREADY, SPENT, BY, THE, TIME, I, GOT, IT, AND, I, STARTED, RESORTING, TO, SCHEMING, AND, STEALING, TO, FUND, MY, ADDICTION, ., ALL, THAT, IS, HISTORY, ., IF, YOU, &amp;, #, 039, ;, RE, READY, TO, STOP, ,, THERE, &amp;, #, 039, ;, S, A, GOOD, CHANCE, THAT, SUBOXONE, ...]</td>\n",
              "      <td>[``, suboxone, has, completely, turned, my, life, around, i, feel, healthier, i, 039, m, excelling, at, my, job, and, i, always, have, money, in, my, pocket, and, my, savings, account, i, had, none, of, those, before, suboxone, and, spent, years, abusing, oxycontin, my, paycheck, was, already, spent, by, the, time, i, got, it, and, i, started, resorting, to, scheming, and, stealing, to, fund, my, addiction, all, that, is, history, if, you, 039, re, ready, to, stop, there, 039, s, a, good, chance, that, suboxone, will, put, you, on, the, path, of, great, life, again, i, have, found, the, side-effects, to, ...]</td>\n",
              "      <td>[``, Suboxone, completely, turned, life, around, ., I, feel, healthier, ,, I, &amp;, #, 039, ;, excelling, job, I, always, money, pocket, savings, account, ., I, none, Suboxone, spent, years, abusing, oxycontin, ., My, paycheck, already, spent, time, I, got, I, started, resorting, scheming, stealing, fund, addiction, ., All, history, ., If, &amp;, #, 039, ;, ready, stop, ,, &amp;, #, 039, ;, good, chance, suboxone, put, path, great, life, ., I, found, side-effects, minimal, compared, oxycontin, ., I, &amp;, #, 039, ;, actually, sleeping, better, ., Slight, constipation, ., It, truly, amazing, ., The, cost, pales, comparison, I, spent, ...]</td>\n",
              "      <td>[``, suboxon, complet, turn, life, around, ., i, feel, healthier, ,, i, &amp;, #, 039, ;, excel, job, i, alway, money, pocket, save, account, ., i, none, suboxon, spent, year, abus, oxycontin, ., my, paycheck, alreadi, spent, time, i, got, i, start, resort, scheme, steal, fund, addict, ., all, histori, ., if, &amp;, #, 039, ;, readi, stop, ,, &amp;, #, 039, ;, good, chanc, suboxon, put, path, great, life, ., i, found, side-effect, minim, compar, oxycontin, ., i, &amp;, #, 039, ;, actual, sleep, better, ., slight, constip, ., it, truli, amaz, ., the, cost, pale, comparison, i, spent, ...]</td>\n",
              "      <td>Suboxone has completely turned my life around. I feel healthier, I'm excelling at my job and I always have money in my pocket and my savings account. I had none of those before Suboxone and spent years abusing oxycontin. My paycheck was already spent by the time I got it and I started resorting to scheming and stealing to fund my addiction. All that is history. If you're ready to stop, there's a good chance that suboxone will put you on the path of great life again. I have found the side-effects to be minimal compared to oxycontin. I'm actually sleeping better. Slight constipation is about it for me. It truly is amazing. The cost pales in comparison to what I spent on oxycontin.</td>\n",
              "      <td>positive</td>\n",
              "    </tr>\n",
              "  </tbody>\n",
              "</table>\n",
              "</div>"
            ],
            "text/plain": [
              "   patient_id                  drugName                     condition  \\\n",
              "0      206461                 Valsartan  Left Ventricular Dysfunction   \n",
              "1       95260                Guanfacine                          ADHD   \n",
              "2       92703                    Lybrel                 Birth Control   \n",
              "3      138000                Ortho Evra                 Birth Control   \n",
              "4       35696  Buprenorphine / naloxone             Opiate Dependence   \n",
              "\n",
              "                                                                                                                                                                                                                                                                                                                                                                                                                                                                                                                                                                                                                                                                                                                                                                                  review  \\\n",
              "0                                                                                                                                                                                                                                                                                                                                                                                                                                                                                                                                                                                                                                                                                                        \"It has no side effect, I take it in combination of Bystolic 5 Mg and Fish Oil\"   \n",
              "1                \"My son is halfway through his fourth week of Intuniv. We became concerned when he began this last week, when he started taking the highest dose he will be on. For two days, he could hardly get out of bed, was very cranky, and slept for nearly 8 hours on a drive home from school vacation (very unusual for him.) I called his doctor on Monday morning and she said to stick it out a few days. See how he did at school, and with getting up in the morning. The last two days have been problem free. He is MUCH more agreeable than ever. He is less emotional (a good thing), less cranky. He is remembering all the things he should. Overall his behavior is better. \\r\\nWe have tried many different medications and so far this is the most effective.\"   \n",
              "2  \"I used to take another oral contraceptive, which had 21 pill cycle, and was very happy- very light periods, max 5 days, no other side effects. But it contained hormone gestodene, which is not available in US, so I switched to Lybrel, because the ingredients are similar. When my other pills ended, I started Lybrel immediately, on my first day of period, as the instructions said. And the period lasted for two weeks. When taking the second pack- same two weeks. And now, with third pack things got even worse- my third period lasted for two weeks and now it&#039;s the end of the third week- I still have daily brown discharge.\\r\\nThe positive side is that I didn&#039;t have any other side effects. The idea of being period free was so tempting... Alas.\"   \n",
              "3                                                                                                                                                                                                                                                                                                                       \"This is my first time using any form of birth control. I&#039;m glad I went with the patch, I have been on it for 8 months. At first It decreased my libido but that subsided. The only downside is that it made my periods longer (5-6 days to be exact) I used to only have periods for 3-4 days max also made my cramps intense for the first two days of my period, I never had cramps before using birth control. Other than that in happy with the patch\"   \n",
              "4                                        \"Suboxone has completely turned my life around.  I feel healthier, I&#039;m excelling at my job and I always have money in my pocket and my savings account.  I had none of those before Suboxone and spent years abusing oxycontin.  My paycheck was already spent by the time I got it and I started resorting to scheming and stealing to fund my addiction.  All that is history.  If you&#039;re ready to stop, there&#039;s a good chance that suboxone will put you on the path of great life again.  I have found the side-effects to be minimal compared to oxycontin.  I&#039;m actually sleeping better.   Slight constipation is about it for me.  It truly is amazing. The cost pales in comparison to what I spent on oxycontin.\"   \n",
              "\n",
              "   rating       date  usefulCount  \\\n",
              "0     9.0 2012-05-20           27   \n",
              "1     8.0 2010-04-27          192   \n",
              "2     5.0 2009-12-14           17   \n",
              "3     8.0 2015-11-03           10   \n",
              "4     9.0 2016-11-27           37   \n",
              "\n",
              "                                                                                                                                                                                                                                                                                                                                                                                                                                                                                                                                                                                                                                                                                                                                                                                      sentences  \\\n",
              "0                                                                                                                                                                                                                                                                                                                                                                                                                                                                                                                                                                                                                                                                                                             [\"It has no side effect, I take it in combination of Bystolic 5 Mg and Fish Oil\"]   \n",
              "1               [\"My son is halfway through his fourth week of Intuniv., We became concerned when he began this last week, when he started taking the highest dose he will be on., For two days, he could hardly get out of bed, was very cranky, and slept for nearly 8 hours on a drive home from school vacation (very unusual for him.), I called his doctor on Monday morning and she said to stick it out a few days., See how he did at school, and with getting up in the morning., The last two days have been problem free., He is MUCH more agreeable than ever., He is less emotional (a good thing), less cranky., He is remembering all the things he should., Overall his behavior is better., We have tried many different medications and so far this is the most effective.\"]   \n",
              "2  [\"I used to take another oral contraceptive, which had 21 pill cycle, and was very happy- very light periods, max 5 days, no other side effects., But it contained hormone gestodene, which is not available in US, so I switched to Lybrel, because the ingredients are similar., When my other pills ended, I started Lybrel immediately, on my first day of period, as the instructions said., And the period lasted for two weeks., When taking the second pack- same two weeks., And now, with third pack things got even worse- my third period lasted for two weeks and now it&#039;s the end of the third week- I still have daily brown discharge., The positive side is that I didn&#039;t have any other side effects., The idea of being period free was so tempting..., Alas.\"]   \n",
              "3                                                                                                                                                                                                                                                                                                                        [\"This is my first time using any form of birth control., I&#039;m glad I went with the patch, I have been on it for 8 months., At first It decreased my libido but that subsided., The only downside is that it made my periods longer (5-6 days to be exact) I used to only have periods for 3-4 days max also made my cramps intense for the first two days of my period, I never had cramps before using birth control., Other than that in happy with the patch\"]   \n",
              "4                                             [\"Suboxone has completely turned my life around., I feel healthier, I&#039;m excelling at my job and I always have money in my pocket and my savings account., I had none of those before Suboxone and spent years abusing oxycontin., My paycheck was already spent by the time I got it and I started resorting to scheming and stealing to fund my addiction., All that is history., If you&#039;re ready to stop, there&#039;s a good chance that suboxone will put you on the path of great life again., I have found the side-effects to be minimal compared to oxycontin., I&#039;m actually sleeping better., Slight constipation is about it for me., It truly is amazing., The cost pales in comparison to what I spent on oxycontin.\"]   \n",
              "\n",
              "                                                                                                                                                                                                                                                                                                                                                                                                                                                                                                                                                                                                                 tokens  \\\n",
              "0                                                                                                                                                                                                                                                                                                                                                                                                                                                                                                             [``, It, has, no, side, effect, ,, I, take, it, in, combination, of, Bystolic, 5, Mg, and, Fish, Oil, '']   \n",
              "1                                       [``, My, son, is, halfway, through, his, fourth, week, of, Intuniv, ., We, became, concerned, when, he, began, this, last, week, ,, when, he, started, taking, the, highest, dose, he, will, be, on, ., For, two, days, ,, he, could, hardly, get, out, of, bed, ,, was, very, cranky, ,, and, slept, for, nearly, 8, hours, on, a, drive, home, from, school, vacation, (, very, unusual, for, him, ., ), I, called, his, doctor, on, Monday, morning, and, she, said, to, stick, it, out, a, few, days, ., See, how, he, did, at, school, ,, and, with, getting, up, in, ...]   \n",
              "2  [``, I, used, to, take, another, oral, contraceptive, ,, which, had, 21, pill, cycle, ,, and, was, very, happy-, very, light, periods, ,, max, 5, days, ,, no, other, side, effects, ., But, it, contained, hormone, gestodene, ,, which, is, not, available, in, US, ,, so, I, switched, to, Lybrel, ,, because, the, ingredients, are, similar, ., When, my, other, pills, ended, ,, I, started, Lybrel, immediately, ,, on, my, first, day, of, period, ,, as, the, instructions, said, ., And, the, period, lasted, for, two, weeks, ., When, taking, the, second, pack-, same, two, weeks, ., And, now, ,, ...]   \n",
              "3                                             [``, This, is, my, first, time, using, any, form, of, birth, control, ., I, &, #, 039, ;, m, glad, I, went, with, the, patch, ,, I, have, been, on, it, for, 8, months, ., At, first, It, decreased, my, libido, but, that, subsided, ., The, only, downside, is, that, it, made, my, periods, longer, (, 5-6, days, to, be, exact, ), I, used, to, only, have, periods, for, 3-4, days, max, also, made, my, cramps, intense, for, the, first, two, days, of, my, period, ,, I, never, had, cramps, before, using, birth, control, ., Other, than, that, in, happy, ...]   \n",
              "4                            [``, Suboxone, has, completely, turned, my, life, around, ., I, feel, healthier, ,, I, &, #, 039, ;, m, excelling, at, my, job, and, I, always, have, money, in, my, pocket, and, my, savings, account, ., I, had, none, of, those, before, Suboxone, and, spent, years, abusing, oxycontin, ., My, paycheck, was, already, spent, by, the, time, I, got, it, and, I, started, resorting, to, scheming, and, stealing, to, fund, my, addiction, ., All, that, is, history, ., If, you, &, #, 039, ;, re, ready, to, stop, ,, there, &, #, 039, ;, s, a, good, chance, that, suboxone, ...]   \n",
              "\n",
              "                                                                                                                                                                                                                                                                                                                                                                                                                                                                                                                                                                                                           tokens_lower  \\\n",
              "0                                                                                                                                                                                                                                                                                                                                                                                                                                                                                                             [``, it, has, no, side, effect, ,, i, take, it, in, combination, of, bystolic, 5, mg, and, fish, oil, '']   \n",
              "1                                       [``, my, son, is, halfway, through, his, fourth, week, of, intuniv, ., we, became, concerned, when, he, began, this, last, week, ,, when, he, started, taking, the, highest, dose, he, will, be, on, ., for, two, days, ,, he, could, hardly, get, out, of, bed, ,, was, very, cranky, ,, and, slept, for, nearly, 8, hours, on, a, drive, home, from, school, vacation, (, very, unusual, for, him, ., ), i, called, his, doctor, on, monday, morning, and, she, said, to, stick, it, out, a, few, days, ., see, how, he, did, at, school, ,, and, with, getting, up, in, ...]   \n",
              "2  [``, i, used, to, take, another, oral, contraceptive, ,, which, had, 21, pill, cycle, ,, and, was, very, happy-, very, light, periods, ,, max, 5, days, ,, no, other, side, effects, ., but, it, contained, hormone, gestodene, ,, which, is, not, available, in, us, ,, so, i, switched, to, lybrel, ,, because, the, ingredients, are, similar, ., when, my, other, pills, ended, ,, i, started, lybrel, immediately, ,, on, my, first, day, of, period, ,, as, the, instructions, said, ., and, the, period, lasted, for, two, weeks, ., when, taking, the, second, pack-, same, two, weeks, ., and, now, ,, ...]   \n",
              "3                                             [``, this, is, my, first, time, using, any, form, of, birth, control, ., i, &, #, 039, ;, m, glad, i, went, with, the, patch, ,, i, have, been, on, it, for, 8, months, ., at, first, it, decreased, my, libido, but, that, subsided, ., the, only, downside, is, that, it, made, my, periods, longer, (, 5-6, days, to, be, exact, ), i, used, to, only, have, periods, for, 3-4, days, max, also, made, my, cramps, intense, for, the, first, two, days, of, my, period, ,, i, never, had, cramps, before, using, birth, control, ., other, than, that, in, happy, ...]   \n",
              "4                            [``, suboxone, has, completely, turned, my, life, around, ., i, feel, healthier, ,, i, &, #, 039, ;, m, excelling, at, my, job, and, i, always, have, money, in, my, pocket, and, my, savings, account, ., i, had, none, of, those, before, suboxone, and, spent, years, abusing, oxycontin, ., my, paycheck, was, already, spent, by, the, time, i, got, it, and, i, started, resorting, to, scheming, and, stealing, to, fund, my, addiction, ., all, that, is, history, ., if, you, &, #, 039, ;, re, ready, to, stop, ,, there, &, #, 039, ;, s, a, good, chance, that, suboxone, ...]   \n",
              "\n",
              "                                                                                                                                                                                                                                                                                                                                                                                                                                                                                                                                                                                                           tokens_upper  \\\n",
              "0                                                                                                                                                                                                                                                                                                                                                                                                                                                                                                             [``, IT, HAS, NO, SIDE, EFFECT, ,, I, TAKE, IT, IN, COMBINATION, OF, BYSTOLIC, 5, MG, AND, FISH, OIL, '']   \n",
              "1                                       [``, MY, SON, IS, HALFWAY, THROUGH, HIS, FOURTH, WEEK, OF, INTUNIV, ., WE, BECAME, CONCERNED, WHEN, HE, BEGAN, THIS, LAST, WEEK, ,, WHEN, HE, STARTED, TAKING, THE, HIGHEST, DOSE, HE, WILL, BE, ON, ., FOR, TWO, DAYS, ,, HE, COULD, HARDLY, GET, OUT, OF, BED, ,, WAS, VERY, CRANKY, ,, AND, SLEPT, FOR, NEARLY, 8, HOURS, ON, A, DRIVE, HOME, FROM, SCHOOL, VACATION, (, VERY, UNUSUAL, FOR, HIM, ., ), I, CALLED, HIS, DOCTOR, ON, MONDAY, MORNING, AND, SHE, SAID, TO, STICK, IT, OUT, A, FEW, DAYS, ., SEE, HOW, HE, DID, AT, SCHOOL, ,, AND, WITH, GETTING, UP, IN, ...]   \n",
              "2  [``, I, USED, TO, TAKE, ANOTHER, ORAL, CONTRACEPTIVE, ,, WHICH, HAD, 21, PILL, CYCLE, ,, AND, WAS, VERY, HAPPY-, VERY, LIGHT, PERIODS, ,, MAX, 5, DAYS, ,, NO, OTHER, SIDE, EFFECTS, ., BUT, IT, CONTAINED, HORMONE, GESTODENE, ,, WHICH, IS, NOT, AVAILABLE, IN, US, ,, SO, I, SWITCHED, TO, LYBREL, ,, BECAUSE, THE, INGREDIENTS, ARE, SIMILAR, ., WHEN, MY, OTHER, PILLS, ENDED, ,, I, STARTED, LYBREL, IMMEDIATELY, ,, ON, MY, FIRST, DAY, OF, PERIOD, ,, AS, THE, INSTRUCTIONS, SAID, ., AND, THE, PERIOD, LASTED, FOR, TWO, WEEKS, ., WHEN, TAKING, THE, SECOND, PACK-, SAME, TWO, WEEKS, ., AND, NOW, ,, ...]   \n",
              "3                                             [``, THIS, IS, MY, FIRST, TIME, USING, ANY, FORM, OF, BIRTH, CONTROL, ., I, &, #, 039, ;, M, GLAD, I, WENT, WITH, THE, PATCH, ,, I, HAVE, BEEN, ON, IT, FOR, 8, MONTHS, ., AT, FIRST, IT, DECREASED, MY, LIBIDO, BUT, THAT, SUBSIDED, ., THE, ONLY, DOWNSIDE, IS, THAT, IT, MADE, MY, PERIODS, LONGER, (, 5-6, DAYS, TO, BE, EXACT, ), I, USED, TO, ONLY, HAVE, PERIODS, FOR, 3-4, DAYS, MAX, ALSO, MADE, MY, CRAMPS, INTENSE, FOR, THE, FIRST, TWO, DAYS, OF, MY, PERIOD, ,, I, NEVER, HAD, CRAMPS, BEFORE, USING, BIRTH, CONTROL, ., OTHER, THAN, THAT, IN, HAPPY, ...]   \n",
              "4                            [``, SUBOXONE, HAS, COMPLETELY, TURNED, MY, LIFE, AROUND, ., I, FEEL, HEALTHIER, ,, I, &, #, 039, ;, M, EXCELLING, AT, MY, JOB, AND, I, ALWAYS, HAVE, MONEY, IN, MY, POCKET, AND, MY, SAVINGS, ACCOUNT, ., I, HAD, NONE, OF, THOSE, BEFORE, SUBOXONE, AND, SPENT, YEARS, ABUSING, OXYCONTIN, ., MY, PAYCHECK, WAS, ALREADY, SPENT, BY, THE, TIME, I, GOT, IT, AND, I, STARTED, RESORTING, TO, SCHEMING, AND, STEALING, TO, FUND, MY, ADDICTION, ., ALL, THAT, IS, HISTORY, ., IF, YOU, &, #, 039, ;, RE, READY, TO, STOP, ,, THERE, &, #, 039, ;, S, A, GOOD, CHANCE, THAT, SUBOXONE, ...]   \n",
              "\n",
              "                                                                                                                                                                                                                                                                                                                                                                                                                                                                                                                                                                                                                                                            tokens_no_punct  \\\n",
              "0                                                                                                                                                                                                                                                                                                                                                                                                                                                                                                                                                                    [``, it, has, no, side, effect, i, take, it, in, combination, of, bystolic, 5, mg, and, fish, oil, '']   \n",
              "1                                                         [``, my, son, is, halfway, through, his, fourth, week, of, intuniv, we, became, concerned, when, he, began, this, last, week, when, he, started, taking, the, highest, dose, he, will, be, on, for, two, days, he, could, hardly, get, out, of, bed, was, very, cranky, and, slept, for, nearly, 8, hours, on, a, drive, home, from, school, vacation, very, unusual, for, him, i, called, his, doctor, on, monday, morning, and, she, said, to, stick, it, out, a, few, days, see, how, he, did, at, school, and, with, getting, up, in, the, morning, the, last, two, days, have, been, problem, free, he, ...]   \n",
              "2  [``, i, used, to, take, another, oral, contraceptive, which, had, 21, pill, cycle, and, was, very, happy-, very, light, periods, max, 5, days, no, other, side, effects, but, it, contained, hormone, gestodene, which, is, not, available, in, us, so, i, switched, to, lybrel, because, the, ingredients, are, similar, when, my, other, pills, ended, i, started, lybrel, immediately, on, my, first, day, of, period, as, the, instructions, said, and, the, period, lasted, for, two, weeks, when, taking, the, second, pack-, same, two, weeks, and, now, with, third, pack, things, got, even, worse-, my, third, period, lasted, for, two, weeks, and, now, ...]   \n",
              "3                                                                                                                 [``, this, is, my, first, time, using, any, form, of, birth, control, i, 039, m, glad, i, went, with, the, patch, i, have, been, on, it, for, 8, months, at, first, it, decreased, my, libido, but, that, subsided, the, only, downside, is, that, it, made, my, periods, longer, 5-6, days, to, be, exact, i, used, to, only, have, periods, for, 3-4, days, max, also, made, my, cramps, intense, for, the, first, two, days, of, my, period, i, never, had, cramps, before, using, birth, control, other, than, that, in, happy, with, the, patch, '']   \n",
              "4                                  [``, suboxone, has, completely, turned, my, life, around, i, feel, healthier, i, 039, m, excelling, at, my, job, and, i, always, have, money, in, my, pocket, and, my, savings, account, i, had, none, of, those, before, suboxone, and, spent, years, abusing, oxycontin, my, paycheck, was, already, spent, by, the, time, i, got, it, and, i, started, resorting, to, scheming, and, stealing, to, fund, my, addiction, all, that, is, history, if, you, 039, re, ready, to, stop, there, 039, s, a, good, chance, that, suboxone, will, put, you, on, the, path, of, great, life, again, i, have, found, the, side-effects, to, ...]   \n",
              "\n",
              "                                                                                                                                                                                                                                                                                                                                                                                                                                                                                                                                                                                                                                            tokens_no_stop  \\\n",
              "0                                                                                                                                                                                                                                                                                                                                                                                                                                                                                                                                                                          [``, It, side, effect, ,, I, take, combination, Bystolic, 5, Mg, Fish, Oil, '']   \n",
              "1                          [``, My, son, halfway, fourth, week, Intuniv, ., We, became, concerned, began, last, week, ,, started, taking, highest, dose, ., For, two, days, ,, could, hardly, get, bed, ,, cranky, ,, slept, nearly, 8, hours, drive, home, school, vacation, (, unusual, ., ), I, called, doctor, Monday, morning, said, stick, days, ., See, school, ,, getting, morning, ., The, last, two, days, problem, free, ., He, MUCH, agreeable, ever, ., He, less, emotional, (, good, thing, ), ,, less, cranky, ., He, remembering, things, ., Overall, behavior, better, ., We, tried, many, different, medications, far, effective, ., '']   \n",
              "2              [``, I, used, take, another, oral, contraceptive, ,, 21, pill, cycle, ,, happy-, light, periods, ,, max, 5, days, ,, side, effects, ., But, contained, hormone, gestodene, ,, available, US, ,, I, switched, Lybrel, ,, ingredients, similar, ., When, pills, ended, ,, I, started, Lybrel, immediately, ,, first, day, period, ,, instructions, said, ., And, period, lasted, two, weeks, ., When, taking, second, pack-, two, weeks, ., And, ,, third, pack, things, got, even, worse-, third, period, lasted, two, weeks, &, #, 039, ;, end, third, week-, I, still, daily, brown, discharge, ., The, positive, side, I, &, #, 039, ...]   \n",
              "3                                                                                                                                                                                                                                                         [``, This, first, time, using, form, birth, control, ., I, &, #, 039, ;, glad, I, went, patch, ,, I, 8, months, ., At, first, It, decreased, libido, subsided, ., The, downside, made, periods, longer, (, 5-6, days, exact, ), I, used, periods, 3-4, days, max, also, made, cramps, intense, first, two, days, period, ,, I, never, cramps, using, birth, control, ., Other, happy, patch, '']   \n",
              "4  [``, Suboxone, completely, turned, life, around, ., I, feel, healthier, ,, I, &, #, 039, ;, excelling, job, I, always, money, pocket, savings, account, ., I, none, Suboxone, spent, years, abusing, oxycontin, ., My, paycheck, already, spent, time, I, got, I, started, resorting, scheming, stealing, fund, addiction, ., All, history, ., If, &, #, 039, ;, ready, stop, ,, &, #, 039, ;, good, chance, suboxone, put, path, great, life, ., I, found, side-effects, minimal, compared, oxycontin, ., I, &, #, 039, ;, actually, sleeping, better, ., Slight, constipation, ., It, truly, amazing, ., The, cost, pales, comparison, I, spent, ...]   \n",
              "\n",
              "                                                                                                                                                                                                                                                                                                                                                                                                                                                                                                                                                                                       stemmed_tokens  \\\n",
              "0                                                                                                                                                                                                                                                                                                                                                                                                                                                                                                                            [``, it, side, effect, ,, i, take, combin, bystol, 5, mg, fish, oil, '']   \n",
              "1                            [``, my, son, halfway, fourth, week, intuniv, ., we, becam, concern, began, last, week, ,, start, take, highest, dose, ., for, two, day, ,, could, hardli, get, bed, ,, cranki, ,, slept, nearli, 8, hour, drive, home, school, vacat, (, unusu, ., ), i, call, doctor, monday, morn, said, stick, day, ., see, school, ,, get, morn, ., the, last, two, day, problem, free, ., he, much, agreeabl, ever, ., he, less, emot, (, good, thing, ), ,, less, cranki, ., he, rememb, thing, ., overal, behavior, better, ., we, tri, mani, differ, medic, far, effect, ., '']   \n",
              "2             [``, i, use, take, anoth, oral, contracept, ,, 21, pill, cycl, ,, happy-, light, period, ,, max, 5, day, ,, side, effect, ., but, contain, hormon, gestoden, ,, avail, us, ,, i, switch, lybrel, ,, ingredi, similar, ., when, pill, end, ,, i, start, lybrel, immedi, ,, first, day, period, ,, instruct, said, ., and, period, last, two, week, ., when, take, second, pack-, two, week, ., and, ,, third, pack, thing, got, even, worse-, third, period, last, two, week, &, #, 039, ;, end, third, week-, i, still, daili, brown, discharg, ., the, posit, side, i, &, #, 039, ...]   \n",
              "3                                                                                                                                                                                                                        [``, thi, first, time, use, form, birth, control, ., i, &, #, 039, ;, glad, i, went, patch, ,, i, 8, month, ., at, first, it, decreas, libido, subsid, ., the, downsid, made, period, longer, (, 5-6, day, exact, ), i, use, period, 3-4, day, max, also, made, cramp, intens, first, two, day, period, ,, i, never, cramp, use, birth, control, ., other, happi, patch, '']   \n",
              "4  [``, suboxon, complet, turn, life, around, ., i, feel, healthier, ,, i, &, #, 039, ;, excel, job, i, alway, money, pocket, save, account, ., i, none, suboxon, spent, year, abus, oxycontin, ., my, paycheck, alreadi, spent, time, i, got, i, start, resort, scheme, steal, fund, addict, ., all, histori, ., if, &, #, 039, ;, readi, stop, ,, &, #, 039, ;, good, chanc, suboxon, put, path, great, life, ., i, found, side-effect, minim, compar, oxycontin, ., i, &, #, 039, ;, actual, sleep, better, ., slight, constip, ., it, truli, amaz, ., the, cost, pale, comparison, i, spent, ...]   \n",
              "\n",
              "                                                                                                                                                                                                                                                                                                                                                                                                                                                                                                                                                                                                                                                                                                                                                           review_cleaned  \\\n",
              "0                                                                                                                                                                                                                                                                                                                                                                                                                                                                                                                                                                                                                                                                                   It has no side effect, I take it in combination of Bystolic 5 milligrams and Fish Oil   \n",
              "1       My son is halfway through his fourth week of Intuniv. We became concerned when he began this last week, when he started taking the highest dose he will be on. For two days, he could hardly get out of bed, was very cranky, and slept for nearly 8 hours on a drive home from school vacation (very unusual for him.) I called his doctor on Monday morning and she said to stick it out a few days. See how he did at school, and with getting up in the morning. The last two days have been problem free. He is MUCH more agreeable than ever. He is less emotional (a good thing), less cranky. He is remembering all the things he should. Overall his behavior is better. We have tried many different medications and so far this is the most effective.   \n",
              "2  I used to take another oral contraceptive, which had 21 pill cycle, and was very happy- very light periods, max 5 days, no other side effects. But it contained hormone gestodene, which is not available in US, so I switched to Lybrel, because the ingredients are similar. When my other pills ended, I started Lybrel immediately, on my first day of period, as the instructions said. And the period lasted for two weeks. When taking the second pack- same two weeks. And now, with third pack things got even worse- my third period lasted for two weeks and now it's the end of the third week- I still have daily brown discharge. The positive side is that I didn't have any other side effects. The idea of being period free was so tempting... Alas.   \n",
              "3                                                                                                                                                                                                                                                                                                               This is my first time using any form of birth control. I'm glad I went with the patch, I have been on it for 8 months. At first It decreased my libido but that subsided. The only downside is that it made my periods longer (5-6 days to be exact) I used to only have periods for 3-4 days max also made my cramps intense for the first two days of my period, I never had cramps before using birth control. Other than that in happy with the patch   \n",
              "4                                                         Suboxone has completely turned my life around. I feel healthier, I'm excelling at my job and I always have money in my pocket and my savings account. I had none of those before Suboxone and spent years abusing oxycontin. My paycheck was already spent by the time I got it and I started resorting to scheming and stealing to fund my addiction. All that is history. If you're ready to stop, there's a good chance that suboxone will put you on the path of great life again. I have found the side-effects to be minimal compared to oxycontin. I'm actually sleeping better. Slight constipation is about it for me. It truly is amazing. The cost pales in comparison to what I spent on oxycontin.   \n",
              "\n",
              "  sentiment_label1  \n",
              "0         positive  \n",
              "1         positive  \n",
              "2          neutral  \n",
              "3         positive  \n",
              "4         positive  "
            ]
          },
          "execution_count": 71,
          "metadata": {},
          "output_type": "execute_result"
        }
      ],
      "source": [
        "#1.Define sentiment labels based on rating for comparison with other techniques output\n",
        "\n",
        "df2['sentiment_label1'] = df2['rating'].apply(lambda x: 'positive' if x >= 7 else ('neutral' if x >= 5 else 'negative'))\n",
        "\n",
        "df2.head()"
      ]
    },
    {
      "cell_type": "code",
      "execution_count": 72,
      "metadata": {},
      "outputs": [],
      "source": [
        "# from sklearn.preprocessing import LabelEncoder\n",
        "\n",
        "# #encode sentiment labels as integers (0=negative, 1=neutral, 2=positive)\n",
        "# lbl_encoder = LabelEncoder()\n",
        "# df2['sentiment_label_encoded'] = lbl_encoder.fit_transform(df2['sentiment_label'])\n",
        "# df2[['sentiment_label', 'sentiment_label_encoded']].head()"
      ]
    },
    {
      "cell_type": "code",
      "execution_count": 73,
      "metadata": {},
      "outputs": [
        {
          "data": {
            "text/html": [
              "<div>\n",
              "<style scoped>\n",
              "    .dataframe tbody tr th:only-of-type {\n",
              "        vertical-align: middle;\n",
              "    }\n",
              "\n",
              "    .dataframe tbody tr th {\n",
              "        vertical-align: top;\n",
              "    }\n",
              "\n",
              "    .dataframe thead th {\n",
              "        text-align: right;\n",
              "    }\n",
              "</style>\n",
              "<table border=\"1\" class=\"dataframe\">\n",
              "  <thead>\n",
              "    <tr style=\"text-align: right;\">\n",
              "      <th></th>\n",
              "      <th>patient_id</th>\n",
              "      <th>drugName</th>\n",
              "      <th>condition</th>\n",
              "      <th>review</th>\n",
              "      <th>rating</th>\n",
              "      <th>date</th>\n",
              "      <th>usefulCount</th>\n",
              "      <th>sentences</th>\n",
              "      <th>tokens</th>\n",
              "      <th>tokens_lower</th>\n",
              "      <th>tokens_upper</th>\n",
              "      <th>tokens_no_punct</th>\n",
              "      <th>tokens_no_stop</th>\n",
              "      <th>stemmed_tokens</th>\n",
              "      <th>review_cleaned</th>\n",
              "      <th>sentiment_label1</th>\n",
              "      <th>vader_score</th>\n",
              "      <th>vader_label</th>\n",
              "    </tr>\n",
              "  </thead>\n",
              "  <tbody>\n",
              "    <tr>\n",
              "      <th>0</th>\n",
              "      <td>206461</td>\n",
              "      <td>Valsartan</td>\n",
              "      <td>Left Ventricular Dysfunction</td>\n",
              "      <td>\"It has no side effect, I take it in combination of Bystolic 5 Mg and Fish Oil\"</td>\n",
              "      <td>9.0</td>\n",
              "      <td>2012-05-20</td>\n",
              "      <td>27</td>\n",
              "      <td>[\"It has no side effect, I take it in combination of Bystolic 5 Mg and Fish Oil\"]</td>\n",
              "      <td>[``, It, has, no, side, effect, ,, I, take, it, in, combination, of, Bystolic, 5, Mg, and, Fish, Oil, '']</td>\n",
              "      <td>[``, it, has, no, side, effect, ,, i, take, it, in, combination, of, bystolic, 5, mg, and, fish, oil, '']</td>\n",
              "      <td>[``, IT, HAS, NO, SIDE, EFFECT, ,, I, TAKE, IT, IN, COMBINATION, OF, BYSTOLIC, 5, MG, AND, FISH, OIL, '']</td>\n",
              "      <td>[``, it, has, no, side, effect, i, take, it, in, combination, of, bystolic, 5, mg, and, fish, oil, '']</td>\n",
              "      <td>[``, It, side, effect, ,, I, take, combination, Bystolic, 5, Mg, Fish, Oil, '']</td>\n",
              "      <td>[``, it, side, effect, ,, i, take, combin, bystol, 5, mg, fish, oil, '']</td>\n",
              "      <td>It has no side effect, I take it in combination of Bystolic 5 milligrams and Fish Oil</td>\n",
              "      <td>positive</td>\n",
              "      <td>-0.2960</td>\n",
              "      <td>negative</td>\n",
              "    </tr>\n",
              "    <tr>\n",
              "      <th>1</th>\n",
              "      <td>95260</td>\n",
              "      <td>Guanfacine</td>\n",
              "      <td>ADHD</td>\n",
              "      <td>\"My son is halfway through his fourth week of Intuniv. We became concerned when he began this last week, when he started taking the highest dose he will be on. For two days, he could hardly get out of bed, was very cranky, and slept for nearly 8 hours on a drive home from school vacation (very unusual for him.) I called his doctor on Monday morning and she said to stick it out a few days. See how he did at school, and with getting up in the morning. The last two days have been problem free. He is MUCH more agreeable than ever. He is less emotional (a good thing), less cranky. He is remembering all the things he should. Overall his behavior is better. \\r\\nWe have tried many different medications and so far this is the most effective.\"</td>\n",
              "      <td>8.0</td>\n",
              "      <td>2010-04-27</td>\n",
              "      <td>192</td>\n",
              "      <td>[\"My son is halfway through his fourth week of Intuniv., We became concerned when he began this last week, when he started taking the highest dose he will be on., For two days, he could hardly get out of bed, was very cranky, and slept for nearly 8 hours on a drive home from school vacation (very unusual for him.), I called his doctor on Monday morning and she said to stick it out a few days., See how he did at school, and with getting up in the morning., The last two days have been problem free., He is MUCH more agreeable than ever., He is less emotional (a good thing), less cranky., He is remembering all the things he should., Overall his behavior is better., We have tried many different medications and so far this is the most effective.\"]</td>\n",
              "      <td>[``, My, son, is, halfway, through, his, fourth, week, of, Intuniv, ., We, became, concerned, when, he, began, this, last, week, ,, when, he, started, taking, the, highest, dose, he, will, be, on, ., For, two, days, ,, he, could, hardly, get, out, of, bed, ,, was, very, cranky, ,, and, slept, for, nearly, 8, hours, on, a, drive, home, from, school, vacation, (, very, unusual, for, him, ., ), I, called, his, doctor, on, Monday, morning, and, she, said, to, stick, it, out, a, few, days, ., See, how, he, did, at, school, ,, and, with, getting, up, in, ...]</td>\n",
              "      <td>[``, my, son, is, halfway, through, his, fourth, week, of, intuniv, ., we, became, concerned, when, he, began, this, last, week, ,, when, he, started, taking, the, highest, dose, he, will, be, on, ., for, two, days, ,, he, could, hardly, get, out, of, bed, ,, was, very, cranky, ,, and, slept, for, nearly, 8, hours, on, a, drive, home, from, school, vacation, (, very, unusual, for, him, ., ), i, called, his, doctor, on, monday, morning, and, she, said, to, stick, it, out, a, few, days, ., see, how, he, did, at, school, ,, and, with, getting, up, in, ...]</td>\n",
              "      <td>[``, MY, SON, IS, HALFWAY, THROUGH, HIS, FOURTH, WEEK, OF, INTUNIV, ., WE, BECAME, CONCERNED, WHEN, HE, BEGAN, THIS, LAST, WEEK, ,, WHEN, HE, STARTED, TAKING, THE, HIGHEST, DOSE, HE, WILL, BE, ON, ., FOR, TWO, DAYS, ,, HE, COULD, HARDLY, GET, OUT, OF, BED, ,, WAS, VERY, CRANKY, ,, AND, SLEPT, FOR, NEARLY, 8, HOURS, ON, A, DRIVE, HOME, FROM, SCHOOL, VACATION, (, VERY, UNUSUAL, FOR, HIM, ., ), I, CALLED, HIS, DOCTOR, ON, MONDAY, MORNING, AND, SHE, SAID, TO, STICK, IT, OUT, A, FEW, DAYS, ., SEE, HOW, HE, DID, AT, SCHOOL, ,, AND, WITH, GETTING, UP, IN, ...]</td>\n",
              "      <td>[``, my, son, is, halfway, through, his, fourth, week, of, intuniv, we, became, concerned, when, he, began, this, last, week, when, he, started, taking, the, highest, dose, he, will, be, on, for, two, days, he, could, hardly, get, out, of, bed, was, very, cranky, and, slept, for, nearly, 8, hours, on, a, drive, home, from, school, vacation, very, unusual, for, him, i, called, his, doctor, on, monday, morning, and, she, said, to, stick, it, out, a, few, days, see, how, he, did, at, school, and, with, getting, up, in, the, morning, the, last, two, days, have, been, problem, free, he, ...]</td>\n",
              "      <td>[``, My, son, halfway, fourth, week, Intuniv, ., We, became, concerned, began, last, week, ,, started, taking, highest, dose, ., For, two, days, ,, could, hardly, get, bed, ,, cranky, ,, slept, nearly, 8, hours, drive, home, school, vacation, (, unusual, ., ), I, called, doctor, Monday, morning, said, stick, days, ., See, school, ,, getting, morning, ., The, last, two, days, problem, free, ., He, MUCH, agreeable, ever, ., He, less, emotional, (, good, thing, ), ,, less, cranky, ., He, remembering, things, ., Overall, behavior, better, ., We, tried, many, different, medications, far, effective, ., '']</td>\n",
              "      <td>[``, my, son, halfway, fourth, week, intuniv, ., we, becam, concern, began, last, week, ,, start, take, highest, dose, ., for, two, day, ,, could, hardli, get, bed, ,, cranki, ,, slept, nearli, 8, hour, drive, home, school, vacat, (, unusu, ., ), i, call, doctor, monday, morn, said, stick, day, ., see, school, ,, get, morn, ., the, last, two, day, problem, free, ., he, much, agreeabl, ever, ., he, less, emot, (, good, thing, ), ,, less, cranki, ., he, rememb, thing, ., overal, behavior, better, ., we, tri, mani, differ, medic, far, effect, ., '']</td>\n",
              "      <td>My son is halfway through his fourth week of Intuniv. We became concerned when he began this last week, when he started taking the highest dose he will be on. For two days, he could hardly get out of bed, was very cranky, and slept for nearly 8 hours on a drive home from school vacation (very unusual for him.) I called his doctor on Monday morning and she said to stick it out a few days. See how he did at school, and with getting up in the morning. The last two days have been problem free. He is MUCH more agreeable than ever. He is less emotional (a good thing), less cranky. He is remembering all the things he should. Overall his behavior is better. We have tried many different medications and so far this is the most effective.</td>\n",
              "      <td>positive</td>\n",
              "      <td>0.9174</td>\n",
              "      <td>positive</td>\n",
              "    </tr>\n",
              "    <tr>\n",
              "      <th>2</th>\n",
              "      <td>92703</td>\n",
              "      <td>Lybrel</td>\n",
              "      <td>Birth Control</td>\n",
              "      <td>\"I used to take another oral contraceptive, which had 21 pill cycle, and was very happy- very light periods, max 5 days, no other side effects. But it contained hormone gestodene, which is not available in US, so I switched to Lybrel, because the ingredients are similar. When my other pills ended, I started Lybrel immediately, on my first day of period, as the instructions said. And the period lasted for two weeks. When taking the second pack- same two weeks. And now, with third pack things got even worse- my third period lasted for two weeks and now it&amp;#039;s the end of the third week- I still have daily brown discharge.\\r\\nThe positive side is that I didn&amp;#039;t have any other side effects. The idea of being period free was so tempting... Alas.\"</td>\n",
              "      <td>5.0</td>\n",
              "      <td>2009-12-14</td>\n",
              "      <td>17</td>\n",
              "      <td>[\"I used to take another oral contraceptive, which had 21 pill cycle, and was very happy- very light periods, max 5 days, no other side effects., But it contained hormone gestodene, which is not available in US, so I switched to Lybrel, because the ingredients are similar., When my other pills ended, I started Lybrel immediately, on my first day of period, as the instructions said., And the period lasted for two weeks., When taking the second pack- same two weeks., And now, with third pack things got even worse- my third period lasted for two weeks and now it&amp;#039;s the end of the third week- I still have daily brown discharge., The positive side is that I didn&amp;#039;t have any other side effects., The idea of being period free was so tempting..., Alas.\"]</td>\n",
              "      <td>[``, I, used, to, take, another, oral, contraceptive, ,, which, had, 21, pill, cycle, ,, and, was, very, happy-, very, light, periods, ,, max, 5, days, ,, no, other, side, effects, ., But, it, contained, hormone, gestodene, ,, which, is, not, available, in, US, ,, so, I, switched, to, Lybrel, ,, because, the, ingredients, are, similar, ., When, my, other, pills, ended, ,, I, started, Lybrel, immediately, ,, on, my, first, day, of, period, ,, as, the, instructions, said, ., And, the, period, lasted, for, two, weeks, ., When, taking, the, second, pack-, same, two, weeks, ., And, now, ,, ...]</td>\n",
              "      <td>[``, i, used, to, take, another, oral, contraceptive, ,, which, had, 21, pill, cycle, ,, and, was, very, happy-, very, light, periods, ,, max, 5, days, ,, no, other, side, effects, ., but, it, contained, hormone, gestodene, ,, which, is, not, available, in, us, ,, so, i, switched, to, lybrel, ,, because, the, ingredients, are, similar, ., when, my, other, pills, ended, ,, i, started, lybrel, immediately, ,, on, my, first, day, of, period, ,, as, the, instructions, said, ., and, the, period, lasted, for, two, weeks, ., when, taking, the, second, pack-, same, two, weeks, ., and, now, ,, ...]</td>\n",
              "      <td>[``, I, USED, TO, TAKE, ANOTHER, ORAL, CONTRACEPTIVE, ,, WHICH, HAD, 21, PILL, CYCLE, ,, AND, WAS, VERY, HAPPY-, VERY, LIGHT, PERIODS, ,, MAX, 5, DAYS, ,, NO, OTHER, SIDE, EFFECTS, ., BUT, IT, CONTAINED, HORMONE, GESTODENE, ,, WHICH, IS, NOT, AVAILABLE, IN, US, ,, SO, I, SWITCHED, TO, LYBREL, ,, BECAUSE, THE, INGREDIENTS, ARE, SIMILAR, ., WHEN, MY, OTHER, PILLS, ENDED, ,, I, STARTED, LYBREL, IMMEDIATELY, ,, ON, MY, FIRST, DAY, OF, PERIOD, ,, AS, THE, INSTRUCTIONS, SAID, ., AND, THE, PERIOD, LASTED, FOR, TWO, WEEKS, ., WHEN, TAKING, THE, SECOND, PACK-, SAME, TWO, WEEKS, ., AND, NOW, ,, ...]</td>\n",
              "      <td>[``, i, used, to, take, another, oral, contraceptive, which, had, 21, pill, cycle, and, was, very, happy-, very, light, periods, max, 5, days, no, other, side, effects, but, it, contained, hormone, gestodene, which, is, not, available, in, us, so, i, switched, to, lybrel, because, the, ingredients, are, similar, when, my, other, pills, ended, i, started, lybrel, immediately, on, my, first, day, of, period, as, the, instructions, said, and, the, period, lasted, for, two, weeks, when, taking, the, second, pack-, same, two, weeks, and, now, with, third, pack, things, got, even, worse-, my, third, period, lasted, for, two, weeks, and, now, ...]</td>\n",
              "      <td>[``, I, used, take, another, oral, contraceptive, ,, 21, pill, cycle, ,, happy-, light, periods, ,, max, 5, days, ,, side, effects, ., But, contained, hormone, gestodene, ,, available, US, ,, I, switched, Lybrel, ,, ingredients, similar, ., When, pills, ended, ,, I, started, Lybrel, immediately, ,, first, day, period, ,, instructions, said, ., And, period, lasted, two, weeks, ., When, taking, second, pack-, two, weeks, ., And, ,, third, pack, things, got, even, worse-, third, period, lasted, two, weeks, &amp;, #, 039, ;, end, third, week-, I, still, daily, brown, discharge, ., The, positive, side, I, &amp;, #, 039, ...]</td>\n",
              "      <td>[``, i, use, take, anoth, oral, contracept, ,, 21, pill, cycl, ,, happy-, light, period, ,, max, 5, day, ,, side, effect, ., but, contain, hormon, gestoden, ,, avail, us, ,, i, switch, lybrel, ,, ingredi, similar, ., when, pill, end, ,, i, start, lybrel, immedi, ,, first, day, period, ,, instruct, said, ., and, period, last, two, week, ., when, take, second, pack-, two, week, ., and, ,, third, pack, thing, got, even, worse-, third, period, last, two, week, &amp;, #, 039, ;, end, third, week-, i, still, daili, brown, discharg, ., the, posit, side, i, &amp;, #, 039, ...]</td>\n",
              "      <td>I used to take another oral contraceptive, which had 21 pill cycle, and was very happy- very light periods, max 5 days, no other side effects. But it contained hormone gestodene, which is not available in US, so I switched to Lybrel, because the ingredients are similar. When my other pills ended, I started Lybrel immediately, on my first day of period, as the instructions said. And the period lasted for two weeks. When taking the second pack- same two weeks. And now, with third pack things got even worse- my third period lasted for two weeks and now it's the end of the third week- I still have daily brown discharge. The positive side is that I didn't have any other side effects. The idea of being period free was so tempting... Alas.</td>\n",
              "      <td>neutral</td>\n",
              "      <td>0.6160</td>\n",
              "      <td>positive</td>\n",
              "    </tr>\n",
              "    <tr>\n",
              "      <th>3</th>\n",
              "      <td>138000</td>\n",
              "      <td>Ortho Evra</td>\n",
              "      <td>Birth Control</td>\n",
              "      <td>\"This is my first time using any form of birth control. I&amp;#039;m glad I went with the patch, I have been on it for 8 months. At first It decreased my libido but that subsided. The only downside is that it made my periods longer (5-6 days to be exact) I used to only have periods for 3-4 days max also made my cramps intense for the first two days of my period, I never had cramps before using birth control. Other than that in happy with the patch\"</td>\n",
              "      <td>8.0</td>\n",
              "      <td>2015-11-03</td>\n",
              "      <td>10</td>\n",
              "      <td>[\"This is my first time using any form of birth control., I&amp;#039;m glad I went with the patch, I have been on it for 8 months., At first It decreased my libido but that subsided., The only downside is that it made my periods longer (5-6 days to be exact) I used to only have periods for 3-4 days max also made my cramps intense for the first two days of my period, I never had cramps before using birth control., Other than that in happy with the patch\"]</td>\n",
              "      <td>[``, This, is, my, first, time, using, any, form, of, birth, control, ., I, &amp;, #, 039, ;, m, glad, I, went, with, the, patch, ,, I, have, been, on, it, for, 8, months, ., At, first, It, decreased, my, libido, but, that, subsided, ., The, only, downside, is, that, it, made, my, periods, longer, (, 5-6, days, to, be, exact, ), I, used, to, only, have, periods, for, 3-4, days, max, also, made, my, cramps, intense, for, the, first, two, days, of, my, period, ,, I, never, had, cramps, before, using, birth, control, ., Other, than, that, in, happy, ...]</td>\n",
              "      <td>[``, this, is, my, first, time, using, any, form, of, birth, control, ., i, &amp;, #, 039, ;, m, glad, i, went, with, the, patch, ,, i, have, been, on, it, for, 8, months, ., at, first, it, decreased, my, libido, but, that, subsided, ., the, only, downside, is, that, it, made, my, periods, longer, (, 5-6, days, to, be, exact, ), i, used, to, only, have, periods, for, 3-4, days, max, also, made, my, cramps, intense, for, the, first, two, days, of, my, period, ,, i, never, had, cramps, before, using, birth, control, ., other, than, that, in, happy, ...]</td>\n",
              "      <td>[``, THIS, IS, MY, FIRST, TIME, USING, ANY, FORM, OF, BIRTH, CONTROL, ., I, &amp;, #, 039, ;, M, GLAD, I, WENT, WITH, THE, PATCH, ,, I, HAVE, BEEN, ON, IT, FOR, 8, MONTHS, ., AT, FIRST, IT, DECREASED, MY, LIBIDO, BUT, THAT, SUBSIDED, ., THE, ONLY, DOWNSIDE, IS, THAT, IT, MADE, MY, PERIODS, LONGER, (, 5-6, DAYS, TO, BE, EXACT, ), I, USED, TO, ONLY, HAVE, PERIODS, FOR, 3-4, DAYS, MAX, ALSO, MADE, MY, CRAMPS, INTENSE, FOR, THE, FIRST, TWO, DAYS, OF, MY, PERIOD, ,, I, NEVER, HAD, CRAMPS, BEFORE, USING, BIRTH, CONTROL, ., OTHER, THAN, THAT, IN, HAPPY, ...]</td>\n",
              "      <td>[``, this, is, my, first, time, using, any, form, of, birth, control, i, 039, m, glad, i, went, with, the, patch, i, have, been, on, it, for, 8, months, at, first, it, decreased, my, libido, but, that, subsided, the, only, downside, is, that, it, made, my, periods, longer, 5-6, days, to, be, exact, i, used, to, only, have, periods, for, 3-4, days, max, also, made, my, cramps, intense, for, the, first, two, days, of, my, period, i, never, had, cramps, before, using, birth, control, other, than, that, in, happy, with, the, patch, '']</td>\n",
              "      <td>[``, This, first, time, using, form, birth, control, ., I, &amp;, #, 039, ;, glad, I, went, patch, ,, I, 8, months, ., At, first, It, decreased, libido, subsided, ., The, downside, made, periods, longer, (, 5-6, days, exact, ), I, used, periods, 3-4, days, max, also, made, cramps, intense, first, two, days, period, ,, I, never, cramps, using, birth, control, ., Other, happy, patch, '']</td>\n",
              "      <td>[``, thi, first, time, use, form, birth, control, ., i, &amp;, #, 039, ;, glad, i, went, patch, ,, i, 8, month, ., at, first, it, decreas, libido, subsid, ., the, downsid, made, period, longer, (, 5-6, day, exact, ), i, use, period, 3-4, day, max, also, made, cramp, intens, first, two, day, period, ,, i, never, cramp, use, birth, control, ., other, happi, patch, '']</td>\n",
              "      <td>This is my first time using any form of birth control. I'm glad I went with the patch, I have been on it for 8 months. At first It decreased my libido but that subsided. The only downside is that it made my periods longer (5-6 days to be exact) I used to only have periods for 3-4 days max also made my cramps intense for the first two days of my period, I never had cramps before using birth control. Other than that in happy with the patch</td>\n",
              "      <td>positive</td>\n",
              "      <td>0.7184</td>\n",
              "      <td>positive</td>\n",
              "    </tr>\n",
              "    <tr>\n",
              "      <th>4</th>\n",
              "      <td>35696</td>\n",
              "      <td>Buprenorphine / naloxone</td>\n",
              "      <td>Opiate Dependence</td>\n",
              "      <td>\"Suboxone has completely turned my life around.  I feel healthier, I&amp;#039;m excelling at my job and I always have money in my pocket and my savings account.  I had none of those before Suboxone and spent years abusing oxycontin.  My paycheck was already spent by the time I got it and I started resorting to scheming and stealing to fund my addiction.  All that is history.  If you&amp;#039;re ready to stop, there&amp;#039;s a good chance that suboxone will put you on the path of great life again.  I have found the side-effects to be minimal compared to oxycontin.  I&amp;#039;m actually sleeping better.   Slight constipation is about it for me.  It truly is amazing. The cost pales in comparison to what I spent on oxycontin.\"</td>\n",
              "      <td>9.0</td>\n",
              "      <td>2016-11-27</td>\n",
              "      <td>37</td>\n",
              "      <td>[\"Suboxone has completely turned my life around., I feel healthier, I&amp;#039;m excelling at my job and I always have money in my pocket and my savings account., I had none of those before Suboxone and spent years abusing oxycontin., My paycheck was already spent by the time I got it and I started resorting to scheming and stealing to fund my addiction., All that is history., If you&amp;#039;re ready to stop, there&amp;#039;s a good chance that suboxone will put you on the path of great life again., I have found the side-effects to be minimal compared to oxycontin., I&amp;#039;m actually sleeping better., Slight constipation is about it for me., It truly is amazing., The cost pales in comparison to what I spent on oxycontin.\"]</td>\n",
              "      <td>[``, Suboxone, has, completely, turned, my, life, around, ., I, feel, healthier, ,, I, &amp;, #, 039, ;, m, excelling, at, my, job, and, I, always, have, money, in, my, pocket, and, my, savings, account, ., I, had, none, of, those, before, Suboxone, and, spent, years, abusing, oxycontin, ., My, paycheck, was, already, spent, by, the, time, I, got, it, and, I, started, resorting, to, scheming, and, stealing, to, fund, my, addiction, ., All, that, is, history, ., If, you, &amp;, #, 039, ;, re, ready, to, stop, ,, there, &amp;, #, 039, ;, s, a, good, chance, that, suboxone, ...]</td>\n",
              "      <td>[``, suboxone, has, completely, turned, my, life, around, ., i, feel, healthier, ,, i, &amp;, #, 039, ;, m, excelling, at, my, job, and, i, always, have, money, in, my, pocket, and, my, savings, account, ., i, had, none, of, those, before, suboxone, and, spent, years, abusing, oxycontin, ., my, paycheck, was, already, spent, by, the, time, i, got, it, and, i, started, resorting, to, scheming, and, stealing, to, fund, my, addiction, ., all, that, is, history, ., if, you, &amp;, #, 039, ;, re, ready, to, stop, ,, there, &amp;, #, 039, ;, s, a, good, chance, that, suboxone, ...]</td>\n",
              "      <td>[``, SUBOXONE, HAS, COMPLETELY, TURNED, MY, LIFE, AROUND, ., I, FEEL, HEALTHIER, ,, I, &amp;, #, 039, ;, M, EXCELLING, AT, MY, JOB, AND, I, ALWAYS, HAVE, MONEY, IN, MY, POCKET, AND, MY, SAVINGS, ACCOUNT, ., I, HAD, NONE, OF, THOSE, BEFORE, SUBOXONE, AND, SPENT, YEARS, ABUSING, OXYCONTIN, ., MY, PAYCHECK, WAS, ALREADY, SPENT, BY, THE, TIME, I, GOT, IT, AND, I, STARTED, RESORTING, TO, SCHEMING, AND, STEALING, TO, FUND, MY, ADDICTION, ., ALL, THAT, IS, HISTORY, ., IF, YOU, &amp;, #, 039, ;, RE, READY, TO, STOP, ,, THERE, &amp;, #, 039, ;, S, A, GOOD, CHANCE, THAT, SUBOXONE, ...]</td>\n",
              "      <td>[``, suboxone, has, completely, turned, my, life, around, i, feel, healthier, i, 039, m, excelling, at, my, job, and, i, always, have, money, in, my, pocket, and, my, savings, account, i, had, none, of, those, before, suboxone, and, spent, years, abusing, oxycontin, my, paycheck, was, already, spent, by, the, time, i, got, it, and, i, started, resorting, to, scheming, and, stealing, to, fund, my, addiction, all, that, is, history, if, you, 039, re, ready, to, stop, there, 039, s, a, good, chance, that, suboxone, will, put, you, on, the, path, of, great, life, again, i, have, found, the, side-effects, to, ...]</td>\n",
              "      <td>[``, Suboxone, completely, turned, life, around, ., I, feel, healthier, ,, I, &amp;, #, 039, ;, excelling, job, I, always, money, pocket, savings, account, ., I, none, Suboxone, spent, years, abusing, oxycontin, ., My, paycheck, already, spent, time, I, got, I, started, resorting, scheming, stealing, fund, addiction, ., All, history, ., If, &amp;, #, 039, ;, ready, stop, ,, &amp;, #, 039, ;, good, chance, suboxone, put, path, great, life, ., I, found, side-effects, minimal, compared, oxycontin, ., I, &amp;, #, 039, ;, actually, sleeping, better, ., Slight, constipation, ., It, truly, amazing, ., The, cost, pales, comparison, I, spent, ...]</td>\n",
              "      <td>[``, suboxon, complet, turn, life, around, ., i, feel, healthier, ,, i, &amp;, #, 039, ;, excel, job, i, alway, money, pocket, save, account, ., i, none, suboxon, spent, year, abus, oxycontin, ., my, paycheck, alreadi, spent, time, i, got, i, start, resort, scheme, steal, fund, addict, ., all, histori, ., if, &amp;, #, 039, ;, readi, stop, ,, &amp;, #, 039, ;, good, chanc, suboxon, put, path, great, life, ., i, found, side-effect, minim, compar, oxycontin, ., i, &amp;, #, 039, ;, actual, sleep, better, ., slight, constip, ., it, truli, amaz, ., the, cost, pale, comparison, i, spent, ...]</td>\n",
              "      <td>Suboxone has completely turned my life around. I feel healthier, I'm excelling at my job and I always have money in my pocket and my savings account. I had none of those before Suboxone and spent years abusing oxycontin. My paycheck was already spent by the time I got it and I started resorting to scheming and stealing to fund my addiction. All that is history. If you're ready to stop, there's a good chance that suboxone will put you on the path of great life again. I have found the side-effects to be minimal compared to oxycontin. I'm actually sleeping better. Slight constipation is about it for me. It truly is amazing. The cost pales in comparison to what I spent on oxycontin.</td>\n",
              "      <td>positive</td>\n",
              "      <td>0.9403</td>\n",
              "      <td>positive</td>\n",
              "    </tr>\n",
              "  </tbody>\n",
              "</table>\n",
              "</div>"
            ],
            "text/plain": [
              "   patient_id                  drugName                     condition  \\\n",
              "0      206461                 Valsartan  Left Ventricular Dysfunction   \n",
              "1       95260                Guanfacine                          ADHD   \n",
              "2       92703                    Lybrel                 Birth Control   \n",
              "3      138000                Ortho Evra                 Birth Control   \n",
              "4       35696  Buprenorphine / naloxone             Opiate Dependence   \n",
              "\n",
              "                                                                                                                                                                                                                                                                                                                                                                                                                                                                                                                                                                                                                                                                                                                                                                                  review  \\\n",
              "0                                                                                                                                                                                                                                                                                                                                                                                                                                                                                                                                                                                                                                                                                                        \"It has no side effect, I take it in combination of Bystolic 5 Mg and Fish Oil\"   \n",
              "1                \"My son is halfway through his fourth week of Intuniv. We became concerned when he began this last week, when he started taking the highest dose he will be on. For two days, he could hardly get out of bed, was very cranky, and slept for nearly 8 hours on a drive home from school vacation (very unusual for him.) I called his doctor on Monday morning and she said to stick it out a few days. See how he did at school, and with getting up in the morning. The last two days have been problem free. He is MUCH more agreeable than ever. He is less emotional (a good thing), less cranky. He is remembering all the things he should. Overall his behavior is better. \\r\\nWe have tried many different medications and so far this is the most effective.\"   \n",
              "2  \"I used to take another oral contraceptive, which had 21 pill cycle, and was very happy- very light periods, max 5 days, no other side effects. But it contained hormone gestodene, which is not available in US, so I switched to Lybrel, because the ingredients are similar. When my other pills ended, I started Lybrel immediately, on my first day of period, as the instructions said. And the period lasted for two weeks. When taking the second pack- same two weeks. And now, with third pack things got even worse- my third period lasted for two weeks and now it&#039;s the end of the third week- I still have daily brown discharge.\\r\\nThe positive side is that I didn&#039;t have any other side effects. The idea of being period free was so tempting... Alas.\"   \n",
              "3                                                                                                                                                                                                                                                                                                                       \"This is my first time using any form of birth control. I&#039;m glad I went with the patch, I have been on it for 8 months. At first It decreased my libido but that subsided. The only downside is that it made my periods longer (5-6 days to be exact) I used to only have periods for 3-4 days max also made my cramps intense for the first two days of my period, I never had cramps before using birth control. Other than that in happy with the patch\"   \n",
              "4                                        \"Suboxone has completely turned my life around.  I feel healthier, I&#039;m excelling at my job and I always have money in my pocket and my savings account.  I had none of those before Suboxone and spent years abusing oxycontin.  My paycheck was already spent by the time I got it and I started resorting to scheming and stealing to fund my addiction.  All that is history.  If you&#039;re ready to stop, there&#039;s a good chance that suboxone will put you on the path of great life again.  I have found the side-effects to be minimal compared to oxycontin.  I&#039;m actually sleeping better.   Slight constipation is about it for me.  It truly is amazing. The cost pales in comparison to what I spent on oxycontin.\"   \n",
              "\n",
              "   rating       date  usefulCount  \\\n",
              "0     9.0 2012-05-20           27   \n",
              "1     8.0 2010-04-27          192   \n",
              "2     5.0 2009-12-14           17   \n",
              "3     8.0 2015-11-03           10   \n",
              "4     9.0 2016-11-27           37   \n",
              "\n",
              "                                                                                                                                                                                                                                                                                                                                                                                                                                                                                                                                                                                                                                                                                                                                                                                      sentences  \\\n",
              "0                                                                                                                                                                                                                                                                                                                                                                                                                                                                                                                                                                                                                                                                                                             [\"It has no side effect, I take it in combination of Bystolic 5 Mg and Fish Oil\"]   \n",
              "1               [\"My son is halfway through his fourth week of Intuniv., We became concerned when he began this last week, when he started taking the highest dose he will be on., For two days, he could hardly get out of bed, was very cranky, and slept for nearly 8 hours on a drive home from school vacation (very unusual for him.), I called his doctor on Monday morning and she said to stick it out a few days., See how he did at school, and with getting up in the morning., The last two days have been problem free., He is MUCH more agreeable than ever., He is less emotional (a good thing), less cranky., He is remembering all the things he should., Overall his behavior is better., We have tried many different medications and so far this is the most effective.\"]   \n",
              "2  [\"I used to take another oral contraceptive, which had 21 pill cycle, and was very happy- very light periods, max 5 days, no other side effects., But it contained hormone gestodene, which is not available in US, so I switched to Lybrel, because the ingredients are similar., When my other pills ended, I started Lybrel immediately, on my first day of period, as the instructions said., And the period lasted for two weeks., When taking the second pack- same two weeks., And now, with third pack things got even worse- my third period lasted for two weeks and now it&#039;s the end of the third week- I still have daily brown discharge., The positive side is that I didn&#039;t have any other side effects., The idea of being period free was so tempting..., Alas.\"]   \n",
              "3                                                                                                                                                                                                                                                                                                                        [\"This is my first time using any form of birth control., I&#039;m glad I went with the patch, I have been on it for 8 months., At first It decreased my libido but that subsided., The only downside is that it made my periods longer (5-6 days to be exact) I used to only have periods for 3-4 days max also made my cramps intense for the first two days of my period, I never had cramps before using birth control., Other than that in happy with the patch\"]   \n",
              "4                                             [\"Suboxone has completely turned my life around., I feel healthier, I&#039;m excelling at my job and I always have money in my pocket and my savings account., I had none of those before Suboxone and spent years abusing oxycontin., My paycheck was already spent by the time I got it and I started resorting to scheming and stealing to fund my addiction., All that is history., If you&#039;re ready to stop, there&#039;s a good chance that suboxone will put you on the path of great life again., I have found the side-effects to be minimal compared to oxycontin., I&#039;m actually sleeping better., Slight constipation is about it for me., It truly is amazing., The cost pales in comparison to what I spent on oxycontin.\"]   \n",
              "\n",
              "                                                                                                                                                                                                                                                                                                                                                                                                                                                                                                                                                                                                                 tokens  \\\n",
              "0                                                                                                                                                                                                                                                                                                                                                                                                                                                                                                             [``, It, has, no, side, effect, ,, I, take, it, in, combination, of, Bystolic, 5, Mg, and, Fish, Oil, '']   \n",
              "1                                       [``, My, son, is, halfway, through, his, fourth, week, of, Intuniv, ., We, became, concerned, when, he, began, this, last, week, ,, when, he, started, taking, the, highest, dose, he, will, be, on, ., For, two, days, ,, he, could, hardly, get, out, of, bed, ,, was, very, cranky, ,, and, slept, for, nearly, 8, hours, on, a, drive, home, from, school, vacation, (, very, unusual, for, him, ., ), I, called, his, doctor, on, Monday, morning, and, she, said, to, stick, it, out, a, few, days, ., See, how, he, did, at, school, ,, and, with, getting, up, in, ...]   \n",
              "2  [``, I, used, to, take, another, oral, contraceptive, ,, which, had, 21, pill, cycle, ,, and, was, very, happy-, very, light, periods, ,, max, 5, days, ,, no, other, side, effects, ., But, it, contained, hormone, gestodene, ,, which, is, not, available, in, US, ,, so, I, switched, to, Lybrel, ,, because, the, ingredients, are, similar, ., When, my, other, pills, ended, ,, I, started, Lybrel, immediately, ,, on, my, first, day, of, period, ,, as, the, instructions, said, ., And, the, period, lasted, for, two, weeks, ., When, taking, the, second, pack-, same, two, weeks, ., And, now, ,, ...]   \n",
              "3                                             [``, This, is, my, first, time, using, any, form, of, birth, control, ., I, &, #, 039, ;, m, glad, I, went, with, the, patch, ,, I, have, been, on, it, for, 8, months, ., At, first, It, decreased, my, libido, but, that, subsided, ., The, only, downside, is, that, it, made, my, periods, longer, (, 5-6, days, to, be, exact, ), I, used, to, only, have, periods, for, 3-4, days, max, also, made, my, cramps, intense, for, the, first, two, days, of, my, period, ,, I, never, had, cramps, before, using, birth, control, ., Other, than, that, in, happy, ...]   \n",
              "4                            [``, Suboxone, has, completely, turned, my, life, around, ., I, feel, healthier, ,, I, &, #, 039, ;, m, excelling, at, my, job, and, I, always, have, money, in, my, pocket, and, my, savings, account, ., I, had, none, of, those, before, Suboxone, and, spent, years, abusing, oxycontin, ., My, paycheck, was, already, spent, by, the, time, I, got, it, and, I, started, resorting, to, scheming, and, stealing, to, fund, my, addiction, ., All, that, is, history, ., If, you, &, #, 039, ;, re, ready, to, stop, ,, there, &, #, 039, ;, s, a, good, chance, that, suboxone, ...]   \n",
              "\n",
              "                                                                                                                                                                                                                                                                                                                                                                                                                                                                                                                                                                                                           tokens_lower  \\\n",
              "0                                                                                                                                                                                                                                                                                                                                                                                                                                                                                                             [``, it, has, no, side, effect, ,, i, take, it, in, combination, of, bystolic, 5, mg, and, fish, oil, '']   \n",
              "1                                       [``, my, son, is, halfway, through, his, fourth, week, of, intuniv, ., we, became, concerned, when, he, began, this, last, week, ,, when, he, started, taking, the, highest, dose, he, will, be, on, ., for, two, days, ,, he, could, hardly, get, out, of, bed, ,, was, very, cranky, ,, and, slept, for, nearly, 8, hours, on, a, drive, home, from, school, vacation, (, very, unusual, for, him, ., ), i, called, his, doctor, on, monday, morning, and, she, said, to, stick, it, out, a, few, days, ., see, how, he, did, at, school, ,, and, with, getting, up, in, ...]   \n",
              "2  [``, i, used, to, take, another, oral, contraceptive, ,, which, had, 21, pill, cycle, ,, and, was, very, happy-, very, light, periods, ,, max, 5, days, ,, no, other, side, effects, ., but, it, contained, hormone, gestodene, ,, which, is, not, available, in, us, ,, so, i, switched, to, lybrel, ,, because, the, ingredients, are, similar, ., when, my, other, pills, ended, ,, i, started, lybrel, immediately, ,, on, my, first, day, of, period, ,, as, the, instructions, said, ., and, the, period, lasted, for, two, weeks, ., when, taking, the, second, pack-, same, two, weeks, ., and, now, ,, ...]   \n",
              "3                                             [``, this, is, my, first, time, using, any, form, of, birth, control, ., i, &, #, 039, ;, m, glad, i, went, with, the, patch, ,, i, have, been, on, it, for, 8, months, ., at, first, it, decreased, my, libido, but, that, subsided, ., the, only, downside, is, that, it, made, my, periods, longer, (, 5-6, days, to, be, exact, ), i, used, to, only, have, periods, for, 3-4, days, max, also, made, my, cramps, intense, for, the, first, two, days, of, my, period, ,, i, never, had, cramps, before, using, birth, control, ., other, than, that, in, happy, ...]   \n",
              "4                            [``, suboxone, has, completely, turned, my, life, around, ., i, feel, healthier, ,, i, &, #, 039, ;, m, excelling, at, my, job, and, i, always, have, money, in, my, pocket, and, my, savings, account, ., i, had, none, of, those, before, suboxone, and, spent, years, abusing, oxycontin, ., my, paycheck, was, already, spent, by, the, time, i, got, it, and, i, started, resorting, to, scheming, and, stealing, to, fund, my, addiction, ., all, that, is, history, ., if, you, &, #, 039, ;, re, ready, to, stop, ,, there, &, #, 039, ;, s, a, good, chance, that, suboxone, ...]   \n",
              "\n",
              "                                                                                                                                                                                                                                                                                                                                                                                                                                                                                                                                                                                                           tokens_upper  \\\n",
              "0                                                                                                                                                                                                                                                                                                                                                                                                                                                                                                             [``, IT, HAS, NO, SIDE, EFFECT, ,, I, TAKE, IT, IN, COMBINATION, OF, BYSTOLIC, 5, MG, AND, FISH, OIL, '']   \n",
              "1                                       [``, MY, SON, IS, HALFWAY, THROUGH, HIS, FOURTH, WEEK, OF, INTUNIV, ., WE, BECAME, CONCERNED, WHEN, HE, BEGAN, THIS, LAST, WEEK, ,, WHEN, HE, STARTED, TAKING, THE, HIGHEST, DOSE, HE, WILL, BE, ON, ., FOR, TWO, DAYS, ,, HE, COULD, HARDLY, GET, OUT, OF, BED, ,, WAS, VERY, CRANKY, ,, AND, SLEPT, FOR, NEARLY, 8, HOURS, ON, A, DRIVE, HOME, FROM, SCHOOL, VACATION, (, VERY, UNUSUAL, FOR, HIM, ., ), I, CALLED, HIS, DOCTOR, ON, MONDAY, MORNING, AND, SHE, SAID, TO, STICK, IT, OUT, A, FEW, DAYS, ., SEE, HOW, HE, DID, AT, SCHOOL, ,, AND, WITH, GETTING, UP, IN, ...]   \n",
              "2  [``, I, USED, TO, TAKE, ANOTHER, ORAL, CONTRACEPTIVE, ,, WHICH, HAD, 21, PILL, CYCLE, ,, AND, WAS, VERY, HAPPY-, VERY, LIGHT, PERIODS, ,, MAX, 5, DAYS, ,, NO, OTHER, SIDE, EFFECTS, ., BUT, IT, CONTAINED, HORMONE, GESTODENE, ,, WHICH, IS, NOT, AVAILABLE, IN, US, ,, SO, I, SWITCHED, TO, LYBREL, ,, BECAUSE, THE, INGREDIENTS, ARE, SIMILAR, ., WHEN, MY, OTHER, PILLS, ENDED, ,, I, STARTED, LYBREL, IMMEDIATELY, ,, ON, MY, FIRST, DAY, OF, PERIOD, ,, AS, THE, INSTRUCTIONS, SAID, ., AND, THE, PERIOD, LASTED, FOR, TWO, WEEKS, ., WHEN, TAKING, THE, SECOND, PACK-, SAME, TWO, WEEKS, ., AND, NOW, ,, ...]   \n",
              "3                                             [``, THIS, IS, MY, FIRST, TIME, USING, ANY, FORM, OF, BIRTH, CONTROL, ., I, &, #, 039, ;, M, GLAD, I, WENT, WITH, THE, PATCH, ,, I, HAVE, BEEN, ON, IT, FOR, 8, MONTHS, ., AT, FIRST, IT, DECREASED, MY, LIBIDO, BUT, THAT, SUBSIDED, ., THE, ONLY, DOWNSIDE, IS, THAT, IT, MADE, MY, PERIODS, LONGER, (, 5-6, DAYS, TO, BE, EXACT, ), I, USED, TO, ONLY, HAVE, PERIODS, FOR, 3-4, DAYS, MAX, ALSO, MADE, MY, CRAMPS, INTENSE, FOR, THE, FIRST, TWO, DAYS, OF, MY, PERIOD, ,, I, NEVER, HAD, CRAMPS, BEFORE, USING, BIRTH, CONTROL, ., OTHER, THAN, THAT, IN, HAPPY, ...]   \n",
              "4                            [``, SUBOXONE, HAS, COMPLETELY, TURNED, MY, LIFE, AROUND, ., I, FEEL, HEALTHIER, ,, I, &, #, 039, ;, M, EXCELLING, AT, MY, JOB, AND, I, ALWAYS, HAVE, MONEY, IN, MY, POCKET, AND, MY, SAVINGS, ACCOUNT, ., I, HAD, NONE, OF, THOSE, BEFORE, SUBOXONE, AND, SPENT, YEARS, ABUSING, OXYCONTIN, ., MY, PAYCHECK, WAS, ALREADY, SPENT, BY, THE, TIME, I, GOT, IT, AND, I, STARTED, RESORTING, TO, SCHEMING, AND, STEALING, TO, FUND, MY, ADDICTION, ., ALL, THAT, IS, HISTORY, ., IF, YOU, &, #, 039, ;, RE, READY, TO, STOP, ,, THERE, &, #, 039, ;, S, A, GOOD, CHANCE, THAT, SUBOXONE, ...]   \n",
              "\n",
              "                                                                                                                                                                                                                                                                                                                                                                                                                                                                                                                                                                                                                                                            tokens_no_punct  \\\n",
              "0                                                                                                                                                                                                                                                                                                                                                                                                                                                                                                                                                                    [``, it, has, no, side, effect, i, take, it, in, combination, of, bystolic, 5, mg, and, fish, oil, '']   \n",
              "1                                                         [``, my, son, is, halfway, through, his, fourth, week, of, intuniv, we, became, concerned, when, he, began, this, last, week, when, he, started, taking, the, highest, dose, he, will, be, on, for, two, days, he, could, hardly, get, out, of, bed, was, very, cranky, and, slept, for, nearly, 8, hours, on, a, drive, home, from, school, vacation, very, unusual, for, him, i, called, his, doctor, on, monday, morning, and, she, said, to, stick, it, out, a, few, days, see, how, he, did, at, school, and, with, getting, up, in, the, morning, the, last, two, days, have, been, problem, free, he, ...]   \n",
              "2  [``, i, used, to, take, another, oral, contraceptive, which, had, 21, pill, cycle, and, was, very, happy-, very, light, periods, max, 5, days, no, other, side, effects, but, it, contained, hormone, gestodene, which, is, not, available, in, us, so, i, switched, to, lybrel, because, the, ingredients, are, similar, when, my, other, pills, ended, i, started, lybrel, immediately, on, my, first, day, of, period, as, the, instructions, said, and, the, period, lasted, for, two, weeks, when, taking, the, second, pack-, same, two, weeks, and, now, with, third, pack, things, got, even, worse-, my, third, period, lasted, for, two, weeks, and, now, ...]   \n",
              "3                                                                                                                 [``, this, is, my, first, time, using, any, form, of, birth, control, i, 039, m, glad, i, went, with, the, patch, i, have, been, on, it, for, 8, months, at, first, it, decreased, my, libido, but, that, subsided, the, only, downside, is, that, it, made, my, periods, longer, 5-6, days, to, be, exact, i, used, to, only, have, periods, for, 3-4, days, max, also, made, my, cramps, intense, for, the, first, two, days, of, my, period, i, never, had, cramps, before, using, birth, control, other, than, that, in, happy, with, the, patch, '']   \n",
              "4                                  [``, suboxone, has, completely, turned, my, life, around, i, feel, healthier, i, 039, m, excelling, at, my, job, and, i, always, have, money, in, my, pocket, and, my, savings, account, i, had, none, of, those, before, suboxone, and, spent, years, abusing, oxycontin, my, paycheck, was, already, spent, by, the, time, i, got, it, and, i, started, resorting, to, scheming, and, stealing, to, fund, my, addiction, all, that, is, history, if, you, 039, re, ready, to, stop, there, 039, s, a, good, chance, that, suboxone, will, put, you, on, the, path, of, great, life, again, i, have, found, the, side-effects, to, ...]   \n",
              "\n",
              "                                                                                                                                                                                                                                                                                                                                                                                                                                                                                                                                                                                                                                            tokens_no_stop  \\\n",
              "0                                                                                                                                                                                                                                                                                                                                                                                                                                                                                                                                                                          [``, It, side, effect, ,, I, take, combination, Bystolic, 5, Mg, Fish, Oil, '']   \n",
              "1                          [``, My, son, halfway, fourth, week, Intuniv, ., We, became, concerned, began, last, week, ,, started, taking, highest, dose, ., For, two, days, ,, could, hardly, get, bed, ,, cranky, ,, slept, nearly, 8, hours, drive, home, school, vacation, (, unusual, ., ), I, called, doctor, Monday, morning, said, stick, days, ., See, school, ,, getting, morning, ., The, last, two, days, problem, free, ., He, MUCH, agreeable, ever, ., He, less, emotional, (, good, thing, ), ,, less, cranky, ., He, remembering, things, ., Overall, behavior, better, ., We, tried, many, different, medications, far, effective, ., '']   \n",
              "2              [``, I, used, take, another, oral, contraceptive, ,, 21, pill, cycle, ,, happy-, light, periods, ,, max, 5, days, ,, side, effects, ., But, contained, hormone, gestodene, ,, available, US, ,, I, switched, Lybrel, ,, ingredients, similar, ., When, pills, ended, ,, I, started, Lybrel, immediately, ,, first, day, period, ,, instructions, said, ., And, period, lasted, two, weeks, ., When, taking, second, pack-, two, weeks, ., And, ,, third, pack, things, got, even, worse-, third, period, lasted, two, weeks, &, #, 039, ;, end, third, week-, I, still, daily, brown, discharge, ., The, positive, side, I, &, #, 039, ...]   \n",
              "3                                                                                                                                                                                                                                                         [``, This, first, time, using, form, birth, control, ., I, &, #, 039, ;, glad, I, went, patch, ,, I, 8, months, ., At, first, It, decreased, libido, subsided, ., The, downside, made, periods, longer, (, 5-6, days, exact, ), I, used, periods, 3-4, days, max, also, made, cramps, intense, first, two, days, period, ,, I, never, cramps, using, birth, control, ., Other, happy, patch, '']   \n",
              "4  [``, Suboxone, completely, turned, life, around, ., I, feel, healthier, ,, I, &, #, 039, ;, excelling, job, I, always, money, pocket, savings, account, ., I, none, Suboxone, spent, years, abusing, oxycontin, ., My, paycheck, already, spent, time, I, got, I, started, resorting, scheming, stealing, fund, addiction, ., All, history, ., If, &, #, 039, ;, ready, stop, ,, &, #, 039, ;, good, chance, suboxone, put, path, great, life, ., I, found, side-effects, minimal, compared, oxycontin, ., I, &, #, 039, ;, actually, sleeping, better, ., Slight, constipation, ., It, truly, amazing, ., The, cost, pales, comparison, I, spent, ...]   \n",
              "\n",
              "                                                                                                                                                                                                                                                                                                                                                                                                                                                                                                                                                                                       stemmed_tokens  \\\n",
              "0                                                                                                                                                                                                                                                                                                                                                                                                                                                                                                                            [``, it, side, effect, ,, i, take, combin, bystol, 5, mg, fish, oil, '']   \n",
              "1                            [``, my, son, halfway, fourth, week, intuniv, ., we, becam, concern, began, last, week, ,, start, take, highest, dose, ., for, two, day, ,, could, hardli, get, bed, ,, cranki, ,, slept, nearli, 8, hour, drive, home, school, vacat, (, unusu, ., ), i, call, doctor, monday, morn, said, stick, day, ., see, school, ,, get, morn, ., the, last, two, day, problem, free, ., he, much, agreeabl, ever, ., he, less, emot, (, good, thing, ), ,, less, cranki, ., he, rememb, thing, ., overal, behavior, better, ., we, tri, mani, differ, medic, far, effect, ., '']   \n",
              "2             [``, i, use, take, anoth, oral, contracept, ,, 21, pill, cycl, ,, happy-, light, period, ,, max, 5, day, ,, side, effect, ., but, contain, hormon, gestoden, ,, avail, us, ,, i, switch, lybrel, ,, ingredi, similar, ., when, pill, end, ,, i, start, lybrel, immedi, ,, first, day, period, ,, instruct, said, ., and, period, last, two, week, ., when, take, second, pack-, two, week, ., and, ,, third, pack, thing, got, even, worse-, third, period, last, two, week, &, #, 039, ;, end, third, week-, i, still, daili, brown, discharg, ., the, posit, side, i, &, #, 039, ...]   \n",
              "3                                                                                                                                                                                                                        [``, thi, first, time, use, form, birth, control, ., i, &, #, 039, ;, glad, i, went, patch, ,, i, 8, month, ., at, first, it, decreas, libido, subsid, ., the, downsid, made, period, longer, (, 5-6, day, exact, ), i, use, period, 3-4, day, max, also, made, cramp, intens, first, two, day, period, ,, i, never, cramp, use, birth, control, ., other, happi, patch, '']   \n",
              "4  [``, suboxon, complet, turn, life, around, ., i, feel, healthier, ,, i, &, #, 039, ;, excel, job, i, alway, money, pocket, save, account, ., i, none, suboxon, spent, year, abus, oxycontin, ., my, paycheck, alreadi, spent, time, i, got, i, start, resort, scheme, steal, fund, addict, ., all, histori, ., if, &, #, 039, ;, readi, stop, ,, &, #, 039, ;, good, chanc, suboxon, put, path, great, life, ., i, found, side-effect, minim, compar, oxycontin, ., i, &, #, 039, ;, actual, sleep, better, ., slight, constip, ., it, truli, amaz, ., the, cost, pale, comparison, i, spent, ...]   \n",
              "\n",
              "                                                                                                                                                                                                                                                                                                                                                                                                                                                                                                                                                                                                                                                                                                                                                           review_cleaned  \\\n",
              "0                                                                                                                                                                                                                                                                                                                                                                                                                                                                                                                                                                                                                                                                                   It has no side effect, I take it in combination of Bystolic 5 milligrams and Fish Oil   \n",
              "1       My son is halfway through his fourth week of Intuniv. We became concerned when he began this last week, when he started taking the highest dose he will be on. For two days, he could hardly get out of bed, was very cranky, and slept for nearly 8 hours on a drive home from school vacation (very unusual for him.) I called his doctor on Monday morning and she said to stick it out a few days. See how he did at school, and with getting up in the morning. The last two days have been problem free. He is MUCH more agreeable than ever. He is less emotional (a good thing), less cranky. He is remembering all the things he should. Overall his behavior is better. We have tried many different medications and so far this is the most effective.   \n",
              "2  I used to take another oral contraceptive, which had 21 pill cycle, and was very happy- very light periods, max 5 days, no other side effects. But it contained hormone gestodene, which is not available in US, so I switched to Lybrel, because the ingredients are similar. When my other pills ended, I started Lybrel immediately, on my first day of period, as the instructions said. And the period lasted for two weeks. When taking the second pack- same two weeks. And now, with third pack things got even worse- my third period lasted for two weeks and now it's the end of the third week- I still have daily brown discharge. The positive side is that I didn't have any other side effects. The idea of being period free was so tempting... Alas.   \n",
              "3                                                                                                                                                                                                                                                                                                               This is my first time using any form of birth control. I'm glad I went with the patch, I have been on it for 8 months. At first It decreased my libido but that subsided. The only downside is that it made my periods longer (5-6 days to be exact) I used to only have periods for 3-4 days max also made my cramps intense for the first two days of my period, I never had cramps before using birth control. Other than that in happy with the patch   \n",
              "4                                                         Suboxone has completely turned my life around. I feel healthier, I'm excelling at my job and I always have money in my pocket and my savings account. I had none of those before Suboxone and spent years abusing oxycontin. My paycheck was already spent by the time I got it and I started resorting to scheming and stealing to fund my addiction. All that is history. If you're ready to stop, there's a good chance that suboxone will put you on the path of great life again. I have found the side-effects to be minimal compared to oxycontin. I'm actually sleeping better. Slight constipation is about it for me. It truly is amazing. The cost pales in comparison to what I spent on oxycontin.   \n",
              "\n",
              "  sentiment_label1  vader_score vader_label  \n",
              "0         positive      -0.2960    negative  \n",
              "1         positive       0.9174    positive  \n",
              "2          neutral       0.6160    positive  \n",
              "3         positive       0.7184    positive  \n",
              "4         positive       0.9403    positive  "
            ]
          },
          "execution_count": 73,
          "metadata": {},
          "output_type": "execute_result"
        }
      ],
      "source": [
        "#2.Using VADER for text analysis\n",
        "\n",
        "from vaderSentiment.vaderSentiment import SentimentIntensityAnalyzer\n",
        "import re\n",
        "\n",
        "analyzer = SentimentIntensityAnalyzer()\n",
        "df2['vader_score'] = df2['review_cleaned'].apply(lambda x: analyzer.polarity_scores(x)['compound'])\n",
        "df2['vader_label'] = df2['vader_score'].apply(lambda x: 'positive' if x >= 0.05 else ('negative' if x <= -0.05 else 'neutral'))\n",
        "\n",
        "df2.head()\n"
      ]
    },
    {
      "cell_type": "code",
      "execution_count": 74,
      "metadata": {},
      "outputs": [
        {
          "data": {
            "text/html": [
              "<div>\n",
              "<style scoped>\n",
              "    .dataframe tbody tr th:only-of-type {\n",
              "        vertical-align: middle;\n",
              "    }\n",
              "\n",
              "    .dataframe tbody tr th {\n",
              "        vertical-align: top;\n",
              "    }\n",
              "\n",
              "    .dataframe thead th {\n",
              "        text-align: right;\n",
              "    }\n",
              "</style>\n",
              "<table border=\"1\" class=\"dataframe\">\n",
              "  <thead>\n",
              "    <tr style=\"text-align: right;\">\n",
              "      <th></th>\n",
              "      <th>review_cleaned</th>\n",
              "      <th>rating</th>\n",
              "      <th>sentiment_label1</th>\n",
              "      <th>vader_label</th>\n",
              "    </tr>\n",
              "  </thead>\n",
              "  <tbody>\n",
              "    <tr>\n",
              "      <th>0</th>\n",
              "      <td>It has no side effect, I take it in combination of Bystolic 5 milligrams and Fish Oil</td>\n",
              "      <td>9.0</td>\n",
              "      <td>positive</td>\n",
              "      <td>negative</td>\n",
              "    </tr>\n",
              "    <tr>\n",
              "      <th>1</th>\n",
              "      <td>My son is halfway through his fourth week of Intuniv. We became concerned when he began this last week, when he started taking the highest dose he will be on. For two days, he could hardly get out of bed, was very cranky, and slept for nearly 8 hours on a drive home from school vacation (very unusual for him.) I called his doctor on Monday morning and she said to stick it out a few days. See how he did at school, and with getting up in the morning. The last two days have been problem free. He is MUCH more agreeable than ever. He is less emotional (a good thing), less cranky. He is remembering all the things he should. Overall his behavior is better. We have tried many different medications and so far this is the most effective.</td>\n",
              "      <td>8.0</td>\n",
              "      <td>positive</td>\n",
              "      <td>positive</td>\n",
              "    </tr>\n",
              "    <tr>\n",
              "      <th>2</th>\n",
              "      <td>I used to take another oral contraceptive, which had 21 pill cycle, and was very happy- very light periods, max 5 days, no other side effects. But it contained hormone gestodene, which is not available in US, so I switched to Lybrel, because the ingredients are similar. When my other pills ended, I started Lybrel immediately, on my first day of period, as the instructions said. And the period lasted for two weeks. When taking the second pack- same two weeks. And now, with third pack things got even worse- my third period lasted for two weeks and now it's the end of the third week- I still have daily brown discharge. The positive side is that I didn't have any other side effects. The idea of being period free was so tempting... Alas.</td>\n",
              "      <td>5.0</td>\n",
              "      <td>neutral</td>\n",
              "      <td>positive</td>\n",
              "    </tr>\n",
              "    <tr>\n",
              "      <th>3</th>\n",
              "      <td>This is my first time using any form of birth control. I'm glad I went with the patch, I have been on it for 8 months. At first It decreased my libido but that subsided. The only downside is that it made my periods longer (5-6 days to be exact) I used to only have periods for 3-4 days max also made my cramps intense for the first two days of my period, I never had cramps before using birth control. Other than that in happy with the patch</td>\n",
              "      <td>8.0</td>\n",
              "      <td>positive</td>\n",
              "      <td>positive</td>\n",
              "    </tr>\n",
              "    <tr>\n",
              "      <th>4</th>\n",
              "      <td>Suboxone has completely turned my life around. I feel healthier, I'm excelling at my job and I always have money in my pocket and my savings account. I had none of those before Suboxone and spent years abusing oxycontin. My paycheck was already spent by the time I got it and I started resorting to scheming and stealing to fund my addiction. All that is history. If you're ready to stop, there's a good chance that suboxone will put you on the path of great life again. I have found the side-effects to be minimal compared to oxycontin. I'm actually sleeping better. Slight constipation is about it for me. It truly is amazing. The cost pales in comparison to what I spent on oxycontin.</td>\n",
              "      <td>9.0</td>\n",
              "      <td>positive</td>\n",
              "      <td>positive</td>\n",
              "    </tr>\n",
              "    <tr>\n",
              "      <th>5</th>\n",
              "      <td>2nd day on 5mg started to work with rock hard erections however experianced headache, lower bowel preassure. 3rd day erections would wake me up hurt! Leg ankles aches severe lower bowel preassure like you need to go 2 but can't! Enjoyed the initial rockhard erections but not at these side effects or 230 for months supply! I'm 50 work out 3Xs a week. Not worth side effects!</td>\n",
              "      <td>2.0</td>\n",
              "      <td>negative</td>\n",
              "      <td>negative</td>\n",
              "    </tr>\n",
              "    <tr>\n",
              "      <th>6</th>\n",
              "      <td>He pulled out, but he cummed a bit in me. I took the Plan B 26 hours later, and took a pregnancy test two weeks later - - I'm pregnant.</td>\n",
              "      <td>1.0</td>\n",
              "      <td>negative</td>\n",
              "      <td>neutral</td>\n",
              "    </tr>\n",
              "    <tr>\n",
              "      <th>7</th>\n",
              "      <td>Abilify changed my life. There is hope. I was on Zoloft and Clonidine when I first started Abilify at the age of 15.. Zoloft for depression and Clondine to manage my complete rage. My moods were out of control. I was depressed and hopeless one second and then mean, irrational, and full of rage the next. My doctor. prescribed me 2mg of Abilify and from that point on I feel like I have been cured though I know I'm not.. Bi-polar disorder is a constant battle. I know Abilify works for me because I have tried to get off it and lost complete control over my emotions. Went back on it and I was golden again. I am on 5mg 2x daily. I am now 21 and better than I have ever been in the past. Only side effect is I like to eat a lot.</td>\n",
              "      <td>10.0</td>\n",
              "      <td>positive</td>\n",
              "      <td>negative</td>\n",
              "    </tr>\n",
              "    <tr>\n",
              "      <th>8</th>\n",
              "      <td>I Ve had nothing but problems with the Keppera : constant shaking in my arms legs pins needles feeling in my arms legs severe light headedness no appetite etc.</td>\n",
              "      <td>1.0</td>\n",
              "      <td>negative</td>\n",
              "      <td>negative</td>\n",
              "    </tr>\n",
              "    <tr>\n",
              "      <th>9</th>\n",
              "      <td>I had been on the pill for many years. When my doctor changed my RX to chateal, it was as effective. It really did help me by completely clearing my acne, this takes about 6 months though. I did not gain extra weight, or develop any emotional health issues. I stopped taking it bc I started using a more natural method of birth control, but started to take it bc I hate that my acne came back at age 28. I really hope symptoms like depression, or weight gain do not begin to affect me as I am older now. I'm also naturally moody, so this may worsen things. I was in a negative mental rut today. Also I hope this doesn't push me over the edge, as I believe I am depressed. Hopefully it'll be just like when I was younger.</td>\n",
              "      <td>8.0</td>\n",
              "      <td>positive</td>\n",
              "      <td>negative</td>\n",
              "    </tr>\n",
              "    <tr>\n",
              "      <th>10</th>\n",
              "      <td>I have been on this medication almost two weeks, started out on 25mg and working my way up to 100mg, currently at 50mg. No headaches at all so far and I was having 2-3 crippling migraines a week. I have lost 5.2lbs so far but note I am really paying close attention to what I am eating, I have a lot of weight to lose and if weight loss is a side effect I want to help it along as much as I can. Now, other side effects, they are there the word recall issues exist, the memory issues, the worst of it seems to be the vision disturbances, there have been times I have just not driven because I'm sure it would not have been safe. The good news is it seems to be wearing off...I have tons of energy and I am in a great mood.</td>\n",
              "      <td>9.0</td>\n",
              "      <td>positive</td>\n",
              "      <td>positive</td>\n",
              "    </tr>\n",
              "    <tr>\n",
              "      <th>11</th>\n",
              "      <td>I have taken anti-depressants for years, with some improvement but mostly moderate to severe side affects, which makes me go off them. I only take Cymbalta now mostly for pain. When I began Deplin, I noticed a major improvement overnight. More energy, better disposition, and no sinking to the low lows of major depression. I have been taking it for about 3 months now and feel like a normal person for the first time ever. Best thing, no side effects.</td>\n",
              "      <td>10.0</td>\n",
              "      <td>positive</td>\n",
              "      <td>neutral</td>\n",
              "    </tr>\n",
              "    <tr>\n",
              "      <th>12</th>\n",
              "      <td>I had Crohn's with a resection 30 years ago and have been mostly in remission since. Have recently had a bad flare and narrowing at the anastomosis and need to be on medication, but haven't found one that I can handle. Asacol gave me such serious body aching and fatigue that I could not function. Pentasa immediately gave me heart palpitations and arrhythmias so I had to discontinue it.</td>\n",
              "      <td>4.0</td>\n",
              "      <td>negative</td>\n",
              "      <td>negative</td>\n",
              "    </tr>\n",
              "    <tr>\n",
              "      <th>13</th>\n",
              "      <td>Have a little bit of a lingering cough from a cold. Not giving me much trouble except keeps me up at night. I heard this was good so I took so I could get some sleep. Helped tremendously with the cough but then I was having bad stomach cramps and diarrhea. I hadn't eaten anything that should have upset my stomach and it didn't really feel like a bug so I looked up side effects for Delsym. Now I wish I had done that first because I probably wouldn't have taken it. So, while it worked for my cough I still didn't get any sleep due to the stomach issues.</td>\n",
              "      <td>4.0</td>\n",
              "      <td>negative</td>\n",
              "      <td>negative</td>\n",
              "    </tr>\n",
              "    <tr>\n",
              "      <th>14</th>\n",
              "      <td>Started Nexplanon 2 months ago because I have a minimal amount of contraception's I can take due to my inability to take the hormone that is used in most birth controls. I'm trying to give it time because it is one of my only options right now. But honestly if I had options I'd get it removed. I've never had acne problems in my life, and immediately broke out after getting it implanted. Sex drive is completely gone, and I used to have sex with my boyfriend a few days a week, now its completely forced and not even fun for me anymore. I mean I'm on birth control because I like having sex but don't want to get pregnant, why take a birth control that takes away sex? Very unhappy and hope that I get it back with time or I'm getting it removed.</td>\n",
              "      <td>3.0</td>\n",
              "      <td>negative</td>\n",
              "      <td>negative</td>\n",
              "    </tr>\n",
              "    <tr>\n",
              "      <th>15</th>\n",
              "      <td>I have been taking Saxenda since July 2016. I had severe nausea for about a month once I got up to the 2.6 dosage. It has since subsided and the only side effect I notice now is the dry mouth. I make sure to drink 2.5 litres of water a day (about 10 glasses). This helps with the weight loss as well as the constipation. I have been reducing my dose to find a comfortable spot where I am still losing weight but don't feel like I am over medicating. For me, 1.8 is working very well. I also feel wearing a Fitbit has really helped. I can track my food, water, exercise and steps - it keeps me moving more. When this started I could barely walk the length of myself without getting winded - I have lost 58 lbs so far.</td>\n",
              "      <td>9.0</td>\n",
              "      <td>positive</td>\n",
              "      <td>negative</td>\n",
              "    </tr>\n",
              "    <tr>\n",
              "      <th>16</th>\n",
              "      <td>This drug worked very well for me and cleared up my UTI in a matter of 48hrs, although I was on a 7 day course of 2x200mg daily. Unfortunately once the tablets finished the infection returned so needed a 2nd course. I'm currently taking a low dose at evening to keep the infection at bay while the specialists do some tests. I normally get every side effect going and dread taking new medication in any form especially after an horrific experience with Ciorofloxacin but the only side effect I experienced with this was itchy ankles and feet on day two but that didn't last into third day so I would class this as a minor side effect and insignificant. Good luck.</td>\n",
              "      <td>9.0</td>\n",
              "      <td>positive</td>\n",
              "      <td>negative</td>\n",
              "    </tr>\n",
              "    <tr>\n",
              "      <th>17</th>\n",
              "      <td>I've been taking amitriptyline since January 2013 after being diagnosed with fibromyalgia. I tried cymbalta for a week and my doctor decided that since it kept me awake 24 7 that it wasn't a good fit for me even though it relieved my pain. I started with 25 milligrams. After 2 weeks I had some breakthrough pain, so my doctor increased my dosage to 50mg and I'm still on that dosage today. For the first full year I was on this I never had pain and felt 'cured'. As time went on, it seems to help control my pain. I do still have pain, but at a low manageable level. I take this around 7pm each evening to avoid feeling overly drowsy in the mornings. This med allows me to have a fairly normal life.</td>\n",
              "      <td>9.0</td>\n",
              "      <td>positive</td>\n",
              "      <td>negative</td>\n",
              "    </tr>\n",
              "    <tr>\n",
              "      <th>18</th>\n",
              "      <td>I've been on every medicine under the sun (it seems) to manage the hypomania mania of Bipolar2. Within a few days of starting Lamictal (was on Tegretol) it was as if someone had turned a light on in my head. Is this the way normal people think? was one of the first things that struck me. I sleep like a log, have no irritability, almost no anger (other than what would be considered normal). I am able to focus and my creative, impulsive thoughts have decreased enough to be manageable. It's a God send as I would perennially be in a state of hypo mania, which sounds great, but I was physically and emotionally exhausted. My libido is markedly lower but I wonder if that is perhaps an effect of not being hypo manic. I take 20 milligrams for anxiety.</td>\n",
              "      <td>10.0</td>\n",
              "      <td>positive</td>\n",
              "      <td>negative</td>\n",
              "    </tr>\n",
              "    <tr>\n",
              "      <th>19</th>\n",
              "      <td>I have been on Tasigna for just over 3 years now (300mg x 2 times a day) Tasigna worked for me within a few weeks I have been in remission for basically the entire 3 years. As for the side effects, I feel sick to my stomach, tired, severe leg and arm pain, I can't walk to long without needing a break, I went from working full time to not working at all because I am so tired all the time... but hey I am in remission and alive so is all the above really a problem? Nope</td>\n",
              "      <td>10.0</td>\n",
              "      <td>positive</td>\n",
              "      <td>negative</td>\n",
              "    </tr>\n",
              "  </tbody>\n",
              "</table>\n",
              "</div>"
            ],
            "text/plain": [
              "                                                                                                                                                                                                                                                                                                                                                                                                                                                                                                                                                                                                                                                                                                                                                                      review_cleaned  \\\n",
              "0                                                                                                                                                                                                                                                                                                                                                                                                                                                                                                                                                                                                                                                                                              It has no side effect, I take it in combination of Bystolic 5 milligrams and Fish Oil   \n",
              "1                  My son is halfway through his fourth week of Intuniv. We became concerned when he began this last week, when he started taking the highest dose he will be on. For two days, he could hardly get out of bed, was very cranky, and slept for nearly 8 hours on a drive home from school vacation (very unusual for him.) I called his doctor on Monday morning and she said to stick it out a few days. See how he did at school, and with getting up in the morning. The last two days have been problem free. He is MUCH more agreeable than ever. He is less emotional (a good thing), less cranky. He is remembering all the things he should. Overall his behavior is better. We have tried many different medications and so far this is the most effective.   \n",
              "2             I used to take another oral contraceptive, which had 21 pill cycle, and was very happy- very light periods, max 5 days, no other side effects. But it contained hormone gestodene, which is not available in US, so I switched to Lybrel, because the ingredients are similar. When my other pills ended, I started Lybrel immediately, on my first day of period, as the instructions said. And the period lasted for two weeks. When taking the second pack- same two weeks. And now, with third pack things got even worse- my third period lasted for two weeks and now it's the end of the third week- I still have daily brown discharge. The positive side is that I didn't have any other side effects. The idea of being period free was so tempting... Alas.   \n",
              "3                                                                                                                                                                                                                                                                                                                          This is my first time using any form of birth control. I'm glad I went with the patch, I have been on it for 8 months. At first It decreased my libido but that subsided. The only downside is that it made my periods longer (5-6 days to be exact) I used to only have periods for 3-4 days max also made my cramps intense for the first two days of my period, I never had cramps before using birth control. Other than that in happy with the patch   \n",
              "4                                                                    Suboxone has completely turned my life around. I feel healthier, I'm excelling at my job and I always have money in my pocket and my savings account. I had none of those before Suboxone and spent years abusing oxycontin. My paycheck was already spent by the time I got it and I started resorting to scheming and stealing to fund my addiction. All that is history. If you're ready to stop, there's a good chance that suboxone will put you on the path of great life again. I have found the side-effects to be minimal compared to oxycontin. I'm actually sleeping better. Slight constipation is about it for me. It truly is amazing. The cost pales in comparison to what I spent on oxycontin.   \n",
              "5                                                                                                                                                                                                                                                                                                                                                                                            2nd day on 5mg started to work with rock hard erections however experianced headache, lower bowel preassure. 3rd day erections would wake me up hurt! Leg ankles aches severe lower bowel preassure like you need to go 2 but can't! Enjoyed the initial rockhard erections but not at these side effects or 230 for months supply! I'm 50 work out 3Xs a week. Not worth side effects!   \n",
              "6                                                                                                                                                                                                                                                                                                                                                                                                                                                                                                                                                                                                                                            He pulled out, but he cummed a bit in me. I took the Plan B 26 hours later, and took a pregnancy test two weeks later - - I'm pregnant.   \n",
              "7                          Abilify changed my life. There is hope. I was on Zoloft and Clonidine when I first started Abilify at the age of 15.. Zoloft for depression and Clondine to manage my complete rage. My moods were out of control. I was depressed and hopeless one second and then mean, irrational, and full of rage the next. My doctor. prescribed me 2mg of Abilify and from that point on I feel like I have been cured though I know I'm not.. Bi-polar disorder is a constant battle. I know Abilify works for me because I have tried to get off it and lost complete control over my emotions. Went back on it and I was golden again. I am on 5mg 2x daily. I am now 21 and better than I have ever been in the past. Only side effect is I like to eat a lot.   \n",
              "8                                                                                                                                                                                                                                                                                                                                                                                                                                                                                                                                                                                                                    I Ve had nothing but problems with the Keppera : constant shaking in my arms legs pins needles feeling in my arms legs severe light headedness no appetite etc.   \n",
              "9                                   I had been on the pill for many years. When my doctor changed my RX to chateal, it was as effective. It really did help me by completely clearing my acne, this takes about 6 months though. I did not gain extra weight, or develop any emotional health issues. I stopped taking it bc I started using a more natural method of birth control, but started to take it bc I hate that my acne came back at age 28. I really hope symptoms like depression, or weight gain do not begin to affect me as I am older now. I'm also naturally moody, so this may worsen things. I was in a negative mental rut today. Also I hope this doesn't push me over the edge, as I believe I am depressed. Hopefully it'll be just like when I was younger.   \n",
              "10                                I have been on this medication almost two weeks, started out on 25mg and working my way up to 100mg, currently at 50mg. No headaches at all so far and I was having 2-3 crippling migraines a week. I have lost 5.2lbs so far but note I am really paying close attention to what I am eating, I have a lot of weight to lose and if weight loss is a side effect I want to help it along as much as I can. Now, other side effects, they are there the word recall issues exist, the memory issues, the worst of it seems to be the vision disturbances, there have been times I have just not driven because I'm sure it would not have been safe. The good news is it seems to be wearing off...I have tons of energy and I am in a great mood.   \n",
              "11                                                                                                                                                                                                                                                                                                              I have taken anti-depressants for years, with some improvement but mostly moderate to severe side affects, which makes me go off them. I only take Cymbalta now mostly for pain. When I began Deplin, I noticed a major improvement overnight. More energy, better disposition, and no sinking to the low lows of major depression. I have been taking it for about 3 months now and feel like a normal person for the first time ever. Best thing, no side effects.   \n",
              "12                                                                                                                                                                                                                                                                                                                                                                              I had Crohn's with a resection 30 years ago and have been mostly in remission since. Have recently had a bad flare and narrowing at the anastomosis and need to be on medication, but haven't found one that I can handle. Asacol gave me such serious body aching and fatigue that I could not function. Pentasa immediately gave me heart palpitations and arrhythmias so I had to discontinue it.   \n",
              "13                                                                                                                                                                                                      Have a little bit of a lingering cough from a cold. Not giving me much trouble except keeps me up at night. I heard this was good so I took so I could get some sleep. Helped tremendously with the cough but then I was having bad stomach cramps and diarrhea. I hadn't eaten anything that should have upset my stomach and it didn't really feel like a bug so I looked up side effects for Delsym. Now I wish I had done that first because I probably wouldn't have taken it. So, while it worked for my cough I still didn't get any sleep due to the stomach issues.   \n",
              "14      Started Nexplanon 2 months ago because I have a minimal amount of contraception's I can take due to my inability to take the hormone that is used in most birth controls. I'm trying to give it time because it is one of my only options right now. But honestly if I had options I'd get it removed. I've never had acne problems in my life, and immediately broke out after getting it implanted. Sex drive is completely gone, and I used to have sex with my boyfriend a few days a week, now its completely forced and not even fun for me anymore. I mean I'm on birth control because I like having sex but don't want to get pregnant, why take a birth control that takes away sex? Very unhappy and hope that I get it back with time or I'm getting it removed.   \n",
              "15                                      I have been taking Saxenda since July 2016. I had severe nausea for about a month once I got up to the 2.6 dosage. It has since subsided and the only side effect I notice now is the dry mouth. I make sure to drink 2.5 litres of water a day (about 10 glasses). This helps with the weight loss as well as the constipation. I have been reducing my dose to find a comfortable spot where I am still losing weight but don't feel like I am over medicating. For me, 1.8 is working very well. I also feel wearing a Fitbit has really helped. I can track my food, water, exercise and steps - it keeps me moving more. When this started I could barely walk the length of myself without getting winded - I have lost 58 lbs so far.   \n",
              "16                                                                                           This drug worked very well for me and cleared up my UTI in a matter of 48hrs, although I was on a 7 day course of 2x200mg daily. Unfortunately once the tablets finished the infection returned so needed a 2nd course. I'm currently taking a low dose at evening to keep the infection at bay while the specialists do some tests. I normally get every side effect going and dread taking new medication in any form especially after an horrific experience with Ciorofloxacin but the only side effect I experienced with this was itchy ankles and feet on day two but that didn't last into third day so I would class this as a minor side effect and insignificant. Good luck.   \n",
              "17                                                      I've been taking amitriptyline since January 2013 after being diagnosed with fibromyalgia. I tried cymbalta for a week and my doctor decided that since it kept me awake 24 7 that it wasn't a good fit for me even though it relieved my pain. I started with 25 milligrams. After 2 weeks I had some breakthrough pain, so my doctor increased my dosage to 50mg and I'm still on that dosage today. For the first full year I was on this I never had pain and felt 'cured'. As time went on, it seems to help control my pain. I do still have pain, but at a low manageable level. I take this around 7pm each evening to avoid feeling overly drowsy in the mornings. This med allows me to have a fairly normal life.   \n",
              "18  I've been on every medicine under the sun (it seems) to manage the hypomania mania of Bipolar2. Within a few days of starting Lamictal (was on Tegretol) it was as if someone had turned a light on in my head. Is this the way normal people think? was one of the first things that struck me. I sleep like a log, have no irritability, almost no anger (other than what would be considered normal). I am able to focus and my creative, impulsive thoughts have decreased enough to be manageable. It's a God send as I would perennially be in a state of hypo mania, which sounds great, but I was physically and emotionally exhausted. My libido is markedly lower but I wonder if that is perhaps an effect of not being hypo manic. I take 20 milligrams for anxiety.   \n",
              "19                                                                                                                                                                                                                                                                                           I have been on Tasigna for just over 3 years now (300mg x 2 times a day) Tasigna worked for me within a few weeks I have been in remission for basically the entire 3 years. As for the side effects, I feel sick to my stomach, tired, severe leg and arm pain, I can't walk to long without needing a break, I went from working full time to not working at all because I am so tired all the time... but hey I am in remission and alive so is all the above really a problem? Nope   \n",
              "\n",
              "    rating sentiment_label1 vader_label  \n",
              "0      9.0         positive    negative  \n",
              "1      8.0         positive    positive  \n",
              "2      5.0          neutral    positive  \n",
              "3      8.0         positive    positive  \n",
              "4      9.0         positive    positive  \n",
              "5      2.0         negative    negative  \n",
              "6      1.0         negative     neutral  \n",
              "7     10.0         positive    negative  \n",
              "8      1.0         negative    negative  \n",
              "9      8.0         positive    negative  \n",
              "10     9.0         positive    positive  \n",
              "11    10.0         positive     neutral  \n",
              "12     4.0         negative    negative  \n",
              "13     4.0         negative    negative  \n",
              "14     3.0         negative    negative  \n",
              "15     9.0         positive    negative  \n",
              "16     9.0         positive    negative  \n",
              "17     9.0         positive    negative  \n",
              "18    10.0         positive    negative  \n",
              "19    10.0         positive    negative  "
            ]
          },
          "execution_count": 74,
          "metadata": {},
          "output_type": "execute_result"
        }
      ],
      "source": [
        "#comparing actual sentiment labels with VADER\n",
        "df2[['review_cleaned','rating','sentiment_label1', 'vader_label']].head(20)"
      ]
    },
    {
      "cell_type": "code",
      "execution_count": 75,
      "metadata": {},
      "outputs": [
        {
          "name": "stdout",
          "output_type": "stream",
          "text": [
            "VADER Accuracy: 0.58\n",
            "\n",
            "Classification Report:\n",
            "              precision    recall  f1-score   support\n",
            "\n",
            "    negative       0.38      0.73      0.50     39828\n",
            "     neutral       0.09      0.04      0.06     14260\n",
            "    positive       0.81      0.59      0.69    106310\n",
            "\n",
            "    accuracy                           0.58    160398\n",
            "   macro avg       0.43      0.46      0.41    160398\n",
            "weighted avg       0.64      0.58      0.58    160398\n",
            "\n",
            "\n",
            "Confusion Matrix:\n",
            "[[29210  1673  8945]\n",
            " [ 8213   596  5451]\n",
            " [39331  4049 62930]]\n"
          ]
        }
      ],
      "source": [
        "#compute VADER accuracy with respect to the sentiment labels defined above\n",
        "\n",
        "from sklearn.metrics import accuracy_score, classification_report, confusion_matrix\n",
        "\n",
        "accuracy = accuracy_score(df2['sentiment_label1'], df2['vader_label'])\n",
        "print(f\"VADER Accuracy: {accuracy:.2f}\")\n",
        "\n",
        "print(\"\\nClassification Report:\")\n",
        "print(classification_report(df2['sentiment_label1'], df2['vader_label']))\n",
        "\n",
        "print(\"\\nConfusion Matrix:\")\n",
        "print(confusion_matrix(df2['sentiment_label1'], df2['vader_label']))\n"
      ]
    },
    {
      "cell_type": "code",
      "execution_count": 76,
      "metadata": {},
      "outputs": [],
      "source": [
        "#3.Using Deep Learning for text analysis (distilBert)\n",
        "\n"
      ]
    },
    {
      "cell_type": "markdown",
      "metadata": {},
      "source": [
        "## Extracting Negative Review Factors"
      ]
    },
    {
      "cell_type": "code",
      "execution_count": 77,
      "metadata": {},
      "outputs": [],
      "source": [
        "# filtering out negative reviews\n",
        "negative_reviews = df2[df2['sentiment_label1'] == 'negative']\n"
      ]
    },
    {
      "cell_type": "code",
      "execution_count": 78,
      "metadata": {},
      "outputs": [
        {
          "name": "stdout",
          "output_type": "stream",
          "text": [
            "day        12913\n",
            "taking     12907\n",
            "months     11871\n",
            "pain       11321\n",
            "ve         11239\n",
            "like       11217\n",
            "started    10826\n",
            "days       10387\n",
            "just        9711\n",
            "doctor      9444\n",
            "time        9359\n",
            "effects     9035\n",
            "pill        8986\n",
            "took        8606\n",
            "got         7975\n",
            "weeks       7757\n",
            "feel        7712\n",
            "did         7401\n",
            "month       7312\n",
            "period      7100\n",
            "dtype: int64\n"
          ]
        }
      ],
      "source": [
        "from sklearn.feature_extraction.text import CountVectorizer\n",
        "\n",
        "# Initialize CountVectorizer\n",
        "vectorizer = CountVectorizer(stop_words='english', max_features=20)  # 20 most common words\n",
        "\n",
        "# Fit and transform\n",
        "X_counts = vectorizer.fit_transform(negative_reviews['review_cleaned'])\n",
        "\n",
        "# Convert to DataFrame\n",
        "word_freq_df = pd.DataFrame(X_counts.toarray(), columns=vectorizer.get_feature_names_out())\n",
        "top_words = word_freq_df.sum().sort_values(ascending=False)\n",
        "\n",
        "print(top_words)\n"
      ]
    },
    {
      "cell_type": "code",
      "execution_count": 79,
      "metadata": {},
      "outputs": [
        {
          "name": "stdout",
          "output_type": "stream",
          "text": [
            "taking     0.108465\n",
            "day        0.105035\n",
            "pain       0.102700\n",
            "months     0.099142\n",
            "like       0.094598\n",
            "ve         0.093418\n",
            "days       0.089688\n",
            "effects    0.088738\n",
            "started    0.087575\n",
            "just       0.085001\n",
            "doctor     0.084539\n",
            "took       0.084441\n",
            "time       0.083765\n",
            "did        0.077053\n",
            "weeks      0.073782\n",
            "pill       0.073228\n",
            "got        0.071908\n",
            "feel       0.071359\n",
            "month      0.065005\n",
            "period     0.057506\n",
            "dtype: float64\n"
          ]
        }
      ],
      "source": [
        "from sklearn.feature_extraction.text import TfidfVectorizer\n",
        "\n",
        "# Initialize TfidfVectorizer\n",
        "tfidf_vectorizer = TfidfVectorizer(stop_words='english', max_features=20)\n",
        "\n",
        "# Fit and transform\n",
        "X_tfidf = tfidf_vectorizer.fit_transform(negative_reviews['review_cleaned'])\n",
        "\n",
        "# Convert to DataFrame\n",
        "tfidf_df = pd.DataFrame(X_tfidf.toarray(), columns=tfidf_vectorizer.get_feature_names_out())\n",
        "top_tfidf_words = tfidf_df.mean().sort_values(ascending=False)\n",
        "\n",
        "print(top_tfidf_words)\n"
      ]
    },
    {
      "cell_type": "code",
      "execution_count": 81,
      "metadata": {},
      "outputs": [
        {
          "name": "stdout",
          "output_type": "stream",
          "text": [
            "Topic 1:\n",
            "['effects', 'anxiety', 'taking', 'medication', 'drug', 'years', 'depression', 'months', 'started', 'doctor']\n",
            "\n",
            "Topic 2:\n",
            "['bleeding', 'period', 'months', 'got', 'month', 'days', 'weeks', 'shot', 'started', 'having']\n",
            "\n",
            "Topic 3:\n",
            "['pill', 've', 'months', 'control', 'weight', 'acne', 'birth', 'month', 'taking', 'started']\n",
            "\n",
            "Topic 4:\n",
            "['pain', 'day', 'taking', 'days', 'took', 'doctor', 'severe', 'stomach', 'started', 'medication']\n",
            "\n",
            "Topic 5:\n",
            "['like', 'day', 'night', 'just', 'sleep', 'work', 'feel', 'time', 'took', 'don']\n",
            "\n"
          ]
        }
      ],
      "source": [
        "from sklearn.decomposition import LatentDirichletAllocation\n",
        "\n",
        "# Use CountVectorizer again\n",
        "vectorizer = CountVectorizer(stop_words='english', max_features=1000)\n",
        "X_counts = vectorizer.fit_transform(negative_reviews['review_cleaned'])\n",
        "\n",
        "# Initialize LDA\n",
        "lda = LatentDirichletAllocation(n_components=5, random_state=42)  # 5 topics\n",
        "lda.fit(X_counts)\n",
        "\n",
        "# Show top words per topic\n",
        "words = vectorizer.get_feature_names_out()\n",
        "for i, topic in enumerate(lda.components_):\n",
        "    top_words_idx = topic.argsort()[-10:][::-1]\n",
        "    print(f\"Topic {i+1}:\")\n",
        "    print([words[j] for j in top_words_idx])\n",
        "    print()\n"
      ]
    },
    {
      "cell_type": "code",
      "execution_count": null,
      "metadata": {},
      "outputs": [],
      "source": []
    }
  ],
  "metadata": {
    "colab": {
      "provenance": []
    },
    "kernelspec": {
      "display_name": "Python 3.12.2 ('base')",
      "language": "python",
      "name": "python3"
    },
    "language_info": {
      "codemirror_mode": {
        "name": "ipython",
        "version": 3
      },
      "file_extension": ".py",
      "mimetype": "text/x-python",
      "name": "python",
      "nbconvert_exporter": "python",
      "pygments_lexer": "ipython3",
      "version": "3.12.2"
    },
    "vscode": {
      "interpreter": {
        "hash": "40d3a090f54c6569ab1632332b64b2c03c39dcf918b08424e98f38b5ae0af88f"
      }
    }
  },
  "nbformat": 4,
  "nbformat_minor": 0
}
